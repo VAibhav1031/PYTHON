{
 "cells": [
  {
   "cell_type": "markdown",
   "id": "2ab9853f-1910-4d4c-8036-0b0ccca707cd",
   "metadata": {},
   "source": [
    "## Sorting Arrays "
   ]
  },
  {
   "cell_type": "code",
   "execution_count": 2,
   "id": "35c6efcf-cb48-45b7-b635-656f267f2cfe",
   "metadata": {},
   "outputs": [],
   "source": [
    "import numpy as np"
   ]
  },
  {
   "cell_type": "code",
   "execution_count": 3,
   "id": "b0f817e1-ec69-42b8-af41-c091b071ad85",
   "metadata": {},
   "outputs": [],
   "source": [
    "arr=np.array(['banana','almond','chocolate'])"
   ]
  },
  {
   "cell_type": "code",
   "execution_count": 5,
   "id": "2afd874e-6095-41aa-95c8-b211270ad7c2",
   "metadata": {},
   "outputs": [
    {
     "name": "stdout",
     "output_type": "stream",
     "text": [
      "['almond' 'banana' 'chocolate']\n"
     ]
    }
   ],
   "source": [
    "print(np.sort(arr))"
   ]
  },
  {
   "cell_type": "code",
   "execution_count": 6,
   "id": "b730b290-ee06-4b12-b2cb-ac87097176ce",
   "metadata": {},
   "outputs": [],
   "source": [
    "ar=np.array([False,True,True,False,True])"
   ]
  },
  {
   "cell_type": "code",
   "execution_count": 7,
   "id": "47f3b2fa-5997-48ba-8ac1-cadaca5a79b7",
   "metadata": {},
   "outputs": [
    {
     "name": "stdout",
     "output_type": "stream",
     "text": [
      "[False False  True  True  True]\n"
     ]
    }
   ],
   "source": [
    "print(np.sort(ar))"
   ]
  },
  {
   "cell_type": "code",
   "execution_count": 8,
   "id": "03bd999a-8f4c-4851-8c35-b7b115caae44",
   "metadata": {},
   "outputs": [],
   "source": [
    "# Let's  see the  sorting in the  2d array "
   ]
  },
  {
   "cell_type": "code",
   "execution_count": 9,
   "id": "e1be87a9-aa33-4d00-9c3e-38c11b8588cd",
   "metadata": {},
   "outputs": [],
   "source": [
    "arr2=np.array([[3,2,1,],[4,5,8]])"
   ]
  },
  {
   "cell_type": "code",
   "execution_count": 10,
   "id": "f3054fb7-5299-42ea-b177-1c08e87f7240",
   "metadata": {},
   "outputs": [
    {
     "name": "stdout",
     "output_type": "stream",
     "text": [
      "[[1 2 3]\n",
      " [4 5 8]]\n"
     ]
    }
   ],
   "source": [
    "print(np.sort(arr2))"
   ]
  },
  {
   "cell_type": "markdown",
   "id": "1eb26649-1468-4a4b-a625-71afae771902",
   "metadata": {},
   "source": [
    "## Iteration"
   ]
  },
  {
   "cell_type": "code",
   "execution_count": 12,
   "id": "1dbb1fb8-564a-46ad-b6e7-5cb0905142a5",
   "metadata": {},
   "outputs": [],
   "source": [
    "# if  we  have  iterate  to  the  elements  of the  array \n",
    "# we use the  for loops\n",
    "\n",
    "# see,"
   ]
  },
  {
   "cell_type": "code",
   "execution_count": 13,
   "id": "23bc5e8d-8b95-4e02-83e7-f2f247adbeec",
   "metadata": {},
   "outputs": [],
   "source": [
    "arr1=np.array([1,2,3,4,5,6,7,8,9])"
   ]
  },
  {
   "cell_type": "code",
   "execution_count": 14,
   "id": "abdcce71-184d-4cab-9f1e-faec6f234e42",
   "metadata": {},
   "outputs": [
    {
     "name": "stdout",
     "output_type": "stream",
     "text": [
      "1\n",
      "2\n",
      "3\n",
      "4\n",
      "5\n",
      "6\n",
      "7\n",
      "8\n",
      "9\n"
     ]
    }
   ],
   "source": [
    "for x in arr1:\n",
    "    print(x)"
   ]
  },
  {
   "cell_type": "code",
   "execution_count": 17,
   "id": "136bf076-9f99-434c-92b7-604592cee68c",
   "metadata": {},
   "outputs": [],
   "source": [
    "arr2=np.array([[1,2,3,4],[5,6,7,9]])"
   ]
  },
  {
   "cell_type": "code",
   "execution_count": 18,
   "id": "cf1f5ebb-2f43-4c86-b58d-3dde146e9578",
   "metadata": {},
   "outputs": [
    {
     "name": "stdout",
     "output_type": "stream",
     "text": [
      "[1 2 3 4]\n",
      "[5 6 7 9]\n"
     ]
    }
   ],
   "source": [
    "for x in arr2:\n",
    "    print(x)"
   ]
  },
  {
   "cell_type": "code",
   "execution_count": 20,
   "id": "f1253a7d-c22d-4a5c-95e9-cb0d92b26348",
   "metadata": {},
   "outputs": [],
   "source": [
    "# same for  3d one\n",
    "arr3=np.array([[[2,5,8,9],[11,24,48,58]],[[54,78,14,26],[1,4,7,8]]])"
   ]
  },
  {
   "cell_type": "code",
   "execution_count": 22,
   "id": "59756093-5502-4701-a4d2-4b9d789c8256",
   "metadata": {},
   "outputs": [
    {
     "name": "stdout",
     "output_type": "stream",
     "text": [
      "[[ 2  5  8  9]\n",
      " [11 24 48 58]]\n",
      "[[54 78 14 26]\n",
      " [ 1  4  7  8]]\n"
     ]
    }
   ],
   "source": [
    "for x in arr3:\n",
    "    print(x)"
   ]
  },
  {
   "cell_type": "code",
   "execution_count": null,
   "id": "883e7149-481b-4643-b617-4cff22fea980",
   "metadata": {},
   "outputs": [],
   "source": []
  },
  {
   "cell_type": "code",
   "execution_count": 23,
   "id": "23f10e27-7a6f-49cc-99ec-23bf74252151",
   "metadata": {},
   "outputs": [],
   "source": [
    "# if we  have  to  iterate  down to  the  scalar unit in nd array then we have to use \n",
    "# the nested loop here"
   ]
  },
  {
   "cell_type": "code",
   "execution_count": 24,
   "id": "a77a3386-724e-4637-8c0e-bbc94ddd3165",
   "metadata": {},
   "outputs": [
    {
     "name": "stdout",
     "output_type": "stream",
     "text": [
      "1\n",
      "2\n",
      "3\n",
      "4\n",
      "5\n",
      "6\n",
      "7\n",
      "9\n"
     ]
    }
   ],
   "source": [
    "for x in arr2:\n",
    "    for y  in x:\n",
    "        print(y)"
   ]
  },
  {
   "cell_type": "code",
   "execution_count": 25,
   "id": "6b1a9382-9caa-4c55-9ca6-fa3b86a277fd",
   "metadata": {},
   "outputs": [
    {
     "name": "stdout",
     "output_type": "stream",
     "text": [
      "2\n",
      "5\n",
      "8\n",
      "9\n",
      "11\n",
      "24\n",
      "48\n",
      "58\n",
      "54\n",
      "78\n",
      "14\n",
      "26\n",
      "1\n",
      "4\n",
      "7\n",
      "8\n"
     ]
    }
   ],
   "source": [
    "for x in arr3:\n",
    "    for y in x:\n",
    "        for z in y:\n",
    "            print(z)"
   ]
  },
  {
   "cell_type": "code",
   "execution_count": 28,
   "id": "4680f50b-e97f-4606-b8cd-41aa41cc0157",
   "metadata": {},
   "outputs": [],
   "source": [
    "arr4=np.array([[[[2,5,8,9],[11,24,48,58]],[[54,78,14,26],[1,4,7,8]]],[[[2,5,8,9],[11,24,48,58]],[[54,78,14,26],[1,4,7,8]]]])"
   ]
  },
  {
   "cell_type": "code",
   "execution_count": 31,
   "id": "682fb4f2-3299-4eef-81ba-4406eeec6846",
   "metadata": {},
   "outputs": [
    {
     "name": "stdout",
     "output_type": "stream",
     "text": [
      "2\n",
      "5\n",
      "8\n",
      "9\n",
      "11\n",
      "24\n",
      "48\n",
      "58\n",
      "54\n",
      "78\n",
      "14\n",
      "26\n",
      "1\n",
      "4\n",
      "7\n",
      "8\n",
      "2\n",
      "5\n",
      "8\n",
      "9\n",
      "11\n",
      "24\n",
      "48\n",
      "58\n",
      "54\n",
      "78\n",
      "14\n",
      "26\n",
      "1\n",
      "4\n",
      "7\n",
      "8\n"
     ]
    }
   ],
   "source": [
    "for x in arr4:\n",
    "    for y in x:\n",
    "        for z in y:\n",
    "            for a in z:\n",
    "                print(a)"
   ]
  },
  {
   "cell_type": "code",
   "execution_count": 32,
   "id": "ba43be8b-47fa-41bf-8600-1540078b338d",
   "metadata": {},
   "outputs": [],
   "source": [
    "# here you  can  see that"
   ]
  },
  {
   "cell_type": "code",
   "execution_count": 33,
   "id": "a39254c8-68dd-4492-ada2-4ed10551c059",
   "metadata": {},
   "outputs": [],
   "source": [
    "# ok but   one  thing  arises in your mind like  if we got big array more than 4d array\n",
    "# then it will be more difficult to do that  and one thing more  it will become  more \n",
    "# system intensive(or requirement increases"
   ]
  },
  {
   "cell_type": "code",
   "execution_count": 34,
   "id": "f09861ac-5a16-4fea-921a-8065669184ea",
   "metadata": {},
   "outputs": [],
   "source": [
    "# to solve  problem  with high dimensionality we use ---> nditer()"
   ]
  },
  {
   "cell_type": "markdown",
   "id": "4da592b7-d095-4a3b-b6e4-0cf6bbec9cad",
   "metadata": {},
   "source": [
    "## nditer() method"
   ]
  },
  {
   "cell_type": "code",
   "execution_count": 35,
   "id": "1fab45a0-4e2f-4b84-93c6-5a6318a93f83",
   "metadata": {},
   "outputs": [
    {
     "name": "stdout",
     "output_type": "stream",
     "text": [
      "1\n",
      "2\n",
      "3\n",
      "4\n",
      "5\n",
      "6\n",
      "7\n",
      "9\n"
     ]
    }
   ],
   "source": [
    "for x in np.nditer(arr2):\n",
    "    print(x)"
   ]
  },
  {
   "cell_type": "code",
   "execution_count": 38,
   "id": "4700dad4-7828-4603-9450-55aafa4a58d8",
   "metadata": {},
   "outputs": [],
   "source": [
    "# let's go  with  3d array"
   ]
  },
  {
   "cell_type": "code",
   "execution_count": 40,
   "id": "c48efbfe-ed50-4df5-80da-458cbd389ac1",
   "metadata": {},
   "outputs": [
    {
     "name": "stdout",
     "output_type": "stream",
     "text": [
      "2\n",
      "5\n",
      "8\n",
      "9\n",
      "54\n",
      "78\n",
      "14\n",
      "26\n"
     ]
    }
   ],
   "source": [
    "for x in np.nditer(arr3[:,::2]):\n",
    "    print(x)"
   ]
  },
  {
   "cell_type": "markdown",
   "id": "6eaa2628-4f00-4983-a83d-b26f6e10e036",
   "metadata": {},
   "source": [
    "## Searching"
   ]
  },
  {
   "cell_type": "code",
   "execution_count": 48,
   "id": "065a7710-17e2-47cf-a38b-cc4001f67098",
   "metadata": {},
   "outputs": [],
   "source": [
    "a=np.array([1,2,4,5,6,7,2,8,9])"
   ]
  },
  {
   "cell_type": "code",
   "execution_count": 49,
   "id": "b4e5f151-c3ea-469f-9c63-2d611e17282f",
   "metadata": {},
   "outputs": [],
   "source": [
    "x=np.where(a==2)"
   ]
  },
  {
   "cell_type": "code",
   "execution_count": 51,
   "id": "d471e3d8-0bbb-484d-83e6-8bad7c3b0f6f",
   "metadata": {},
   "outputs": [
    {
     "name": "stdout",
     "output_type": "stream",
     "text": [
      "(array([1, 6]),)\n"
     ]
    }
   ],
   "source": [
    "print(x)"
   ]
  },
  {
   "cell_type": "code",
   "execution_count": 52,
   "id": "b9a2d2f6-e816-4136-84af-74211b5c2281",
   "metadata": {},
   "outputs": [],
   "source": [
    "# one  thing we  can  do more  like if  we want  to  have only even  numbers"
   ]
  },
  {
   "cell_type": "code",
   "execution_count": 53,
   "id": "1705aaef-3a86-4ddf-9630-f9117ad2ac0b",
   "metadata": {},
   "outputs": [],
   "source": [
    "ev=np.where(a%2==0)"
   ]
  },
  {
   "cell_type": "code",
   "execution_count": 55,
   "id": "71b7d57e-00c5-4d6d-a0c1-a03c06af8d06",
   "metadata": {},
   "outputs": [
    {
     "name": "stdout",
     "output_type": "stream",
     "text": [
      "(array([1, 2, 4, 6, 7]),)\n"
     ]
    }
   ],
   "source": [
    "print(ev) # it returns indexes where the value are even"
   ]
  },
  {
   "cell_type": "code",
   "execution_count": 57,
   "id": "8b73d8e3-9688-4e7e-9bbf-e4f165a7fda9",
   "metadata": {},
   "outputs": [],
   "source": [
    "od=np.where(a%2!=0)"
   ]
  },
  {
   "cell_type": "code",
   "execution_count": 58,
   "id": "7c1587c5-eca2-479c-872d-fcbf51ac77dc",
   "metadata": {},
   "outputs": [
    {
     "data": {
      "text/plain": [
       "(array([0, 3, 5, 8]),)"
      ]
     },
     "execution_count": 58,
     "metadata": {},
     "output_type": "execute_result"
    }
   ],
   "source": [
    "od"
   ]
  },
  {
   "cell_type": "code",
   "execution_count": null,
   "id": "2dba5add-2e6b-4ac9-91f7-5b508bdacb87",
   "metadata": {},
   "outputs": [],
   "source": []
  },
  {
   "cell_type": "markdown",
   "id": "242ed6e1-7b69-44fc-98fa-58fba3c8dcc4",
   "metadata": {},
   "source": [
    "## Search Sorted:\n",
    "\n",
    "#### •Searchsorted() method performs binary search in array\n",
    "#### •Returns the index at which specified value should be present to maintain order\n",
    "#### •Assumes the array"
   ]
  },
  {
   "cell_type": "code",
   "execution_count": 60,
   "id": "247d5d72-3a99-4a2a-987e-c6a222acaeb2",
   "metadata": {},
   "outputs": [],
   "source": [
    "# so we need just  sorted  array to do so"
   ]
  },
  {
   "cell_type": "code",
   "execution_count": 61,
   "id": "a6e73fdf-f031-45ce-b983-34f625ab6c58",
   "metadata": {},
   "outputs": [],
   "source": [
    "arr=np.array([1,2,3,4,5,6,7,8,9])"
   ]
  },
  {
   "cell_type": "code",
   "execution_count": 62,
   "id": "3723a6b1-0da1-499d-b887-be2d5bdb4e09",
   "metadata": {},
   "outputs": [],
   "source": [
    "x=np.searchsorted(arr,7)"
   ]
  },
  {
   "cell_type": "code",
   "execution_count": 63,
   "id": "bf4abff4-4638-404e-a6dc-caf324b3dce4",
   "metadata": {},
   "outputs": [
    {
     "data": {
      "text/plain": [
       "6"
      ]
     },
     "execution_count": 63,
     "metadata": {},
     "output_type": "execute_result"
    }
   ],
   "source": [
    "x"
   ]
  },
  {
   "cell_type": "code",
   "execution_count": 68,
   "id": "7f42e9be-fd62-4520-9191-95ae8f453cd4",
   "metadata": {},
   "outputs": [],
   "source": [
    "# i f  we  search  any element  which is not been in the array then it will retuurn \n",
    "# the  value equal to the size of the  array  indicating it is  not been  available"
   ]
  },
  {
   "cell_type": "code",
   "execution_count": 69,
   "id": "f0bfeaa7-915a-4eb9-a0b9-54fc505c3419",
   "metadata": {},
   "outputs": [
    {
     "data": {
      "text/plain": [
       "9"
      ]
     },
     "execution_count": 69,
     "metadata": {},
     "output_type": "execute_result"
    }
   ],
   "source": [
    "np.searchsorted(arr,120)"
   ]
  },
  {
   "cell_type": "code",
   "execution_count": 70,
   "id": "4a737555-2476-4ba5-837e-4c578269eaec",
   "metadata": {},
   "outputs": [],
   "source": [
    "s=np.searchsorted(arr,[4,9])"
   ]
  },
  {
   "cell_type": "code",
   "execution_count": 71,
   "id": "5453cb9c-6a8d-4dc2-8ff6-50fb6e74fcc5",
   "metadata": {},
   "outputs": [
    {
     "data": {
      "text/plain": [
       "array([3, 8])"
      ]
     },
     "execution_count": 71,
     "metadata": {},
     "output_type": "execute_result"
    }
   ],
   "source": [
    "s # show index where these values are availablel"
   ]
  },
  {
   "cell_type": "code",
   "execution_count": 72,
   "id": "94682772-fbfe-4110-9a76-adaf31c7b39f",
   "metadata": {},
   "outputs": [],
   "source": [
    "# Always  remembered  you can   only use searchsorted if the array is sorted "
   ]
  },
  {
   "cell_type": "code",
   "execution_count": 73,
   "id": "3d60bd71-bebd-44e3-b2b4-70d97ffb3e50",
   "metadata": {},
   "outputs": [],
   "source": [
    "x=np.array([1,3,2,1,2,5,32,56,21,67])"
   ]
  },
  {
   "cell_type": "code",
   "execution_count": 74,
   "id": "8ab97cf0-ff14-4814-944c-e3fd3edaeca2",
   "metadata": {},
   "outputs": [],
   "source": [
    "x_=np.sort(x)"
   ]
  },
  {
   "cell_type": "code",
   "execution_count": 75,
   "id": "712129f3-af24-4577-bb64-a996666277f2",
   "metadata": {},
   "outputs": [
    {
     "data": {
      "text/plain": [
       "array([ 1,  1,  2,  2,  3,  5, 21, 32, 56, 67])"
      ]
     },
     "execution_count": 75,
     "metadata": {},
     "output_type": "execute_result"
    }
   ],
   "source": [
    "x_"
   ]
  },
  {
   "cell_type": "code",
   "execution_count": 76,
   "id": "fa99b59e-b4cd-46c2-ac28-5475ff8fe30b",
   "metadata": {},
   "outputs": [],
   "source": [
    "ss=np.searchsorted(x_,2)"
   ]
  },
  {
   "cell_type": "code",
   "execution_count": 77,
   "id": "1343cabe-ad5b-46dd-acc8-b97ebe1e1ef7",
   "metadata": {},
   "outputs": [
    {
     "data": {
      "text/plain": [
       "2"
      ]
     },
     "execution_count": 77,
     "metadata": {},
     "output_type": "execute_result"
    }
   ],
   "source": [
    "ss"
   ]
  },
  {
   "cell_type": "code",
   "execution_count": null,
   "id": "39730bbe-d2dc-4eeb-987a-a02222de851d",
   "metadata": {},
   "outputs": [],
   "source": []
  }
 ],
 "metadata": {
  "kernelspec": {
   "display_name": "Python 3 (ipykernel)",
   "language": "python",
   "name": "python3"
  },
  "language_info": {
   "codemirror_mode": {
    "name": "ipython",
    "version": 3
   },
   "file_extension": ".py",
   "mimetype": "text/x-python",
   "name": "python",
   "nbconvert_exporter": "python",
   "pygments_lexer": "ipython3",
   "version": "3.12.2"
  }
 },
 "nbformat": 4,
 "nbformat_minor": 5
}
