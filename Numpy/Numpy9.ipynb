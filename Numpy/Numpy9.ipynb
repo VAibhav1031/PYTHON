{
 "cells": [
  {
   "cell_type": "code",
   "execution_count": 1,
   "id": "a460dedc-bb0f-4132-a63c-b1613c76e961",
   "metadata": {},
   "outputs": [],
   "source": [
    "import numpy as np"
   ]
  },
  {
   "cell_type": "code",
   "execution_count": 2,
   "id": "aadb0d5e-c29a-416e-9684-f5e92ce45411",
   "metadata": {},
   "outputs": [],
   "source": [
    "n=np.random.rand(40).reshape(8,5)"
   ]
  },
  {
   "cell_type": "code",
   "execution_count": 3,
   "id": "dacfb565-5f51-4ecf-a65f-af65e8d85667",
   "metadata": {},
   "outputs": [
    {
     "data": {
      "text/plain": [
       "array([[0.87025493, 0.68287549, 0.88614305, 0.8607226 , 0.51597958],\n",
       "       [0.35477773, 0.46037308, 0.88735216, 0.01026235, 0.33425966],\n",
       "       [0.35139093, 0.86761118, 0.49658007, 0.87249379, 0.17361579],\n",
       "       [0.83981457, 0.33314068, 0.59671533, 0.85261432, 0.99228341],\n",
       "       [0.56747929, 0.54909246, 0.73328361, 0.10576568, 0.06890995],\n",
       "       [0.58669119, 0.80607588, 0.05520358, 0.61063983, 0.88525627],\n",
       "       [0.67380493, 0.91111071, 0.90852639, 0.30331306, 0.10155455],\n",
       "       [0.28013241, 0.89649132, 0.99457605, 0.34944005, 0.17945375]])"
      ]
     },
     "execution_count": 3,
     "metadata": {},
     "output_type": "execute_result"
    }
   ],
   "source": [
    "n"
   ]
  },
  {
   "cell_type": "code",
   "execution_count": 4,
   "id": "17e3db71-b104-41b9-affc-cc3b2b6dce48",
   "metadata": {},
   "outputs": [],
   "source": [
    "b=np.random.rand(1400).reshape(200,7)"
   ]
  },
  {
   "cell_type": "code",
   "execution_count": 5,
   "id": "98d4e9ef-f3da-4a20-ac22-d11d069454cf",
   "metadata": {},
   "outputs": [
    {
     "data": {
      "text/plain": [
       "array([[0.6778732 , 0.31172236, 0.74680501, ..., 0.21352183, 0.9011146 ,\n",
       "        0.47517196],\n",
       "       [0.84335723, 0.53473338, 0.21520741, ..., 0.65867256, 0.92783157,\n",
       "        0.44857571],\n",
       "       [0.75161001, 0.09214731, 0.1999283 , ..., 0.34651328, 0.3331998 ,\n",
       "        0.06573145],\n",
       "       ...,\n",
       "       [0.71105014, 0.70196388, 0.75505689, ..., 0.81642561, 0.44429224,\n",
       "        0.00673568],\n",
       "       [0.59293748, 0.97194876, 0.01275051, ..., 0.77805637, 0.15702545,\n",
       "        0.62822931],\n",
       "       [0.05308002, 0.6352957 , 0.6395776 , ..., 0.51235327, 0.45008809,\n",
       "        0.63446289]])"
      ]
     },
     "execution_count": 5,
     "metadata": {},
     "output_type": "execute_result"
    }
   ],
   "source": [
    "b"
   ]
  },
  {
   "cell_type": "code",
   "execution_count": 9,
   "id": "04f2648d-b743-4275-995a-b134428a9f3f",
   "metadata": {},
   "outputs": [],
   "source": [
    "np.random.seed(20)"
   ]
  },
  {
   "cell_type": "code",
   "execution_count": 11,
   "id": "7cdf470a-4626-40c4-8111-a85b7f3ac855",
   "metadata": {},
   "outputs": [],
   "source": [
    "cbrt = np.cbrt(7)"
   ]
  },
  {
   "cell_type": "code",
   "execution_count": 12,
   "id": "af10cbe1-b118-4de1-9af0-b5adad78d84f",
   "metadata": {},
   "outputs": [],
   "source": [
    "nd=200"
   ]
  },
  {
   "cell_type": "code",
   "execution_count": 13,
   "id": "9fc1ba6b-ab04-4ff5-919f-b9545b8cbc42",
   "metadata": {},
   "outputs": [],
   "source": [
    "p=cbrt*np.random.randn(10,4)+nd"
   ]
  },
  {
   "cell_type": "code",
   "execution_count": 14,
   "id": "29cd00ce-1ec0-4a8b-b96b-abb76980f46c",
   "metadata": {},
   "outputs": [
    {
     "data": {
      "text/plain": [
       "array([[201.6908267 , 200.37467631, 200.68394275, 195.51750123],\n",
       "       [197.92478992, 201.07066048, 201.79714021, 198.1282331 ],\n",
       "       [200.96238963, 200.77744291, 200.61875865, 199.05613894],\n",
       "       [198.48492638, 198.38860811, 197.55239946, 200.47003621],\n",
       "       [199.91545839, 202.99877319, 202.01069857, 200.77735483],\n",
       "       [199.67739161, 193.89831807, 202.14273593, 202.54951299],\n",
       "       [199.53450969, 199.7512602 , 199.79145727, 202.97687757],\n",
       "       [200.24634413, 196.04606934, 198.30611253, 197.88701546],\n",
       "       [201.78450912, 203.94032834, 198.21152803, 196.91446071],\n",
       "       [201.0082481 , 197.03285104, 200.63052763, 197.82590294]])"
      ]
     },
     "execution_count": 14,
     "metadata": {},
     "output_type": "execute_result"
    }
   ],
   "source": [
    "p"
   ]
  },
  {
   "cell_type": "code",
   "execution_count": 15,
   "id": "fc6030ea-9594-463c-9a76-3f8b26b57781",
   "metadata": {},
   "outputs": [
    {
     "name": "stdout",
     "output_type": "stream",
     "text": [
      "[2 2 1 5 2]\n"
     ]
    }
   ],
   "source": [
    "print(np.random.choice(7,5)) # uniform  distirbution with replacement means(a  random 5  number will be choosen from 0 to 6 where 7 is \n",
    "                            # exclusive and with  replacement mean's there can be repetition"
   ]
  },
  {
   "cell_type": "code",
   "execution_count": 18,
   "id": "b7caf06e-759b-4c62-8725-e8294ee8fb38",
   "metadata": {},
   "outputs": [
    {
     "name": "stdout",
     "output_type": "stream",
     "text": [
      "[2 5 6 1 0]\n"
     ]
    }
   ],
   "source": [
    "print(np.random.choice(7,5,replace=False))  # same thing  happening as above  the  difference is there is no replacement "
   ]
  },
  {
   "cell_type": "code",
   "execution_count": 20,
   "id": "585413e8-d302-4a85-a895-25b80e44b703",
   "metadata": {},
   "outputs": [
    {
     "name": "stdout",
     "output_type": "stream",
     "text": [
      "[6 4 3 4 3]\n"
     ]
    }
   ],
   "source": [
    "print(np.random.choice(7,5,p=[0.1,0.2,0,0.2,0.4,0,0.1]))"
   ]
  },
  {
   "cell_type": "code",
   "execution_count": 21,
   "id": "a75e12d0-1d5c-4669-99b0-ecc1728bc7d8",
   "metadata": {},
   "outputs": [
    {
     "name": "stdout",
     "output_type": "stream",
     "text": [
      "[4 3 1 6 0]\n"
     ]
    }
   ],
   "source": [
    "print(np.random.choice(7,5,p=[0.1,0.2,0,0.2,0.4,0,0.1],replace=False))"
   ]
  },
  {
   "cell_type": "code",
   "execution_count": 22,
   "id": "0b5bddd2-8710-45d9-b4be-70a0f4b76653",
   "metadata": {},
   "outputs": [],
   "source": [
    " # create a 4x4 array with random values. Create an array from the said array swapping first and last rows."
   ]
  },
  {
   "cell_type": "code",
   "execution_count": 46,
   "id": "d8544129-26e4-4404-ae81-856abe337031",
   "metadata": {},
   "outputs": [],
   "source": [
    "l=np.random.rand(4,4)"
   ]
  },
  {
   "cell_type": "code",
   "execution_count": 47,
   "id": "0aec8710-680a-4de1-a8fe-06f43efcfa83",
   "metadata": {},
   "outputs": [
    {
     "data": {
      "text/plain": [
       "array([[0.89977262, 0.30895331, 0.70846117, 0.55865405],\n",
       "       [0.32061787, 0.04484752, 0.27340273, 0.91643122],\n",
       "       [0.5614796 , 0.12213067, 0.56300901, 0.39454507],\n",
       "       [0.53788406, 0.29449138, 0.50623315, 0.64353587]])"
      ]
     },
     "execution_count": 47,
     "metadata": {},
     "output_type": "execute_result"
    }
   ],
   "source": [
    "l"
   ]
  },
  {
   "cell_type": "code",
   "execution_count": 48,
   "id": "c19c1368-1a7e-4383-b2bc-6c33f45a111b",
   "metadata": {},
   "outputs": [],
   "source": [
    "# so  we  have  to   now  swapp the  first  row and  last row"
   ]
  },
  {
   "cell_type": "code",
   "execution_count": 49,
   "id": "9cd35000-e396-4a34-a4f9-b50ea77815d3",
   "metadata": {},
   "outputs": [],
   "source": [
    "t=np.copy(l[0])\n",
    "l[0]=l[-1]\n",
    "l[-1]=t"
   ]
  },
  {
   "cell_type": "code",
   "execution_count": 52,
   "id": "08a74cd8-cf33-4686-ae4b-a88e94c6c7a2",
   "metadata": {},
   "outputs": [
    {
     "data": {
      "text/plain": [
       "array([[0.53788406, 0.29449138, 0.50623315, 0.64353587],\n",
       "       [0.32061787, 0.04484752, 0.27340273, 0.91643122],\n",
       "       [0.5614796 , 0.12213067, 0.56300901, 0.39454507],\n",
       "       [0.89977262, 0.30895331, 0.70846117, 0.55865405]])"
      ]
     },
     "execution_count": 52,
     "metadata": {},
     "output_type": "execute_result"
    }
   ],
   "source": [
    "l"
   ]
  },
  {
   "cell_type": "code",
   "execution_count": null,
   "id": "244735d3-ddc9-4dbc-ab1d-501a02fca8f0",
   "metadata": {},
   "outputs": [],
   "source": []
  },
  {
   "cell_type": "code",
   "execution_count": null,
   "id": "cc781ef9-0ece-4fe5-b881-fc2aebab2e91",
   "metadata": {},
   "outputs": [],
   "source": []
  },
  {
   "cell_type": "code",
   "execution_count": null,
   "id": "971ffdef-7eaa-4096-82e9-e3b3953baff7",
   "metadata": {},
   "outputs": [],
   "source": []
  },
  {
   "cell_type": "code",
   "execution_count": null,
   "id": "b7a7059d-d6f9-4bbd-acdb-4b900f751bc9",
   "metadata": {},
   "outputs": [],
   "source": []
  },
  {
   "cell_type": "code",
   "execution_count": null,
   "id": "3ef2f9bc-224f-405d-bff0-f8cc52594944",
   "metadata": {},
   "outputs": [],
   "source": []
  }
 ],
 "metadata": {
  "kernelspec": {
   "display_name": "Python 3 (ipykernel)",
   "language": "python",
   "name": "python3"
  },
  "language_info": {
   "codemirror_mode": {
    "name": "ipython",
    "version": 3
   },
   "file_extension": ".py",
   "mimetype": "text/x-python",
   "name": "python",
   "nbconvert_exporter": "python",
   "pygments_lexer": "ipython3",
   "version": "3.12.2"
  }
 },
 "nbformat": 4,
 "nbformat_minor": 5
}
