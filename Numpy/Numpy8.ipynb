{
 "cells": [
  {
   "cell_type": "code",
   "execution_count": 1,
   "id": "b7597dc5-a1d4-47b7-aa6b-7a1f7a3c7729",
   "metadata": {},
   "outputs": [],
   "source": [
    "import numpy as np"
   ]
  },
  {
   "cell_type": "code",
   "execution_count": 2,
   "id": "c12dc67a-acf6-43b4-84d4-7a230fe4efa5",
   "metadata": {},
   "outputs": [],
   "source": [
    "# save the  given  array into  binary file"
   ]
  },
  {
   "cell_type": "code",
   "execution_count": 3,
   "id": "5a746383-a6e1-4781-a618-6a697db91621",
   "metadata": {},
   "outputs": [],
   "source": [
    "s=np.arange(14,35)"
   ]
  },
  {
   "cell_type": "code",
   "execution_count": 4,
   "id": "df6d7132-93d1-4d04-9a6a-75087792b88d",
   "metadata": {},
   "outputs": [
    {
     "data": {
      "text/plain": [
       "array([14, 15, 16, 17, 18, 19, 20, 21, 22, 23, 24, 25, 26, 27, 28, 29, 30,\n",
       "       31, 32, 33, 34])"
      ]
     },
     "execution_count": 4,
     "metadata": {},
     "output_type": "execute_result"
    }
   ],
   "source": [
    "s"
   ]
  },
  {
   "cell_type": "code",
   "execution_count": 6,
   "id": "bbaab1fc-c4d7-4631-b278-2e8a8584dcb4",
   "metadata": {},
   "outputs": [],
   "source": [
    "np.save(\"New.npy\",s)"
   ]
  },
  {
   "cell_type": "code",
   "execution_count": 10,
   "id": "b8763374-23df-4513-82e1-556c33909f3e",
   "metadata": {},
   "outputs": [
    {
     "name": "stdout",
     "output_type": "stream",
     "text": [
      "True\n"
     ]
    }
   ],
   "source": [
    "import os\n",
    "if os.path.exists(\"New.npy\"):\n",
    "    x=np.load(\"New.npy\")  # load  is used to  load the  file  from the  destination\n",
    "    print(np.array_equal(s,x)) #Checking if the  loaded file  is same  as the  original file"
   ]
  },
  {
   "cell_type": "code",
   "execution_count": 20,
   "id": "abd0c729-eab9-4d55-8ebe-f54d842b174f",
   "metadata": {},
   "outputs": [],
   "source": [
    "# Do the  same  thing  but  difference  is  to save the  file  in  the  text  format ( please  you should  syntax of  doing will be \n",
    "# different"
   ]
  },
  {
   "cell_type": "code",
   "execution_count": 21,
   "id": "5e7196eb-3ba8-4779-ad4d-81d48073f521",
   "metadata": {},
   "outputs": [],
   "source": [
    "k=np.arange(12).reshape(4,3)"
   ]
  },
  {
   "cell_type": "code",
   "execution_count": 22,
   "id": "38580a2b-a61b-446f-86f3-83842474602c",
   "metadata": {},
   "outputs": [],
   "source": [
    "header=\"col1 col2 col3\""
   ]
  },
  {
   "cell_type": "code",
   "execution_count": 23,
   "id": "daeb145c-781a-416a-9729-717aaf8a3dc2",
   "metadata": {},
   "outputs": [],
   "source": [
    "np.savetxt(\"hey.txt\",k,fmt=\"%d\",header=header)"
   ]
  },
  {
   "cell_type": "code",
   "execution_count": 25,
   "id": "16662d32-f240-4016-a352-194fb5a51f67",
   "metadata": {},
   "outputs": [],
   "source": [
    "rslt=np.loadtxt(\"hey.txt\")"
   ]
  },
  {
   "cell_type": "code",
   "execution_count": 26,
   "id": "2deb70b2-b3c8-4cd6-aa99-bca70a141e0f",
   "metadata": {},
   "outputs": [
    {
     "name": "stdout",
     "output_type": "stream",
     "text": [
      "[[ 0.  1.  2.]\n",
      " [ 3.  4.  5.]\n",
      " [ 6.  7.  8.]\n",
      " [ 9. 10. 11.]]\n"
     ]
    }
   ],
   "source": [
    "print(rslt)"
   ]
  },
  {
   "cell_type": "code",
   "execution_count": 27,
   "id": "aa6d27e7-e63b-456d-a5d9-d254ef5f021c",
   "metadata": {},
   "outputs": [],
   "source": [
    "# program to convert a given list into an array, then again convert it into a list. Check initial list and final list are equal or not."
   ]
  },
  {
   "cell_type": "code",
   "execution_count": 28,
   "id": "f5828677-6e3c-4b43-960d-7cc8ccaa04a9",
   "metadata": {},
   "outputs": [],
   "source": [
    "g=[2,4,8,9,12]\n",
    "g1=np.array(g)"
   ]
  },
  {
   "cell_type": "code",
   "execution_count": 30,
   "id": "c40eca74-5fa2-43b5-935e-9871efe81cf7",
   "metadata": {},
   "outputs": [],
   "source": [
    "a=g1.tolist()"
   ]
  },
  {
   "cell_type": "code",
   "execution_count": 31,
   "id": "5e9260c4-c62b-4cdb-9d93-1ad1f8705604",
   "metadata": {},
   "outputs": [
    {
     "name": "stdout",
     "output_type": "stream",
     "text": [
      "True\n"
     ]
    }
   ],
   "source": [
    "print(a==g)"
   ]
  },
  {
   "cell_type": "code",
   "execution_count": 32,
   "id": "74e58e80-1ef9-4ac5-9361-1421066c5dc2",
   "metadata": {},
   "outputs": [],
   "source": [
    "import matplotlib.pyplot as plt\n"
   ]
  },
  {
   "cell_type": "code",
   "execution_count": 47,
   "id": "0daed0de-7174-4b25-96f5-81b58f4e9e2c",
   "metadata": {},
   "outputs": [],
   "source": [
    "x=np.arange(0,3*np.pi,0.2)   # so  here we must  see  how  to   give the   things like using  arange  to  give the values to  x \n",
    "                               # 0.3 - start  ,3*np.pi -  stop and  0.2 - Stop  value"
   ]
  },
  {
   "cell_type": "code",
   "execution_count": 48,
   "id": "9de5537a-8442-4f10-a646-e3a8253457c8",
   "metadata": {},
   "outputs": [],
   "source": [
    "y=np.sin(x)"
   ]
  },
  {
   "cell_type": "code",
   "execution_count": 49,
   "id": "907b2625-8c3c-463e-865f-85374b9e6892",
   "metadata": {},
   "outputs": [
    {
     "name": "stdout",
     "output_type": "stream",
     "text": [
      "[<matplotlib.lines.Line2D object at 0x7f56db982ba0>]\n"
     ]
    },
    {
     "data": {
      "image/png": "[encoded data removed]",
      "text/plain": [
       "<Figure size 640x480 with 1 Axes>"
      ]
     },
     "metadata": {},
     "output_type": "display_data"
    }
   ],
   "source": [
    "print(plt.plot(x,y))"
   ]
  },
  {
   "cell_type": "code",
   "execution_count": 50,
   "id": "769fb7dd-e630-47d2-a336-16d98f0736ca",
   "metadata": {},
   "outputs": [],
   "source": [
    "# convert numpy dtypes to native Python types"
   ]
  },
  {
   "cell_type": "code",
   "execution_count": 54,
   "id": "c0d2ee16-d812-4a86-a2b7-e5ffecbb8d80",
   "metadata": {},
   "outputs": [
    {
     "data": {
      "text/plain": [
       "numpy.float32"
      ]
     },
     "execution_count": 54,
     "metadata": {},
     "output_type": "execute_result"
    }
   ],
   "source": [
    "a=np.float32(0)\n",
    "type(a)"
   ]
  },
  {
   "cell_type": "code",
   "execution_count": 56,
   "id": "60d62333-e1a9-4cf3-abdd-e63ef2a9c262",
   "metadata": {},
   "outputs": [
    {
     "data": {
      "text/plain": [
       "float"
      ]
     },
     "execution_count": 56,
     "metadata": {},
     "output_type": "execute_result"
    }
   ],
   "source": [
    "py=a.item()\n",
    "type(py)"
   ]
  },
  {
   "cell_type": "code",
   "execution_count": 57,
   "id": "4b2d4dd6-ece7-4a52-b6eb-3025168e1d12",
   "metadata": {},
   "outputs": [],
   "source": [
    "# np.float32(0) creates a NumPy scalar of data type float32 stores in the variable 'x' and initializes it with the value 0.\n",
    "\n",
    "# print(type(x)) prints the type of 'x', which is a NumPy scalar type: .\n",
    "\n",
    "# The x.item() statement converts the NumPy scalar 'x' to a Python native type using the 'item()' method. In this case, the Python native type is 'float'. The result is stored in the variable 'pyval'.\n",
    "\n",
    "# The print(type(pyval)) statement prints the type of 'pyval', which is a Python native type: ."
   ]
  },
  {
   "cell_type": "code",
   "execution_count": null,
   "id": "bb4f8c85-d62b-401c-a434-23d097aacd61",
   "metadata": {},
   "outputs": [],
   "source": [
    " # NumPy program to add elements to a matrix. If an element in the matrix is 0, we will not add the element below this element."
   ]
  },
  {
   "cell_type": "code",
   "execution_count": 59,
   "id": "464b65e8-1979-42f0-95c3-870b3ce5b0ab",
   "metadata": {},
   "outputs": [],
   "source": [
    "l=np.array([[1,2,3],\n",
    "            [0,3,5],\n",
    "            [6,2,9]])"
   ]
  },
  {
   "cell_type": "code",
   "execution_count": 60,
   "id": "6bd0d380-49b7-40ad-af8f-7a474d50feeb",
   "metadata": {},
   "outputs": [
    {
     "data": {
      "text/plain": [
       "array([[1, 2, 3],\n",
       "       [0, 3, 5],\n",
       "       [6, 2, 9]])"
      ]
     },
     "execution_count": 60,
     "metadata": {},
     "output_type": "execute_result"
    }
   ],
   "source": [
    "l"
   ]
  },
  {
   "cell_type": "code",
   "execution_count": 66,
   "id": "5745f31f-3b8e-43c8-aab8-bca66dfad546",
   "metadata": {},
   "outputs": [],
   "source": [
    "# for  i  in range(len(l)):\n",
    "#     for j in range(len(l[i])):\n",
    "#         print(j)\n",
    "\n",
    "# just  analyzing "
   ]
  },
  {
   "cell_type": "code",
   "execution_count": 71,
   "id": "41cbf998-ceb2-4ab0-926f-ed9592313200",
   "metadata": {},
   "outputs": [],
   "source": [
    "# code  starts here  --->\n",
    "\n",
    "def sum_matrix(m):\n",
    "    arr=np.array(m)\n",
    "    ele_sum=0\n",
    "    for i in range(len(arr)):\n",
    "        for j in range(len(arr[i])):\n",
    "            if arr[i][j] == 0 and i<len(arr)-1:\n",
    "                arr[i+1][j]=0\n",
    "\n",
    "            ele_sum+=arr[i][j]\n",
    "\n",
    "    return ele_sum            "
   ]
  },
  {
   "cell_type": "code",
   "execution_count": 72,
   "id": "e02a5b8e-6e40-4361-9972-754c75445ff5",
   "metadata": {},
   "outputs": [
    {
     "data": {
      "text/plain": [
       "25"
      ]
     },
     "execution_count": 72,
     "metadata": {},
     "output_type": "execute_result"
    }
   ],
   "source": [
    "sum_matrix(l)"
   ]
  },
  {
   "cell_type": "code",
   "execution_count": null,
   "id": "34a874a6-9d92-41d2-a48b-41a77df5da7a",
   "metadata": {},
   "outputs": [],
   "source": []
  },
  {
   "cell_type": "code",
   "execution_count": 76,
   "id": "b638c2a5-96c3-42bb-b20f-df8963ce5ca0",
   "metadata": {},
   "outputs": [],
   "source": [
    "# baasically in this  we  have  to  add all the  elements  of the  matrix  but  one  condition is  been  given  to  us  \n",
    "# that is  when  we  got  the element  as the  0  then we  have  to not to add the  element  just  below   it  \n",
    "# so that's  why  we use  the if  condition in the  loop  where it  check if the  element is  zero and  it  should  not  be last element \n",
    "# because  there would  be  no element to  add  if the  element is in the last  row  \n",
    "\n",
    "# ele_sum=0\n",
    "#     for i in range(len(arr)):\n",
    "#         for j in range(len(arr[i])):\n",
    "#             if arr[i][j] == 0 and i<len(arr)-1:\n",
    "#                 arr[i+1][j]=0\n",
    "\n",
    "\n",
    "# just  analyze it  is  simple  but  neeed  to  understand  the  question  first\n"
   ]
  },
  {
   "cell_type": "code",
   "execution_count": 78,
   "id": "bcaf0894-8b10-4e78-9e42-bc424b82d594",
   "metadata": {},
   "outputs": [],
   "source": [
    "k=np.array([[4,0,np.nan,1],\n",
    "            [2,5,0,np.nan],\n",
    "            [np.nan,8,4,13],\n",
    "            [15,np.nan,13,2]])"
   ]
  },
  {
   "cell_type": "code",
   "execution_count": 79,
   "id": "94df5ccc-ef32-48e5-b5b7-6d19be5dc0fc",
   "metadata": {},
   "outputs": [
    {
     "data": {
      "text/plain": [
       "array([[False, False,  True, False],\n",
       "       [False, False, False,  True],\n",
       "       [ True, False, False, False],\n",
       "       [False,  True, False, False]])"
      ]
     },
     "execution_count": 79,
     "metadata": {},
     "output_type": "execute_result"
    }
   ],
   "source": [
    "np.isnan(k)"
   ]
  },
  {
   "cell_type": "code",
   "execution_count": 80,
   "id": "6be186d4-4bc8-4764-97de-27944f7b8dfc",
   "metadata": {},
   "outputs": [],
   "source": [
    "v=np.array([2,5,6])\n",
    "v1=np.array([3,5,8])"
   ]
  },
  {
   "cell_type": "code",
   "execution_count": 81,
   "id": "a06994b7-20de-49af-bd41-03cbc051c91b",
   "metadata": {},
   "outputs": [
    {
     "data": {
      "text/plain": [
       "array([False,  True, False])"
      ]
     },
     "execution_count": 81,
     "metadata": {},
     "output_type": "execute_result"
    }
   ],
   "source": [
    "np.greater_equal(v,v1)"
   ]
  },
  {
   "cell_type": "code",
   "execution_count": 83,
   "id": "cf826050-29fc-4078-b9c5-fd35423bb5f5",
   "metadata": {},
   "outputs": [
    {
     "data": {
      "text/plain": [
       "array([False,  True, False])"
      ]
     },
     "execution_count": 83,
     "metadata": {},
     "output_type": "execute_result"
    }
   ],
   "source": [
    "np.equal(v,v1)"
   ]
  },
  {
   "cell_type": "code",
   "execution_count": 84,
   "id": "6f751139-c2fa-490d-a9a3-eb8ad13c4713",
   "metadata": {},
   "outputs": [],
   "source": [
    "#  create  one  dimension  array  of  one , two  and  three digit"
   ]
  },
  {
   "cell_type": "code",
   "execution_count": 86,
   "id": "984811fd-f47d-4380-be6c-23b10d825508",
   "metadata": {},
   "outputs": [],
   "source": [
    "n=np.arange(1,10)"
   ]
  },
  {
   "cell_type": "code",
   "execution_count": 87,
   "id": "dc00420d-a772-432c-a076-7435601c6d77",
   "metadata": {},
   "outputs": [],
   "source": [
    "n1=np.arange(11,100)"
   ]
  },
  {
   "cell_type": "code",
   "execution_count": 88,
   "id": "38497a63-ce14-4841-bc2e-9a47ebd0afb1",
   "metadata": {},
   "outputs": [],
   "source": [
    "n2=np.arange(100,1000)"
   ]
  },
  {
   "cell_type": "code",
   "execution_count": 91,
   "id": "666b2723-80cd-44f8-8304-da2c083b0192",
   "metadata": {},
   "outputs": [
    {
     "name": "stdout",
     "output_type": "stream",
     "text": [
      "[1 2 3 4 5 6 7 8 9]\n",
      "\n",
      "[11 12 13 14 15 16 17 18 19 20 21 22 23 24 25 26 27 28 29 30 31 32 33 34\n",
      " 35 36 37 38 39 40 41 42 43 44 45 46 47 48 49 50 51 52 53 54 55 56 57 58\n",
      " 59 60 61 62 63 64 65 66 67 68 69 70 71 72 73 74 75 76 77 78 79 80 81 82\n",
      " 83 84 85 86 87 88 89 90 91 92 93 94 95 96 97 98 99]\n",
      "\n",
      "[100 101 102 103 104 105 106 107 108 109 110 111 112 113 114 115 116 117\n",
      " 118 119 120 121 122 123 124 125 126 127 128 129 130 131 132 133 134 135\n",
      " 136 137 138 139 140 141 142 143 144 145 146 147 148 149 150 151 152 153\n",
      " 154 155 156 157 158 159 160 161 162 163 164 165 166 167 168 169 170 171\n",
      " 172 173 174 175 176 177 178 179 180 181 182 183 184 185 186 187 188 189\n",
      " 190 191 192 193 194 195 196 197 198 199 200 201 202 203 204 205 206 207\n",
      " 208 209 210 211 212 213 214 215 216 217 218 219 220 221 222 223 224 225\n",
      " 226 227 228 229 230 231 232 233 234 235 236 237 238 239 240 241 242 243\n",
      " 244 245 246 247 248 249 250 251 252 253 254 255 256 257 258 259 260 261\n",
      " 262 263 264 265 266 267 268 269 270 271 272 273 274 275 276 277 278 279\n",
      " 280 281 282 283 284 285 286 287 288 289 290 291 292 293 294 295 296 297\n",
      " 298 299 300 301 302 303 304 305 306 307 308 309 310 311 312 313 314 315\n",
      " 316 317 318 319 320 321 322 323 324 325 326 327 328 329 330 331 332 333\n",
      " 334 335 336 337 338 339 340 341 342 343 344 345 346 347 348 349 350 351\n",
      " 352 353 354 355 356 357 358 359 360 361 362 363 364 365 366 367 368 369\n",
      " 370 371 372 373 374 375 376 377 378 379 380 381 382 383 384 385 386 387\n",
      " 388 389 390 391 392 393 394 395 396 397 398 399 400 401 402 403 404 405\n",
      " 406 407 408 409 410 411 412 413 414 415 416 417 418 419 420 421 422 423\n",
      " 424 425 426 427 428 429 430 431 432 433 434 435 436 437 438 439 440 441\n",
      " 442 443 444 445 446 447 448 449 450 451 452 453 454 455 456 457 458 459\n",
      " 460 461 462 463 464 465 466 467 468 469 470 471 472 473 474 475 476 477\n",
      " 478 479 480 481 482 483 484 485 486 487 488 489 490 491 492 493 494 495\n",
      " 496 497 498 499 500 501 502 503 504 505 506 507 508 509 510 511 512 513\n",
      " 514 515 516 517 518 519 520 521 522 523 524 525 526 527 528 529 530 531\n",
      " 532 533 534 535 536 537 538 539 540 541 542 543 544 545 546 547 548 549\n",
      " 550 551 552 553 554 555 556 557 558 559 560 561 562 563 564 565 566 567\n",
      " 568 569 570 571 572 573 574 575 576 577 578 579 580 581 582 583 584 585\n",
      " 586 587 588 589 590 591 592 593 594 595 596 597 598 599 600 601 602 603\n",
      " 604 605 606 607 608 609 610 611 612 613 614 615 616 617 618 619 620 621\n",
      " 622 623 624 625 626 627 628 629 630 631 632 633 634 635 636 637 638 639\n",
      " 640 641 642 643 644 645 646 647 648 649 650 651 652 653 654 655 656 657\n",
      " 658 659 660 661 662 663 664 665 666 667 668 669 670 671 672 673 674 675\n",
      " 676 677 678 679 680 681 682 683 684 685 686 687 688 689 690 691 692 693\n",
      " 694 695 696 697 698 699 700 701 702 703 704 705 706 707 708 709 710 711\n",
      " 712 713 714 715 716 717 718 719 720 721 722 723 724 725 726 727 728 729\n",
      " 730 731 732 733 734 735 736 737 738 739 740 741 742 743 744 745 746 747\n",
      " 748 749 750 751 752 753 754 755 756 757 758 759 760 761 762 763 764 765\n",
      " 766 767 768 769 770 771 772 773 774 775 776 777 778 779 780 781 782 783\n",
      " 784 785 786 787 788 789 790 791 792 793 794 795 796 797 798 799 800 801\n",
      " 802 803 804 805 806 807 808 809 810 811 812 813 814 815 816 817 818 819\n",
      " 820 821 822 823 824 825 826 827 828 829 830 831 832 833 834 835 836 837\n",
      " 838 839 840 841 842 843 844 845 846 847 848 849 850 851 852 853 854 855\n",
      " 856 857 858 859 860 861 862 863 864 865 866 867 868 869 870 871 872 873\n",
      " 874 875 876 877 878 879 880 881 882 883 884 885 886 887 888 889 890 891\n",
      " 892 893 894 895 896 897 898 899 900 901 902 903 904 905 906 907 908 909\n",
      " 910 911 912 913 914 915 916 917 918 919 920 921 922 923 924 925 926 927\n",
      " 928 929 930 931 932 933 934 935 936 937 938 939 940 941 942 943 944 945\n",
      " 946 947 948 949 950 951 952 953 954 955 956 957 958 959 960 961 962 963\n",
      " 964 965 966 967 968 969 970 971 972 973 974 975 976 977 978 979 980 981\n",
      " 982 983 984 985 986 987 988 989 990 991 992 993 994 995 996 997 998 999]\n"
     ]
    }
   ],
   "source": [
    "print(n)\n",
    "print()\n",
    "print(n1)\n",
    "print()\n",
    "print(n2)"
   ]
  },
  {
   "cell_type": "code",
   "execution_count": 92,
   "id": "76366002-fd8d-4f11-beb5-b8126f9f00fe",
   "metadata": {},
   "outputs": [
    {
     "data": {
      "text/plain": [
       "array([[  1,   2,   3,   4,   5,   6,   7,   8,   9,  10],\n",
       "       [ 11,  12,  13,  14,  15,  16,  17,  18,  19,  20],\n",
       "       [ 21,  22,  23,  24,  25,  26,  27,  28,  29,  30],\n",
       "       [ 31,  32,  33,  34,  35,  36,  37,  38,  39,  40],\n",
       "       [ 41,  42,  43,  44,  45,  46,  47,  48,  49,  50],\n",
       "       [ 51,  52,  53,  54,  55,  56,  57,  58,  59,  60],\n",
       "       [ 61,  62,  63,  64,  65,  66,  67,  68,  69,  70],\n",
       "       [ 71,  72,  73,  74,  75,  76,  77,  78,  79,  80],\n",
       "       [ 81,  82,  83,  84,  85,  86,  87,  88,  89,  90],\n",
       "       [ 91,  92,  93,  94,  95,  96,  97,  98,  99, 100],\n",
       "       [101, 102, 103, 104, 105, 106, 107, 108, 109, 110],\n",
       "       [111, 112, 113, 114, 115, 116, 117, 118, 119, 120],\n",
       "       [121, 122, 123, 124, 125, 126, 127, 128, 129, 130],\n",
       "       [131, 132, 133, 134, 135, 136, 137, 138, 139, 140],\n",
       "       [141, 142, 143, 144, 145, 146, 147, 148, 149, 150]])"
      ]
     },
     "execution_count": 92,
     "metadata": {},
     "output_type": "execute_result"
    }
   ],
   "source": [
    "np.arange(1,151).reshape(15,10)"
   ]
  },
  {
   "cell_type": "code",
   "execution_count": 93,
   "id": "f3bb2e0b-23ed-4c43-bf66-83873404e65d",
   "metadata": {},
   "outputs": [
    {
     "data": {
      "text/plain": [
       "array([[  1,   2,   3,   4,   5,   6,   7,   8,   9,  10],\n",
       "       [ 11,  12,  13,  14,  15,  16,  17,  18,  19,  20],\n",
       "       [ 21,  22,  23,  24,  25,  26,  27,  28,  29,  30],\n",
       "       [ 31,  32,  33,  34,  35,  36,  37,  38,  39,  40],\n",
       "       [ 41,  42,  43,  44,  45,  46,  47,  48,  49,  50],\n",
       "       [ 51,  52,  53,  54,  55,  56,  57,  58,  59,  60],\n",
       "       [ 61,  62,  63,  64,  65,  66,  67,  68,  69,  70],\n",
       "       [ 71,  72,  73,  74,  75,  76,  77,  78,  79,  80],\n",
       "       [ 81,  82,  83,  84,  85,  86,  87,  88,  89,  90],\n",
       "       [ 91,  92,  93,  94,  95,  96,  97,  98,  99, 100],\n",
       "       [101, 102, 103, 104, 105, 106, 107, 108, 109, 110],\n",
       "       [111, 112, 113, 114, 115, 116, 117, 118, 119, 120],\n",
       "       [121, 122, 123, 124, 125, 126, 127, 128, 129, 130],\n",
       "       [131, 132, 133, 134, 135, 136, 137, 138, 139, 140],\n",
       "       [141, 142, 143, 144, 145, 146, 147, 148, 149, 150]])"
      ]
     },
     "execution_count": 93,
     "metadata": {},
     "output_type": "execute_result"
    }
   ],
   "source": [
    "np.arange(1,151).reshape(-1,10)"
   ]
  },
  {
   "cell_type": "code",
   "execution_count": 95,
   "id": "73ab2b44-9019-4da1-a984-1c5d4e7e5cf0",
   "metadata": {
    "scrolled": true
   },
   "outputs": [
    {
     "data": {
      "text/plain": [
       "array([[  1,   2,   3,   4,   5,   6,   7,   8,   9,  10],\n",
       "       [ 11,  12,  13,  14,  15,  16,  17,  18,  19,  20],\n",
       "       [ 21,  22,  23,  24,  25,  26,  27,  28,  29,  30],\n",
       "       [ 31,  32,  33,  34,  35,  36,  37,  38,  39,  40],\n",
       "       [ 41,  42,  43,  44,  45,  46,  47,  48,  49,  50],\n",
       "       [ 51,  52,  53,  54,  55,  56,  57,  58,  59,  60],\n",
       "       [ 61,  62,  63,  64,  65,  66,  67,  68,  69,  70],\n",
       "       [ 71,  72,  73,  74,  75,  76,  77,  78,  79,  80],\n",
       "       [ 81,  82,  83,  84,  85,  86,  87,  88,  89,  90],\n",
       "       [ 91,  92,  93,  94,  95,  96,  97,  98,  99, 100],\n",
       "       [101, 102, 103, 104, 105, 106, 107, 108, 109, 110],\n",
       "       [111, 112, 113, 114, 115, 116, 117, 118, 119, 120],\n",
       "       [121, 122, 123, 124, 125, 126, 127, 128, 129, 130],\n",
       "       [131, 132, 133, 134, 135, 136, 137, 138, 139, 140],\n",
       "       [141, 142, 143, 144, 145, 146, 147, 148, 149, 150]])"
      ]
     },
     "execution_count": 95,
     "metadata": {},
     "output_type": "execute_result"
    }
   ],
   "source": [
    "np.arange(1,151).reshape(15,-1)"
   ]
  },
  {
   "cell_type": "code",
   "execution_count": 105,
   "id": "f6365f53-dee1-4c3e-903c-5d626b87e370",
   "metadata": {},
   "outputs": [],
   "source": [
    " # create a one-dimensional array of forty pseudo-randomly generated values. Select random numbers from a uniform distribution between 0 and 1. "
   ]
  },
  {
   "cell_type": "code",
   "execution_count": 106,
   "id": "eaf967c6-30ed-4472-a332-6ae48697e816",
   "metadata": {},
   "outputs": [],
   "source": [
    "k=np.random.rand(40)"
   ]
  },
  {
   "cell_type": "code",
   "execution_count": 107,
   "id": "2f9bd29d-295b-4010-a588-c939525173b0",
   "metadata": {},
   "outputs": [
    {
     "data": {
      "text/plain": [
       "array([0.46665187, 0.05484913, 0.88250207, 0.66654365, 0.37633889,\n",
       "       0.66690565, 0.3971216 , 0.04905572, 0.45148285, 0.38333243,\n",
       "       0.08868864, 0.70329945, 0.87531649, 0.17575224, 0.88604142,\n",
       "       0.53150741, 0.58953305, 0.6482468 , 0.25684832, 0.41332165,\n",
       "       0.58078173, 0.75438985, 0.0923242 , 0.46510579, 0.23611539,\n",
       "       0.91204935, 0.35366033, 0.05789907, 0.02431409, 0.83449694,\n",
       "       0.70662939, 0.39554271, 0.34639836, 0.49528289, 0.58041875,\n",
       "       0.31709336, 0.54606541, 0.14712813, 0.92505044, 0.06122154])"
      ]
     },
     "execution_count": 107,
     "metadata": {},
     "output_type": "execute_result"
    }
   ],
   "source": [
    "k"
   ]
  },
  {
   "cell_type": "code",
   "execution_count": null,
   "id": "10e4763e-1b91-4fcb-a10a-cfa69e1ef3f3",
   "metadata": {},
   "outputs": [],
   "source": []
  }
 ],
 "metadata": {
  "kernelspec": {
   "display_name": "Python 3 (ipykernel)",
   "language": "python",
   "name": "python3"
  },
  "language_info": {
   "codemirror_mode": {
    "name": "ipython",
    "version": 3
   },
   "file_extension": ".py",
   "mimetype": "text/x-python",
   "name": "python",
   "nbconvert_exporter": "python",
   "pygments_lexer": "ipython3",
   "version": "3.12.3"
  }
 },
 "nbformat": 4,
 "nbformat_minor": 5
}
