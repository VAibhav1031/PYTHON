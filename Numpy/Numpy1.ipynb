{
 "cells": [
  {
   "cell_type": "code",
   "execution_count": 3,
   "id": "bfe47ec7-0d15-496a-ae9b-f38897f66439",
   "metadata": {},
   "outputs": [],
   "source": [
    "import  numpy  as np"
   ]
  },
  {
   "cell_type": "code",
   "execution_count": 4,
   "id": "6dceef17-9b82-40c4-bb06-81d12a1c7551",
   "metadata": {},
   "outputs": [],
   "source": [
    "arr=np.array([1,2,3,4,5,6,7])"
   ]
  },
  {
   "cell_type": "code",
   "execution_count": 5,
   "id": "8081490f-4a8f-4912-84ac-7983088f06db",
   "metadata": {},
   "outputs": [
    {
     "data": {
      "text/plain": [
       "array([1, 2, 3, 4, 5, 6, 7])"
      ]
     },
     "execution_count": 5,
     "metadata": {},
     "output_type": "execute_result"
    }
   ],
   "source": [
    "arr"
   ]
  },
  {
   "cell_type": "code",
   "execution_count": 6,
   "id": "2928449e-f707-4f88-9702-7f459ae2feab",
   "metadata": {},
   "outputs": [
    {
     "data": {
      "text/plain": [
       "numpy.ndarray"
      ]
     },
     "execution_count": 6,
     "metadata": {},
     "output_type": "execute_result"
    }
   ],
   "source": [
    "type(arr)"
   ]
  },
  {
   "cell_type": "code",
   "execution_count": 7,
   "id": "f478e9b9-2ab0-4268-8a97-097067bdb663",
   "metadata": {},
   "outputs": [
    {
     "data": {
      "text/plain": [
       "7"
      ]
     },
     "execution_count": 7,
     "metadata": {},
     "output_type": "execute_result"
    }
   ],
   "source": [
    "arr.size"
   ]
  },
  {
   "cell_type": "code",
   "execution_count": 8,
   "id": "cbe71341-8687-49fb-9478-509cab242aaf",
   "metadata": {},
   "outputs": [
    {
     "data": {
      "text/plain": [
       "6"
      ]
     },
     "execution_count": 8,
     "metadata": {},
     "output_type": "execute_result"
    }
   ],
   "source": [
    "sd=np.array([[2,5,8],[4,2,1]])\n",
    "sd.size"
   ]
  },
  {
   "cell_type": "code",
   "execution_count": 9,
   "id": "5e5d05aa-a437-4ee2-82e2-ab40ddc49428",
   "metadata": {},
   "outputs": [
    {
     "data": {
      "text/plain": [
       "array([[2, 5, 8],\n",
       "       [4, 2, 1]])"
      ]
     },
     "execution_count": 9,
     "metadata": {},
     "output_type": "execute_result"
    }
   ],
   "source": [
    "sd"
   ]
  },
  {
   "cell_type": "code",
   "execution_count": 10,
   "id": "9070e741-d836-4d65-a976-8c61942c8d11",
   "metadata": {},
   "outputs": [
    {
     "name": "stdout",
     "output_type": "stream",
     "text": [
      "(2, 2, 3)\n",
      "[[[ 2  5  8]\n",
      "  [ 8  2  8]]\n",
      "\n",
      " [[ 2 12  6]\n",
      "  [ 4  7  5]]]\n"
     ]
    },
    {
     "data": {
      "text/plain": [
       "3"
      ]
     },
     "execution_count": 10,
     "metadata": {},
     "output_type": "execute_result"
    }
   ],
   "source": [
    "n=np.array([[[2,5,8],[8,2,8]],[[2,12,6],[4,7,5]]])\n",
    "print(n.shape)\n",
    "print(n)\n",
    "n.ndim\n"
   ]
  },
  {
   "cell_type": "code",
   "execution_count": 11,
   "id": "ed2fdd0d-0c0b-4b72-9aaf-dfc4896661bf",
   "metadata": {},
   "outputs": [
    {
     "name": "stdout",
     "output_type": "stream",
     "text": [
      "(1, 4, 2, 3)\n",
      "[[[[ 2  5  8]\n",
      "   [ 8  2  8]]\n",
      "\n",
      "  [[ 2 12  6]\n",
      "   [ 4  7  5]]\n",
      "\n",
      "  [[ 2  5  8]\n",
      "   [ 8  2  8]]\n",
      "\n",
      "  [[ 2 12  6]\n",
      "   [ 4  7  5]]]]\n"
     ]
    },
    {
     "data": {
      "text/plain": [
       "4"
      ]
     },
     "execution_count": 11,
     "metadata": {},
     "output_type": "execute_result"
    }
   ],
   "source": [
    "n1=np.array([[[[2,5,8],[8,2,8]],[[2,12,6],[4,7,5]],[[2,5,8],[8,2,8]],[[2,12,6],[4,7,5]]]])\n",
    "print(n1.shape)\n",
    "print(n1)\n",
    "n1.ndim\n"
   ]
  },
  {
   "cell_type": "code",
   "execution_count": 12,
   "id": "78a6801e-321e-4a29-9942-9d2701751d4d",
   "metadata": {},
   "outputs": [
    {
     "data": {
      "text/plain": [
       "16"
      ]
     },
     "execution_count": 12,
     "metadata": {},
     "output_type": "execute_result"
    }
   ],
   "source": [
    "s=np.array([[[1,2,3,4],[2,3,5,8]],[[5,14,47,15],[7,1,2,6]]])\n",
    "s.ndim\n",
    "s.size"
   ]
  },
  {
   "cell_type": "code",
   "execution_count": 13,
   "id": "ad741824-f4a6-4a08-aa55-84f495e2499c",
   "metadata": {},
   "outputs": [
    {
     "data": {
      "text/plain": [
       "4"
      ]
     },
     "execution_count": 13,
     "metadata": {},
     "output_type": "execute_result"
    }
   ],
   "source": [
    "s1=s.reshape(2,2,2,2)\n",
    "s1.ndim"
   ]
  },
  {
   "cell_type": "code",
   "execution_count": 14,
   "id": "eb9744d9-57c9-41b2-9fd7-09478da765fb",
   "metadata": {},
   "outputs": [
    {
     "data": {
      "text/plain": [
       "array([[[[ 1,  2],\n",
       "         [ 3,  4]],\n",
       "\n",
       "        [[ 2,  3],\n",
       "         [ 5,  8]]],\n",
       "\n",
       "\n",
       "       [[[ 5, 14],\n",
       "         [47, 15]],\n",
       "\n",
       "        [[ 7,  1],\n",
       "         [ 2,  6]]]])"
      ]
     },
     "execution_count": 14,
     "metadata": {},
     "output_type": "execute_result"
    }
   ],
   "source": [
    "s1[0:4]"
   ]
  },
  {
   "cell_type": "code",
   "execution_count": 15,
   "id": "fcc71d05-f86a-4af9-ab9b-5c85ed6b52aa",
   "metadata": {},
   "outputs": [],
   "source": [
    "# operation  performed on  array"
   ]
  },
  {
   "cell_type": "code",
   "execution_count": 16,
   "id": "80f76981-0007-4f26-b7ae-62b51e3e0d43",
   "metadata": {},
   "outputs": [
    {
     "data": {
      "text/plain": [
       "array([[[[ 1,  2],\n",
       "         [ 3,  4]],\n",
       "\n",
       "        [[ 2,  3],\n",
       "         [ 5,  8]]],\n",
       "\n",
       "\n",
       "       [[[ 5, 14],\n",
       "         [47, 15]],\n",
       "\n",
       "        [[ 7,  1],\n",
       "         [ 2,  6]]]])"
      ]
     },
     "execution_count": 16,
     "metadata": {},
     "output_type": "execute_result"
    }
   ],
   "source": [
    "s1"
   ]
  },
  {
   "cell_type": "code",
   "execution_count": 17,
   "id": "1861ed11-b8cc-47cd-94b3-9adad288527c",
   "metadata": {},
   "outputs": [
    {
     "data": {
      "text/plain": [
       "array([[[  5,  28],\n",
       "        [141,  60]],\n",
       "\n",
       "       [[ 14,   3],\n",
       "        [ 10,  48]]])"
      ]
     },
     "execution_count": 17,
     "metadata": {},
     "output_type": "execute_result"
    }
   ],
   "source": [
    "# Multiplication\n",
    "s1[0]*s1[1]"
   ]
  },
  {
   "cell_type": "code",
   "execution_count": 18,
   "id": "e4864277-f805-4bd5-b238-885b554543a1",
   "metadata": {},
   "outputs": [
    {
     "data": {
      "text/plain": [
       "array([[[ 4, 12],\n",
       "        [44, 11]],\n",
       "\n",
       "       [[ 5, -2],\n",
       "        [-3, -2]]])"
      ]
     },
     "execution_count": 18,
     "metadata": {},
     "output_type": "execute_result"
    }
   ],
   "source": [
    "# Subtraction\n",
    "s1[1]-s1[0]"
   ]
  },
  {
   "cell_type": "code",
   "execution_count": 19,
   "id": "f97b8e6c-b67b-4afc-a7c6-46d81ec755c0",
   "metadata": {},
   "outputs": [],
   "source": [
    "# Now on 3d  array"
   ]
  },
  {
   "cell_type": "code",
   "execution_count": 20,
   "id": "894e1be5-8bfa-402f-92a1-03d223617c5f",
   "metadata": {},
   "outputs": [
    {
     "data": {
      "text/plain": [
       "array([[[ 2,  5,  8],\n",
       "        [ 8,  2,  8]],\n",
       "\n",
       "       [[ 2, 12,  6],\n",
       "        [ 4,  7,  5]]])"
      ]
     },
     "execution_count": 20,
     "metadata": {},
     "output_type": "execute_result"
    }
   ],
   "source": [
    "n"
   ]
  },
  {
   "cell_type": "code",
   "execution_count": 21,
   "id": "cc5e6733-65dd-4e60-b01e-3e7374af9327",
   "metadata": {},
   "outputs": [
    {
     "data": {
      "text/plain": [
       "array([[ 4, 60, 48],\n",
       "       [32, 14, 40]])"
      ]
     },
     "execution_count": 21,
     "metadata": {},
     "output_type": "execute_result"
    }
   ],
   "source": [
    "n[0]*n[1]"
   ]
  },
  {
   "cell_type": "code",
   "execution_count": 22,
   "id": "b09697d7-a6f1-45d5-871b-3b332278d9a8",
   "metadata": {},
   "outputs": [],
   "source": [
    "# here  one thing  to  do  like  to  print the  last element from the  last row"
   ]
  },
  {
   "cell_type": "code",
   "execution_count": 23,
   "id": "919cc117-b4bb-48e5-9e6e-1500589d690a",
   "metadata": {},
   "outputs": [
    {
     "data": {
      "text/plain": [
       "array([[[[ 1,  2],\n",
       "         [ 3,  4]],\n",
       "\n",
       "        [[ 2,  3],\n",
       "         [ 5,  8]]],\n",
       "\n",
       "\n",
       "       [[[ 5, 14],\n",
       "         [47, 15]],\n",
       "\n",
       "        [[ 7,  1],\n",
       "         [ 2,  6]]]])"
      ]
     },
     "execution_count": 23,
     "metadata": {},
     "output_type": "execute_result"
    }
   ],
   "source": [
    "s1"
   ]
  },
  {
   "cell_type": "code",
   "execution_count": 24,
   "id": "73466130-3dd7-47ce-a43a-53075c4e9b9b",
   "metadata": {},
   "outputs": [
    {
     "data": {
      "text/plain": [
       "6"
      ]
     },
     "execution_count": 24,
     "metadata": {},
     "output_type": "execute_result"
    }
   ],
   "source": [
    "s1[1,1,1,1]  #or s1[1][1][1][1]"
   ]
  },
  {
   "cell_type": "code",
   "execution_count": 25,
   "id": "03a56a59-78fb-45ad-bb28-1528e00b99a6",
   "metadata": {},
   "outputs": [],
   "source": [
    "arr=np.array([[1,2,7,4],[2,4,3,1]])"
   ]
  },
  {
   "cell_type": "code",
   "execution_count": 26,
   "id": "82ee6cd0-46c3-4ba8-b38a-5e1e297dca56",
   "metadata": {},
   "outputs": [
    {
     "data": {
      "text/plain": [
       "1"
      ]
     },
     "execution_count": 26,
     "metadata": {},
     "output_type": "execute_result"
    }
   ],
   "source": [
    "# Second row  and  last element\n",
    "arr[1][-1]"
   ]
  },
  {
   "cell_type": "code",
   "execution_count": 27,
   "id": "6a1290ac-2887-4ba4-a202-f924a1881c03",
   "metadata": {},
   "outputs": [
    {
     "name": "stdout",
     "output_type": "stream",
     "text": [
      "[[1 2 7 4]\n",
      " [2 4 3 1]]\n"
     ]
    }
   ],
   "source": [
    "print(arr)"
   ]
  },
  {
   "cell_type": "code",
   "execution_count": 28,
   "id": "4d7d348c-dd9d-4f13-b9a0-ef288ae234fc",
   "metadata": {},
   "outputs": [
    {
     "data": {
      "text/plain": [
       "3"
      ]
     },
     "execution_count": 28,
     "metadata": {},
     "output_type": "execute_result"
    }
   ],
   "source": [
    "# Second row and  last element \n",
    "arr[1,-2]"
   ]
  },
  {
   "cell_type": "code",
   "execution_count": 29,
   "id": "955bcc30-c2a2-4b6e-8df3-78b8b61c8ddd",
   "metadata": {},
   "outputs": [
    {
     "data": {
      "text/plain": [
       "7"
      ]
     },
     "execution_count": 29,
     "metadata": {},
     "output_type": "execute_result"
    }
   ],
   "source": [
    "# First  row  and  second  last element\n",
    "arr[0,-2] # or arr[-2,-2]"
   ]
  },
  {
   "cell_type": "code",
   "execution_count": 30,
   "id": "4d622b87-c027-4d1e-befc-4c334e97b204",
   "metadata": {},
   "outputs": [],
   "source": [
    "arr1=np.array([1,2,3,4,5,6,7,8,9])"
   ]
  },
  {
   "cell_type": "code",
   "execution_count": 31,
   "id": "a3e72436-5781-47e5-94b3-3be248880494",
   "metadata": {},
   "outputs": [
    {
     "data": {
      "text/plain": [
       "array([1, 3])"
      ]
     },
     "execution_count": 31,
     "metadata": {},
     "output_type": "execute_result"
    }
   ],
   "source": [
    "arr1[0:4:2]"
   ]
  },
  {
   "cell_type": "code",
   "execution_count": 32,
   "id": "83bd1cde-f32b-4b42-a23d-3154744bb7ed",
   "metadata": {},
   "outputs": [],
   "source": [
    "  # DAtatype\n",
    "\n",
    "# i-integer\n",
    "# u-unsigned integer\n",
    "# S-String\n",
    "# f-float\n",
    "# c-complex float\n",
    "# m- timedata\n",
    "# M - datetime\n",
    "# O-object\n",
    "# V-fixed chunk of memory./void"
   ]
  },
  {
   "cell_type": "code",
   "execution_count": 33,
   "id": "6cf9945e-7f4c-4492-978f-0400c6e531d2",
   "metadata": {},
   "outputs": [
    {
     "data": {
      "text/plain": [
       "array([5, 2, 7, 5], dtype=int32)"
      ]
     },
     "execution_count": 33,
     "metadata": {},
     "output_type": "execute_result"
    }
   ],
   "source": [
    "arr=np.array([5,2,7,5],dtype=\"i4\")\n",
    "arr"
   ]
  },
  {
   "cell_type": "code",
   "execution_count": 34,
   "id": "afa9d7bc-8361-4df0-9068-9595802651fb",
   "metadata": {},
   "outputs": [],
   "source": [
    "# Converting  datatype (Astype)"
   ]
  },
  {
   "cell_type": "code",
   "execution_count": 35,
   "id": "e5680ff7-6dc3-4ed6-ada2-32948eb9edb4",
   "metadata": {},
   "outputs": [],
   "source": [
    "arr=np.array([1.1,2.1,3.1])"
   ]
  },
  {
   "cell_type": "code",
   "execution_count": 36,
   "id": "1c8562e5-571a-41d7-a79d-52c0bbfe0d43",
   "metadata": {},
   "outputs": [],
   "source": [
    "new=arr.astype('i')"
   ]
  },
  {
   "cell_type": "code",
   "execution_count": 39,
   "id": "9dbc6116-1577-4355-a0b5-37db36a930d4",
   "metadata": {},
   "outputs": [
    {
     "data": {
      "text/plain": [
       "dtype('float64')"
      ]
     },
     "execution_count": 39,
     "metadata": {},
     "output_type": "execute_result"
    }
   ],
   "source": [
    "arr.dtype"
   ]
  },
  {
   "cell_type": "code",
   "execution_count": 38,
   "id": "d5c715ce-6b84-4343-b932-a72f0f49b117",
   "metadata": {},
   "outputs": [
    {
     "data": {
      "text/plain": [
       "array([1, 2, 3], dtype=int32)"
      ]
     },
     "execution_count": 38,
     "metadata": {},
     "output_type": "execute_result"
    }
   ],
   "source": [
    "new"
   ]
  },
  {
   "cell_type": "code",
   "execution_count": 40,
   "id": "b862a3d0-c1d5-41dc-b8a0-9118a08ad71c",
   "metadata": {},
   "outputs": [],
   "source": [
    "srr=np.array([1,0,3,0,1])"
   ]
  },
  {
   "cell_type": "code",
   "execution_count": 43,
   "id": "8c835a9f-3109-4513-8182-c2cd1c3da2ad",
   "metadata": {},
   "outputs": [],
   "source": [
    "o=srr.astype('bool')"
   ]
  },
  {
   "cell_type": "code",
   "execution_count": 44,
   "id": "4c16267e-bfa9-49c8-a1d9-25f80a9e034b",
   "metadata": {},
   "outputs": [
    {
     "data": {
      "text/plain": [
       "array([ True, False,  True, False,  True])"
      ]
     },
     "execution_count": 44,
     "metadata": {},
     "output_type": "execute_result"
    }
   ],
   "source": [
    "o"
   ]
  },
  {
   "cell_type": "code",
   "execution_count": null,
   "id": "e37aa116-6b43-4d9e-8ca0-29c942bb9e71",
   "metadata": {},
   "outputs": [],
   "source": []
  }
 ],
 "metadata": {
  "kernelspec": {
   "display_name": "Python 3 (ipykernel)",
   "language": "python",
   "name": "python3"
  },
  "language_info": {
   "codemirror_mode": {
    "name": "ipython",
    "version": 3
   },
   "file_extension": ".py",
   "mimetype": "text/x-python",
   "name": "python",
   "nbconvert_exporter": "python",
   "pygments_lexer": "ipython3",
   "version": "3.12.3"
  }
 },
 "nbformat": 4,
 "nbformat_minor": 5
}
