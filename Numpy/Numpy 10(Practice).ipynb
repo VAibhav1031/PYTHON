{
 "cells": [
  {
   "cell_type": "code",
   "execution_count": 87,
   "id": "1ea7015c-cbcb-4fe0-b1c3-711c20384645",
   "metadata": {},
   "outputs": [],
   "source": [
    "import numpy as np"
   ]
  },
  {
   "cell_type": "code",
   "execution_count": 88,
   "id": "cf781fd4-ee9d-470a-8a71-9db11f0324a0",
   "metadata": {},
   "outputs": [],
   "source": [
    "j=np.array([[4,6],[2,1]])"
   ]
  },
  {
   "cell_type": "code",
   "execution_count": 89,
   "id": "338e8fbf-438c-4036-9f6f-cb5ff78d46ab",
   "metadata": {},
   "outputs": [
    {
     "data": {
      "text/plain": [
       "array([[4, 6],\n",
       "       [2, 1]])"
      ]
     },
     "execution_count": 89,
     "metadata": {},
     "output_type": "execute_result"
    }
   ],
   "source": [
    "j"
   ]
  },
  {
   "cell_type": "code",
   "execution_count": 91,
   "id": "924d60fd-c3f3-4302-9b94-4ae681e4bc77",
   "metadata": {},
   "outputs": [
    {
     "data": {
      "text/plain": [
       "array([[0., 0., 0., 0.],\n",
       "       [0., 0., 0., 0.],\n",
       "       [0., 0., 0., 0.],\n",
       "       [4., 5., 6., 8.]])"
      ]
     },
     "execution_count": 91,
     "metadata": {},
     "output_type": "execute_result"
    }
   ],
   "source": [
    "\n",
    "p=np.sort(j,axis=0)\n",
    "p\n"
   ]
  },
  {
   "cell_type": "code",
   "execution_count": 92,
   "id": "daf97a3e-782f-4005-b513-3b5d6df0ce32",
   "metadata": {},
   "outputs": [
    {
     "data": {
      "text/plain": [
       "array([[0., 0., 0., 0.],\n",
       "       [0., 0., 0., 0.],\n",
       "       [0., 0., 0., 0.],\n",
       "       [4., 5., 6., 8.]])"
      ]
     },
     "execution_count": 92,
     "metadata": {},
     "output_type": "execute_result"
    }
   ],
   "source": [
    "\n",
    "np.sort(p,axis=1)\n"
   ]
  },
  {
   "cell_type": "code",
   "execution_count": 93,
   "id": "395c7f5e-7294-4b23-b8fc-48fd36827f64",
   "metadata": {},
   "outputs": [
    {
     "data": {
      "text/plain": [
       "array([('Betsey', 'Battle'), ('Shelley', 'Brein'), ('Lanell', 'Plotner'),\n",
       "       ('Genesis', 'Stahl'), ('Margery', 'Woolum')],\n",
       "      dtype=[('first', '<U10'), ('last', '<U10')])"
      ]
     },
     "execution_count": 93,
     "metadata": {},
     "output_type": "execute_result"
    }
   ],
   "source": [
    "\n",
    "first_names=np.array([\"Betsey\", \"Shelley\", \"Lanell\", \"Genesis\", \"Margery\"])\n",
    "\n",
    "last_names=np.array([\"Battle\",\"Brein\",\"Plotner\",\"Stahl\",\"Woolum\"])\n",
    "\n",
    "dtype=[(\"first\",\"U10\"),(\"last\",\"U10\")]\n",
    "\n",
    "j=np.array(list(zip(first_names,last_names)),dtype=dtype)\n",
    "\n",
    "j\n"
   ]
  },
  {
   "cell_type": "code",
   "execution_count": 94,
   "id": "2e81abc5-5d8c-4c53-aa8b-0b0f211f94f2",
   "metadata": {},
   "outputs": [
    {
     "data": {
      "text/plain": [
       "array([0, 1, 2, 3, 4])"
      ]
     },
     "execution_count": 94,
     "metadata": {},
     "output_type": "execute_result"
    }
   ],
   "source": [
    "\n",
    "np.argsort(j,order=[\"last\",\"first\"])\n"
   ]
  },
  {
   "cell_type": "code",
   "execution_count": 95,
   "id": "16c2aefb-4e1c-4659-aed0-68eb41527b9e",
   "metadata": {},
   "outputs": [
    {
     "data": {
      "text/plain": [
       "array([20, 30, 40])"
      ]
     },
     "execution_count": 95,
     "metadata": {},
     "output_type": "execute_result"
    }
   ],
   "source": [
    "h=np.array([[0,10,20,30,40]])\n",
    "\n",
    "h\n",
    "\n",
    "h.ndim\n",
    "\n",
    "k=h>10\n",
    "k\n",
    "\n",
    "r=h[k]\n",
    "\n",
    "r"
   ]
  },
  {
   "cell_type": "code",
   "execution_count": 96,
   "id": "719bd0e6-f3f7-4118-9587-fa2589eb2b38",
   "metadata": {},
   "outputs": [
    {
     "data": {
      "text/plain": [
       "128"
      ]
     },
     "execution_count": 96,
     "metadata": {},
     "output_type": "execute_result"
    }
   ],
   "source": [
    "np.where(k)\n",
    "\n",
    "hf=np.array([5,7,5,8,6,8,2])\n",
    "np.save(\"nupu\",hf)\n",
    "np.savetxt(\"nupi\",hf)\n",
    "\n",
    "n=np.zeros((4,4))\n",
    "\n",
    "n.size*n.itemsize"
   ]
  },
  {
   "cell_type": "code",
   "execution_count": 97,
   "id": "81d3d0a7-ad27-4068-9f8f-4a2c676690e5",
   "metadata": {},
   "outputs": [
    {
     "name": "stdout",
     "output_type": "stream",
     "text": [
      "10\n",
      "20\n",
      "30\n",
      "40\n",
      "50\n"
     ]
    }
   ],
   "source": [
    "\n",
    "p=np.array([[10,20,30,40,50]])\n",
    "\n",
    "l=p.flat\n",
    "\n",
    "for i in l:\n",
    "    print(i)\n",
    "    "
   ]
  },
  {
   "cell_type": "code",
   "execution_count": 98,
   "id": "07c2904d-8b85-4b71-b68e-dbeaa6af4ed8",
   "metadata": {},
   "outputs": [
    {
     "data": {
      "text/plain": [
       "array([[2, 2, 2, 2, 2],\n",
       "       [2, 2, 2, 2, 2],\n",
       "       [2, 2, 2, 2, 2]], dtype=uint64)"
      ]
     },
     "execution_count": 98,
     "metadata": {},
     "output_type": "execute_result"
    }
   ],
   "source": [
    "\n",
    "np.full((3,5),2,dtype=\"uint\")\n"
   ]
  },
  {
   "cell_type": "code",
   "execution_count": 99,
   "id": "6cd99612-5ef8-49ce-9923-1e35876d500b",
   "metadata": {},
   "outputs": [
    {
     "data": {
      "text/plain": [
       "array([[2, 2, 2, 2, 2],\n",
       "       [2, 2, 2, 2, 2],\n",
       "       [2, 2, 2, 2, 2]], dtype=uint64)"
      ]
     },
     "execution_count": 99,
     "metadata": {},
     "output_type": "execute_result"
    }
   ],
   "source": [
    "\n",
    "np.ones((3,5),dtype=\"uint\")*2\n"
   ]
  },
  {
   "cell_type": "code",
   "execution_count": 100,
   "id": "0811d9e3-1721-4d66-b9c6-7579c30dd325",
   "metadata": {},
   "outputs": [
    {
     "data": {
      "text/plain": [
       "array([[1., 0., 0.],\n",
       "       [0., 1., 0.],\n",
       "       [0., 0., 1.]])"
      ]
     },
     "execution_count": 100,
     "metadata": {},
     "output_type": "execute_result"
    }
   ],
   "source": [
    "\n",
    "np.eye(3)"
   ]
  },
  {
   "cell_type": "code",
   "execution_count": 101,
   "id": "b32905d9-d17b-4498-a918-566e62dd2dc4",
   "metadata": {},
   "outputs": [
    {
     "data": {
      "text/plain": [
       "array([[1., 0., 0., 0.],\n",
       "       [0., 1., 0., 0.],\n",
       "       [0., 0., 1., 0.],\n",
       "       [0., 0., 0., 1.]])"
      ]
     },
     "execution_count": 101,
     "metadata": {},
     "output_type": "execute_result"
    }
   ],
   "source": [
    "j=np.eye(4)\n",
    "\n",
    "j"
   ]
  },
  {
   "cell_type": "code",
   "execution_count": 102,
   "id": "d478e7d4-5ef2-4abd-b470-fb1261dcddad",
   "metadata": {},
   "outputs": [
    {
     "name": "stdout",
     "output_type": "stream",
     "text": [
      "[[4. 0. 0. 0.]\n",
      " [0. 5. 0. 0.]\n",
      " [0. 0. 6. 0.]\n",
      " [0. 0. 0. 8.]]\n"
     ]
    }
   ],
   "source": [
    "np.fill_diagonal(j,(4,5,6,8))\n",
    "\n",
    "print(j)"
   ]
  },
  {
   "cell_type": "code",
   "execution_count": 103,
   "id": "3238d6a9-aff5-4ad8-a74a-5792219cb864",
   "metadata": {},
   "outputs": [],
   "source": [
    "l=np.arange(4,dtype=\"int64\")\n",
    "\n",
    "l=l*0\n"
   ]
  },
  {
   "cell_type": "code",
   "execution_count": 104,
   "id": "b835f9eb-f830-4415-a650-65269a1660ee",
   "metadata": {},
   "outputs": [
    {
     "data": {
      "text/plain": [
       "array([0, 0, 0, 0])"
      ]
     },
     "execution_count": 104,
     "metadata": {},
     "output_type": "execute_result"
    }
   ],
   "source": [
    "l"
   ]
  },
  {
   "cell_type": "code",
   "execution_count": 105,
   "id": "94d8b7bf-70ac-4d0b-bde8-9317ac35443f",
   "metadata": {},
   "outputs": [],
   "source": [
    "l=l+10"
   ]
  },
  {
   "cell_type": "code",
   "execution_count": 106,
   "id": "5c6cfb2e-5419-478b-98a2-ca02dd5dc740",
   "metadata": {},
   "outputs": [
    {
     "data": {
      "text/plain": [
       "array([10, 10, 10, 10])"
      ]
     },
     "execution_count": 106,
     "metadata": {},
     "output_type": "execute_result"
    }
   ],
   "source": [
    "l"
   ]
  },
  {
   "cell_type": "code",
   "execution_count": 107,
   "id": "9737a0e2-c2eb-4ee3-8b63-cff37a9bbd18",
   "metadata": {},
   "outputs": [
    {
     "data": {
      "text/plain": [
       "array([10, 10, 10, 10])"
      ]
     },
     "execution_count": 107,
     "metadata": {},
     "output_type": "execute_result"
    }
   ],
   "source": [
    "k=np.full((4),10,dtype=\"int64\")\n",
    "k\n"
   ]
  },
  {
   "cell_type": "code",
   "execution_count": null,
   "id": "2319049e-8f03-4f82-ac6e-d48fd9a839aa",
   "metadata": {},
   "outputs": [],
   "source": [
    "\\"
   ]
  }
 ],
 "metadata": {
  "kernelspec": {
   "display_name": "Python 3 (ipykernel)",
   "language": "python",
   "name": "python3"
  },
  "language_info": {
   "codemirror_mode": {
    "name": "ipython",
    "version": 3
   },
   "file_extension": ".py",
   "mimetype": "text/x-python",
   "name": "python",
   "nbconvert_exporter": "python",
   "pygments_lexer": "ipython3",
   "version": "3.12.3"
  }
 },
 "nbformat": 4,
 "nbformat_minor": 5
}
