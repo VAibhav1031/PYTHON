{
 "cells": [
  {
   "cell_type": "code",
   "execution_count": 1,
   "id": "f6e28a70-614e-4b63-887a-9256ce39c453",
   "metadata": {},
   "outputs": [],
   "source": [
    "import numpy as np"
   ]
  },
  {
   "cell_type": "code",
   "execution_count": 2,
   "id": "cd07f461-dcf1-4b90-a9be-aebd9d3bcd6e",
   "metadata": {},
   "outputs": [],
   "source": [
    "j=np.array([[4,6],[2,1]])"
   ]
  },
  {
   "cell_type": "code",
   "execution_count": 3,
   "id": "d98b0292-ddbf-4266-8ecc-6d12ab1ea048",
   "metadata": {},
   "outputs": [
    {
     "data": {
      "text/plain": [
       "array([[4, 6],\n",
       "       [2, 1]])"
      ]
     },
     "execution_count": 3,
     "metadata": {},
     "output_type": "execute_result"
    }
   ],
   "source": [
    "j"
   ]
  },
  {
   "cell_type": "code",
   "execution_count": 9,
   "id": "4536e7fd-3367-41f0-912f-80bbf76e9893",
   "metadata": {},
   "outputs": [
    {
     "data": {
      "text/plain": [
       "array([[2, 1],\n",
       "       [4, 6]])"
      ]
     },
     "execution_count": 9,
     "metadata": {},
     "output_type": "execute_result"
    }
   ],
   "source": [
    "p=np.sort(j,axis=0)\n",
    "p"
   ]
  },
  {
   "cell_type": "code",
   "execution_count": 10,
   "id": "7585b9a0-5717-441b-a819-d0f8bd7e293e",
   "metadata": {},
   "outputs": [
    {
     "data": {
      "text/plain": [
       "array([[1, 2],\n",
       "       [4, 6]])"
      ]
     },
     "execution_count": 10,
     "metadata": {},
     "output_type": "execute_result"
    }
   ],
   "source": [
    "np.sort(p,axis=1)"
   ]
  },
  {
   "cell_type": "code",
   "execution_count": 38,
   "id": "e5270bb4-15a6-4526-8b96-ac0d598c848a",
   "metadata": {},
   "outputs": [],
   "source": [
    "first_names=np.array([\"Betsey\", \"Shelley\", \"Lanell\", \"Genesis\", \"Margery\"])"
   ]
  },
  {
   "cell_type": "code",
   "execution_count": 39,
   "id": "e7c01454-cf3d-43b2-a9b9-1a61e8569d5a",
   "metadata": {},
   "outputs": [],
   "source": [
    "last_names=np.array([\"Battle\",\"Brein\",\"Plotner\",\"Stahl\",\"Woolum\"])"
   ]
  },
  {
   "cell_type": "code",
   "execution_count": 40,
   "id": "3c241d7c-59c8-4083-b28e-9faf163b2543",
   "metadata": {},
   "outputs": [],
   "source": [
    "dtype=[(\"first\",\"U10\"),(\"last\",\"U10\")]"
   ]
  },
  {
   "cell_type": "code",
   "execution_count": 41,
   "id": "36d4d7df-bd40-4f52-be59-f3cdcac296d4",
   "metadata": {},
   "outputs": [],
   "source": [
    "j=np.array(list(zip(first_names,last_names)),dtype=dtype)"
   ]
  },
  {
   "cell_type": "code",
   "execution_count": 42,
   "id": "c1fa096e-1eec-49fe-a28a-487404c9d36f",
   "metadata": {},
   "outputs": [
    {
     "data": {
      "text/plain": [
       "array([('Betsey', 'Battle'), ('Shelley', 'Brein'), ('Lanell', 'Plotner'),\n",
       "       ('Genesis', 'Stahl'), ('Margery', 'Woolum')],\n",
       "      dtype=[('first', '<U10'), ('last', '<U10')])"
      ]
     },
     "execution_count": 42,
     "metadata": {},
     "output_type": "execute_result"
    }
   ],
   "source": [
    "j"
   ]
  },
  {
   "cell_type": "code",
   "execution_count": 44,
   "id": "bd2ef43e-3057-49ce-b667-06164a18253d",
   "metadata": {},
   "outputs": [
    {
     "data": {
      "text/plain": [
       "array([0, 1, 2, 3, 4])"
      ]
     },
     "execution_count": 44,
     "metadata": {},
     "output_type": "execute_result"
    }
   ],
   "source": [
    "np.argsort(j,order=[\"last\",\"first\"])"
   ]
  },
  {
   "cell_type": "code",
   "execution_count": 46,
   "id": "97d820b3-09de-4559-bbd4-a6d0054d717b",
   "metadata": {},
   "outputs": [],
   "source": [
    "h=np.array([[0,10,20,30,40]])"
   ]
  },
  {
   "cell_type": "code",
   "execution_count": 47,
   "id": "dcf55d33-ded1-4a6e-b718-4e6070c91aa3",
   "metadata": {},
   "outputs": [
    {
     "data": {
      "text/plain": [
       "array([[ 0, 10, 20, 30, 40]])"
      ]
     },
     "execution_count": 47,
     "metadata": {},
     "output_type": "execute_result"
    }
   ],
   "source": [
    "h"
   ]
  },
  {
   "cell_type": "code",
   "execution_count": 48,
   "id": "a2e8158a-801c-41c6-bda3-e7ac9e487eac",
   "metadata": {},
   "outputs": [
    {
     "data": {
      "text/plain": [
       "2"
      ]
     },
     "execution_count": 48,
     "metadata": {},
     "output_type": "execute_result"
    }
   ],
   "source": [
    "h.ndim"
   ]
  },
  {
   "cell_type": "code",
   "execution_count": 58,
   "id": "52c4a999-2c6b-4484-840b-4801fe6f4d0f",
   "metadata": {},
   "outputs": [
    {
     "data": {
      "text/plain": [
       "array([[False, False,  True,  True,  True]])"
      ]
     },
     "execution_count": 58,
     "metadata": {},
     "output_type": "execute_result"
    }
   ],
   "source": [
    "k=h>10\n",
    "k"
   ]
  },
  {
   "cell_type": "code",
   "execution_count": 67,
   "id": "c0b6a747-ceb4-4cd3-85b2-652190d07add",
   "metadata": {},
   "outputs": [],
   "source": [
    "r=h[k]"
   ]
  },
  {
   "cell_type": "code",
   "execution_count": 68,
   "id": "c83cbe6b-7021-48e6-9535-b1cbc59ac011",
   "metadata": {},
   "outputs": [
    {
     "data": {
      "text/plain": [
       "array([20, 30, 40])"
      ]
     },
     "execution_count": 68,
     "metadata": {},
     "output_type": "execute_result"
    }
   ],
   "source": [
    "r"
   ]
  },
  {
   "cell_type": "code",
   "execution_count": 70,
   "id": "b0ae319d-d7b3-427f-a8d2-6ea746e6a25f",
   "metadata": {},
   "outputs": [
    {
     "data": {
      "text/plain": [
       "(array([0, 0, 0]), array([2, 3, 4]))"
      ]
     },
     "execution_count": 70,
     "metadata": {},
     "output_type": "execute_result"
    }
   ],
   "source": [
    "np.where(k)"
   ]
  },
  {
   "cell_type": "code",
   "execution_count": 73,
   "id": "0fb4f922-20e9-463d-bbd3-9ec148599982",
   "metadata": {},
   "outputs": [],
   "source": [
    "hf=np.array([5,7,5,8,6,8,2])\n",
    "np.save(\"nupu\",hf)\n",
    "np.savetxt(\"nupi\",hf)"
   ]
  },
  {
   "cell_type": "code",
   "execution_count": 74,
   "id": "a7593ac9-c9f9-4282-8690-e21ac8ff38a5",
   "metadata": {},
   "outputs": [],
   "source": [
    "n=np.zeros((4,4))"
   ]
  },
  {
   "cell_type": "code",
   "execution_count": 79,
   "id": "158a33f2-d602-4e3d-9c5e-f2574f61099b",
   "metadata": {},
   "outputs": [
    {
     "data": {
      "text/plain": [
       "128"
      ]
     },
     "execution_count": 79,
     "metadata": {},
     "output_type": "execute_result"
    }
   ],
   "source": [
    "n.size*n.itemsize"
   ]
  },
  {
   "cell_type": "code",
   "execution_count": 80,
   "id": "619494ec-1161-4277-b58f-0d0a05482c04",
   "metadata": {},
   "outputs": [],
   "source": [
    "p=np.array([[10,20,30,40,50]])"
   ]
  },
  {
   "cell_type": "code",
   "execution_count": 93,
   "id": "6ec52291-867a-4be2-b0f9-164a28c0d926",
   "metadata": {},
   "outputs": [],
   "source": [
    "l=p.flat"
   ]
  },
  {
   "cell_type": "code",
   "execution_count": 94,
   "id": "a32c23ca-492d-4af1-bf62-be734a275b6d",
   "metadata": {},
   "outputs": [
    {
     "name": "stdout",
     "output_type": "stream",
     "text": [
      "10\n",
      "20\n",
      "30\n",
      "40\n",
      "50\n"
     ]
    }
   ],
   "source": [
    "for i in l:\n",
    "    print(i)\n",
    "    "
   ]
  },
  {
   "cell_type": "code",
   "execution_count": null,
   "id": "274edaf1-7f17-466c-b594-9edbc67679e6",
   "metadata": {},
   "outputs": [],
   "source": []
  }
 ],
 "metadata": {
  "kernelspec": {
   "display_name": "Python 3 (ipykernel)",
   "language": "python",
   "name": "python3"
  },
  "language_info": {
   "codemirror_mode": {
    "name": "ipython",
    "version": 3
   },
   "file_extension": ".py",
   "mimetype": "text/x-python",
   "name": "python",
   "nbconvert_exporter": "python",
   "pygments_lexer": "ipython3",
   "version": "3.12.3"
  }
 },
 "nbformat": 4,
 "nbformat_minor": 5
}
