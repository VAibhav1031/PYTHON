{
 "cells": [
  {
   "cell_type": "code",
   "execution_count": 2,
   "id": "c586631e-cfc2-428d-a2a8-431fec3767c5",
   "metadata": {},
   "outputs": [],
   "source": [
    "import numpy as np"
   ]
  },
  {
   "cell_type": "code",
   "execution_count": 3,
   "id": "303674ec-7996-4e23-9877-e6436d668787",
   "metadata": {},
   "outputs": [
    {
     "data": {
      "text/plain": [
       "array([0., 0., 0., 0., 0., 0., 0., 0., 0., 0.])"
      ]
     },
     "execution_count": 3,
     "metadata": {},
     "output_type": "execute_result"
    }
   ],
   "source": [
    "n=np.zeros(10)\n",
    "n"
   ]
  },
  {
   "cell_type": "code",
   "execution_count": 4,
   "id": "31542bc5-5f22-408b-99e9-357ee9c455f4",
   "metadata": {},
   "outputs": [
    {
     "data": {
      "text/plain": [
       "array([1., 1., 1., 1., 1., 1., 1., 1., 1., 1.])"
      ]
     },
     "execution_count": 4,
     "metadata": {},
     "output_type": "execute_result"
    }
   ],
   "source": [
    "n1=np.ones(10)\n",
    "n1"
   ]
  },
  {
   "cell_type": "code",
   "execution_count": 5,
   "id": "00e0ac1d-c417-4edd-8a76-7d5fd9066695",
   "metadata": {},
   "outputs": [
    {
     "data": {
      "text/plain": [
       "array([5., 5., 5., 5., 5., 5., 5., 5., 5., 5.])"
      ]
     },
     "execution_count": 5,
     "metadata": {},
     "output_type": "execute_result"
    }
   ],
   "source": [
    "n2=np.ones(10)*5\n",
    "n2"
   ]
  },
  {
   "cell_type": "code",
   "execution_count": 6,
   "id": "7d9871f0-a4b2-4092-befd-0a92a84cd80a",
   "metadata": {},
   "outputs": [],
   "source": [
    "l=np.arange(30,71)\n",
    "# for even one we have  \n",
    "l=np.arange(30,71,2)"
   ]
  },
  {
   "cell_type": "code",
   "execution_count": 7,
   "id": "741abb3e-fb5b-46d5-a3b7-eefebc36c1f5",
   "metadata": {},
   "outputs": [
    {
     "data": {
      "text/plain": [
       "array([30, 32, 34, 36, 38, 40, 42, 44, 46, 48, 50, 52, 54, 56, 58, 60, 62,\n",
       "       64, 66, 68, 70])"
      ]
     },
     "execution_count": 7,
     "metadata": {},
     "output_type": "execute_result"
    }
   ],
   "source": [
    "l"
   ]
  },
  {
   "cell_type": "code",
   "execution_count": 8,
   "id": "e041861d-d7b7-4b67-829f-f372c5edd5f4",
   "metadata": {},
   "outputs": [],
   "source": [
    "ide=np.eye(3,3)"
   ]
  },
  {
   "cell_type": "code",
   "execution_count": 9,
   "id": "c599a753-6b1c-4682-b639-892bb534913e",
   "metadata": {},
   "outputs": [
    {
     "data": {
      "text/plain": [
       "array([[1., 0., 0.],\n",
       "       [0., 1., 0.],\n",
       "       [0., 0., 1.]])"
      ]
     },
     "execution_count": 9,
     "metadata": {},
     "output_type": "execute_result"
    }
   ],
   "source": [
    "ide"
   ]
  },
  {
   "cell_type": "code",
   "execution_count": 10,
   "id": "f51da32d-aa77-4ecc-bdd4-d424bc3045f6",
   "metadata": {},
   "outputs": [],
   "source": [
    "r=np.random.rand(10)"
   ]
  },
  {
   "cell_type": "code",
   "execution_count": 11,
   "id": "52167b32-f3ef-48f8-bea4-b22f6e8bf647",
   "metadata": {},
   "outputs": [
    {
     "data": {
      "text/plain": [
       "array([0.06902399, 0.68260647, 0.09096882, 0.97169943, 0.92469414,\n",
       "       0.0756574 , 0.47517316, 0.77934428, 0.56107657, 0.049286  ])"
      ]
     },
     "execution_count": 11,
     "metadata": {},
     "output_type": "execute_result"
    }
   ],
   "source": [
    "r"
   ]
  },
  {
   "cell_type": "code",
   "execution_count": 12,
   "id": "5983257f-9e09-4135-bdca-d071624b65d4",
   "metadata": {},
   "outputs": [],
   "source": [
    "no=np.random.normal(0,1,15)"
   ]
  },
  {
   "cell_type": "code",
   "execution_count": 13,
   "id": "8e03c22b-8673-4e5e-806c-3ccc6e1036db",
   "metadata": {},
   "outputs": [
    {
     "data": {
      "text/plain": [
       "array([-0.52978526, -0.02088357, -0.91799913, -0.10754346,  0.66180031,\n",
       "        2.27114517, -0.74735489, -0.66448757,  0.14198654,  0.97895074,\n",
       "        0.62437877,  0.02641179, -1.5431499 ,  0.33684708, -0.79856785])"
      ]
     },
     "execution_count": 13,
     "metadata": {},
     "output_type": "execute_result"
    }
   ],
   "source": [
    "no"
   ]
  },
  {
   "cell_type": "code",
   "execution_count": 14,
   "id": "476b5914-d89d-4299-8058-5987d9cc8642",
   "metadata": {},
   "outputs": [],
   "source": [
    "v=np.arange(15,56)"
   ]
  },
  {
   "cell_type": "code",
   "execution_count": 15,
   "id": "3865a7d7-cc76-415c-a75a-89be989e66a7",
   "metadata": {},
   "outputs": [
    {
     "data": {
      "text/plain": [
       "array([15, 16, 17, 18, 19, 20, 21, 22, 23, 24, 25, 26, 27, 28, 29, 30, 31,\n",
       "       32, 33, 34, 35, 36, 37, 38, 39, 40, 41, 42, 43, 44, 45, 46, 47, 48,\n",
       "       49, 50, 51, 52, 53, 54, 55])"
      ]
     },
     "execution_count": 15,
     "metadata": {},
     "output_type": "execute_result"
    }
   ],
   "source": [
    "v #original list"
   ]
  },
  {
   "cell_type": "code",
   "execution_count": 16,
   "id": "0788796c-c7e0-44d6-bdfa-fd82ddbc6f27",
   "metadata": {},
   "outputs": [
    {
     "data": {
      "text/plain": [
       "array([16, 17, 18, 19, 20, 21, 22, 23, 24, 25, 26, 27, 28, 29, 30, 31, 32,\n",
       "       33, 34, 35, 36, 37, 38, 39, 40, 41, 42, 43, 44, 45, 46, 47, 48, 49,\n",
       "       50, 51, 52, 53, 54])"
      ]
     },
     "execution_count": 16,
     "metadata": {},
     "output_type": "execute_result"
    }
   ],
   "source": [
    "v[1:-1]"
   ]
  },
  {
   "cell_type": "code",
   "execution_count": 17,
   "id": "5df9fdef-0b21-4ebf-9a01-7900784364b4",
   "metadata": {},
   "outputs": [],
   "source": [
    "# create a 3X4 array and iterate over it."
   ]
  },
  {
   "cell_type": "code",
   "execution_count": 18,
   "id": "1a92eaf8-8f9f-4b2c-9bfa-18ac01b94229",
   "metadata": {},
   "outputs": [
    {
     "data": {
      "text/plain": [
       "array([ 1,  2,  3,  4,  5,  6,  7,  8,  9, 10, 11, 12])"
      ]
     },
     "execution_count": 18,
     "metadata": {},
     "output_type": "execute_result"
    }
   ],
   "source": [
    "n=np.arange(1,13)\n",
    "n"
   ]
  },
  {
   "cell_type": "code",
   "execution_count": 19,
   "id": "16ea803f-2d4d-4c9e-aa8d-f23c7a109880",
   "metadata": {},
   "outputs": [
    {
     "data": {
      "text/plain": [
       "array([[ 1,  2,  3,  4],\n",
       "       [ 5,  6,  7,  8],\n",
       "       [ 9, 10, 11, 12]])"
      ]
     },
     "execution_count": 19,
     "metadata": {},
     "output_type": "execute_result"
    }
   ],
   "source": [
    "n.reshape(3,4)"
   ]
  },
  {
   "cell_type": "code",
   "execution_count": 20,
   "id": "7d42acb5-1c39-4d08-acae-236550a251bf",
   "metadata": {},
   "outputs": [
    {
     "name": "stdout",
     "output_type": "stream",
     "text": [
      "1\n",
      "2\n",
      "3\n",
      "4\n",
      "5\n",
      "6\n",
      "7\n",
      "8\n",
      "9\n",
      "10\n",
      "11\n",
      "12\n"
     ]
    }
   ],
   "source": [
    "for i in np.nditer(n):\n",
    "    print(i)"
   ]
  },
  {
   "cell_type": "code",
   "execution_count": 21,
   "id": "913061d0-93f3-4237-8227-1acf77a234a3",
   "metadata": {},
   "outputs": [],
   "source": [
    "v1=np.linspace(5,51,10)"
   ]
  },
  {
   "cell_type": "code",
   "execution_count": 22,
   "id": "5d6bbb06-8793-4d67-a189-79f0c679ad9e",
   "metadata": {},
   "outputs": [
    {
     "data": {
      "text/plain": [
       "array([ 5.        , 10.11111111, 15.22222222, 20.33333333, 25.44444444,\n",
       "       30.55555556, 35.66666667, 40.77777778, 45.88888889, 51.        ])"
      ]
     },
     "execution_count": 22,
     "metadata": {},
     "output_type": "execute_result"
    }
   ],
   "source": [
    "v1"
   ]
  },
  {
   "cell_type": "code",
   "execution_count": 23,
   "id": "4e2a1871-c549-4a3e-b768-b04d5e861669",
   "metadata": {},
   "outputs": [],
   "source": [
    "x=np.arange(21)"
   ]
  },
  {
   "cell_type": "code",
   "execution_count": 24,
   "id": "ba566588-19e6-4107-9cfd-13e3a527a707",
   "metadata": {},
   "outputs": [],
   "source": [
    "x[(x>=9) & (x<=15)]*=-1"
   ]
  },
  {
   "cell_type": "code",
   "execution_count": 25,
   "id": "21d4c3d0-d046-45e7-ab63-83907221e944",
   "metadata": {},
   "outputs": [
    {
     "data": {
      "text/plain": [
       "array([  0,   1,   2,   3,   4,   5,   6,   7,   8,  -9, -10, -11, -12,\n",
       "       -13, -14, -15,  16,  17,  18,  19,  20])"
      ]
     },
     "execution_count": 25,
     "metadata": {},
     "output_type": "execute_result"
    }
   ],
   "source": [
    "x"
   ]
  },
  {
   "cell_type": "code",
   "execution_count": 26,
   "id": "ab5a6257-63b0-4b46-b903-da982a025593",
   "metadata": {},
   "outputs": [],
   "source": [
    "pok=np.random.randint(0,11,5)"
   ]
  },
  {
   "cell_type": "code",
   "execution_count": 27,
   "id": "7e65c1e1-20b6-49b2-9a3f-08f9adef9b44",
   "metadata": {},
   "outputs": [
    {
     "data": {
      "text/plain": [
       "array([6, 0, 5, 4, 7])"
      ]
     },
     "execution_count": 27,
     "metadata": {},
     "output_type": "execute_result"
    }
   ],
   "source": [
    "pok"
   ]
  },
  {
   "cell_type": "code",
   "execution_count": 28,
   "id": "fcd60fa6-5be9-4e9b-9c24-3a28d18ed646",
   "metadata": {},
   "outputs": [],
   "source": [
    "# multiply two given  vectors  = [simply an array of 1d ]\n",
    "\n",
    "# but one thing you must  keep in mind like  both  shapes  must be  same  then only it  can be done"
   ]
  },
  {
   "cell_type": "code",
   "execution_count": 29,
   "id": "cb02d6bc-8b94-445c-a56b-9a71f531f7b2",
   "metadata": {},
   "outputs": [
    {
     "data": {
      "text/plain": [
       "(20,)"
      ]
     },
     "execution_count": 29,
     "metadata": {},
     "output_type": "execute_result"
    }
   ],
   "source": [
    "v=np.arange(11,31)\n",
    "v.shape"
   ]
  },
  {
   "cell_type": "code",
   "execution_count": 30,
   "id": "82101c32-f181-4809-a080-a1f4d5179ca9",
   "metadata": {},
   "outputs": [
    {
     "data": {
      "text/plain": [
       "(20,)"
      ]
     },
     "execution_count": 30,
     "metadata": {},
     "output_type": "execute_result"
    }
   ],
   "source": [
    "v1=np.arange(44,64)\n",
    "v1.shape"
   ]
  },
  {
   "cell_type": "code",
   "execution_count": 31,
   "id": "4eaefab9-d1ee-4581-ad2c-a30b11117ab3",
   "metadata": {},
   "outputs": [
    {
     "data": {
      "text/plain": [
       "array([ 484,  540,  598,  658,  720,  784,  850,  918,  988, 1060, 1134,\n",
       "       1210, 1288, 1368, 1450, 1534, 1620, 1708, 1798, 1890])"
      ]
     },
     "execution_count": 31,
     "metadata": {},
     "output_type": "execute_result"
    }
   ],
   "source": [
    "v*v1"
   ]
  },
  {
   "cell_type": "code",
   "execution_count": 32,
   "id": "2133d788-e5bb-4d53-a4e8-e3f653221015",
   "metadata": {},
   "outputs": [],
   "source": [
    "k=np.arange(10,22)\n",
    "k=k.reshape(3,4)"
   ]
  },
  {
   "cell_type": "code",
   "execution_count": 33,
   "id": "d2b20647-fb0c-44e0-8300-44b367c1b83b",
   "metadata": {},
   "outputs": [
    {
     "data": {
      "text/plain": [
       "(3, 4)"
      ]
     },
     "execution_count": 33,
     "metadata": {},
     "output_type": "execute_result"
    }
   ],
   "source": [
    "k.shape #shape is  used  to  present the  rows  and  columns in the  matrix"
   ]
  },
  {
   "cell_type": "code",
   "execution_count": 34,
   "id": "ca74a9c4-a2f7-42bc-a1cc-16be76cbd5f4",
   "metadata": {},
   "outputs": [],
   "source": [
    "o=np.ones((10,10))"
   ]
  },
  {
   "cell_type": "code",
   "execution_count": 35,
   "id": "b424d6da-1de2-4683-87b3-83a621c12244",
   "metadata": {},
   "outputs": [
    {
     "data": {
      "text/plain": [
       "array([[1., 1., 1., 1., 1., 1., 1., 1., 1., 1.],\n",
       "       [1., 1., 1., 1., 1., 1., 1., 1., 1., 1.],\n",
       "       [1., 1., 1., 1., 1., 1., 1., 1., 1., 1.],\n",
       "       [1., 1., 1., 1., 1., 1., 1., 1., 1., 1.],\n",
       "       [1., 1., 1., 1., 1., 1., 1., 1., 1., 1.],\n",
       "       [1., 1., 1., 1., 1., 1., 1., 1., 1., 1.],\n",
       "       [1., 1., 1., 1., 1., 1., 1., 1., 1., 1.],\n",
       "       [1., 1., 1., 1., 1., 1., 1., 1., 1., 1.],\n",
       "       [1., 1., 1., 1., 1., 1., 1., 1., 1., 1.],\n",
       "       [1., 1., 1., 1., 1., 1., 1., 1., 1., 1.]])"
      ]
     },
     "execution_count": 35,
     "metadata": {},
     "output_type": "execute_result"
    }
   ],
   "source": [
    "o"
   ]
  },
  {
   "cell_type": "code",
   "execution_count": 36,
   "id": "50f93ff9-7ea7-4c2d-9b27-75ab1000625d",
   "metadata": {},
   "outputs": [],
   "source": [
    "o[1:-1,1:-1]=0"
   ]
  },
  {
   "cell_type": "code",
   "execution_count": 37,
   "id": "5d0da658-0daf-40a7-8b19-f7ba4e9e6639",
   "metadata": {},
   "outputs": [
    {
     "data": {
      "text/plain": [
       "array([[1., 1., 1., 1., 1., 1., 1., 1., 1., 1.],\n",
       "       [1., 0., 0., 0., 0., 0., 0., 0., 0., 1.],\n",
       "       [1., 0., 0., 0., 0., 0., 0., 0., 0., 1.],\n",
       "       [1., 0., 0., 0., 0., 0., 0., 0., 0., 1.],\n",
       "       [1., 0., 0., 0., 0., 0., 0., 0., 0., 1.],\n",
       "       [1., 0., 0., 0., 0., 0., 0., 0., 0., 1.],\n",
       "       [1., 0., 0., 0., 0., 0., 0., 0., 0., 1.],\n",
       "       [1., 0., 0., 0., 0., 0., 0., 0., 0., 1.],\n",
       "       [1., 0., 0., 0., 0., 0., 0., 0., 0., 1.],\n",
       "       [1., 1., 1., 1., 1., 1., 1., 1., 1., 1.]])"
      ]
     },
     "execution_count": 37,
     "metadata": {},
     "output_type": "execute_result"
    }
   ],
   "source": [
    "o"
   ]
  },
  {
   "cell_type": "code",
   "execution_count": 38,
   "id": "111ce590-f028-4879-afd9-73f18011db30",
   "metadata": {},
   "outputs": [
    {
     "name": "stdout",
     "output_type": "stream",
     "text": [
      "[10 11 12 13 14 15 16 17 18 19 20 21 22 23 24 25 26 27 28 29 30 31 32 33]\n",
      "\n",
      "[11 12 13 14 15 16 17 18 19 20 21 22 23 24 25 26 27 28 29 30 31 32]\n"
     ]
    }
   ],
   "source": [
    "# i want  to  say like  in this  you  just  have to  know  basic  thing  that to  select  inner thing we use\n",
    "# indexing basics like [1:-1] which  selects inner thing \n",
    "arr=np.arange(10,34)\n",
    "print(arr)\n",
    "print()\n",
    "print(arr[1:-1])\n",
    "\n",
    "\n",
    "# Do you  see that  how easily it  selects  the inner thing same thing  we  did  to  make changes in identity matrix\n",
    "# where we want  all border  to  be  1  and  inner  should  be the  zeros o[1:-1,1:-1]"
   ]
  },
  {
   "cell_type": "code",
   "execution_count": 39,
   "id": "f5d8ca5b-8c98-4598-a69c-619c4df3a418",
   "metadata": {},
   "outputs": [],
   "source": [
    "# Create the 3X3  matrix of  zeros  in which  main  diagonal  comprise of  element  as the  1,2,3,4,5,6  "
   ]
  },
  {
   "cell_type": "code",
   "execution_count": 40,
   "id": "ab0c0bf0-7304-47c9-984f-8c0583aa9ea1",
   "metadata": {},
   "outputs": [],
   "source": [
    "z=np.zeros((3,3))"
   ]
  },
  {
   "cell_type": "code",
   "execution_count": 41,
   "id": "4c9bb697-440b-4f0f-84e6-e21cbce0b531",
   "metadata": {},
   "outputs": [
    {
     "data": {
      "text/plain": [
       "array([[0., 0., 0.],\n",
       "       [0., 0., 0.],\n",
       "       [0., 0., 0.]])"
      ]
     },
     "execution_count": 41,
     "metadata": {},
     "output_type": "execute_result"
    }
   ],
   "source": [
    "z"
   ]
  },
  {
   "cell_type": "code",
   "execution_count": 42,
   "id": "e48f140f-f83a-488c-86ab-bec3dfc5566a",
   "metadata": {},
   "outputs": [],
   "source": [
    "z=np.diag([1,2,3])"
   ]
  },
  {
   "cell_type": "code",
   "execution_count": 43,
   "id": "6d8d1c8f-00ac-402f-8cc5-40feaa064468",
   "metadata": {},
   "outputs": [
    {
     "data": {
      "text/plain": [
       "array([[1, 0, 0],\n",
       "       [0, 2, 0],\n",
       "       [0, 0, 3]])"
      ]
     },
     "execution_count": 43,
     "metadata": {},
     "output_type": "execute_result"
    }
   ],
   "source": [
    "z"
   ]
  },
  {
   "cell_type": "code",
   "execution_count": 44,
   "id": "33d099ce-2be0-4501-a011-ca5be9496f2c",
   "metadata": {},
   "outputs": [
    {
     "data": {
      "text/plain": [
       "array([[1., 1., 1., 1.],\n",
       "       [1., 1., 1., 1.],\n",
       "       [1., 1., 1., 1.],\n",
       "       [1., 1., 1., 1.]])"
      ]
     },
     "execution_count": 44,
     "metadata": {},
     "output_type": "execute_result"
    }
   ],
   "source": [
    "fck=np.ones((4,4))\n",
    "fck"
   ]
  },
  {
   "cell_type": "code",
   "execution_count": 45,
   "id": "67f43a66-cc43-45cf-adb9-6471c02a9633",
   "metadata": {},
   "outputs": [],
   "source": [
    "fck=np.diag([0,0,0])"
   ]
  },
  {
   "cell_type": "code",
   "execution_count": 46,
   "id": "2eb2a6e4-f5cb-4eb6-838c-dbe2b76b53d1",
   "metadata": {},
   "outputs": [
    {
     "data": {
      "text/plain": [
       "array([[0, 0, 0],\n",
       "       [0, 0, 0],\n",
       "       [0, 0, 0]])"
      ]
     },
     "execution_count": 46,
     "metadata": {},
     "output_type": "execute_result"
    }
   ],
   "source": [
    "fck"
   ]
  },
  {
   "cell_type": "code",
   "execution_count": 47,
   "id": "ea0f764b-3419-40a7-97b6-293bd2e6df69",
   "metadata": {},
   "outputs": [],
   "source": [
    "#  create a 4x4 matrix in which 0 and 1 are staggered, with zeros on the main diagonal.\n",
    "# in which  you  have  to  be  1 on even  one  and 0 on odd "
   ]
  },
  {
   "cell_type": "code",
   "execution_count": 48,
   "id": "fc83747e-0a29-40ba-8338-3ebe98830d93",
   "metadata": {},
   "outputs": [],
   "source": [
    "# let's see\n",
    "jb=np.zeros((4,4))"
   ]
  },
  {
   "cell_type": "code",
   "execution_count": 49,
   "id": "6fcb6c43-0947-4ffd-820d-f7378ed2d858",
   "metadata": {},
   "outputs": [
    {
     "data": {
      "text/plain": [
       "array([[0., 0., 0., 0.],\n",
       "       [0., 0., 0., 0.],\n",
       "       [0., 0., 0., 0.],\n",
       "       [0., 0., 0., 0.]])"
      ]
     },
     "execution_count": 49,
     "metadata": {},
     "output_type": "execute_result"
    }
   ],
   "source": [
    "jb"
   ]
  },
  {
   "cell_type": "code",
   "execution_count": 50,
   "id": "ed33bb1c-f431-4098-8d5c-a167b3c244f7",
   "metadata": {},
   "outputs": [],
   "source": [
    "jb[::2,1::2]=1\n",
    "jb[1::2,::2]=1"
   ]
  },
  {
   "cell_type": "code",
   "execution_count": 51,
   "id": "864b5821-75f2-4e97-820d-12b2068ca07b",
   "metadata": {},
   "outputs": [
    {
     "data": {
      "text/plain": [
       "array([[0., 1., 0., 1.],\n",
       "       [1., 0., 1., 0.],\n",
       "       [0., 1., 0., 1.],\n",
       "       [1., 0., 1., 0.]])"
      ]
     },
     "execution_count": 51,
     "metadata": {},
     "output_type": "execute_result"
    }
   ],
   "source": [
    "jb"
   ]
  },
  {
   "cell_type": "code",
   "execution_count": 52,
   "id": "81d0adf7-5b8f-4aa4-9d0e-7dc208e8ca03",
   "metadata": {},
   "outputs": [],
   "source": [
    "n=np.zeros((4,4))"
   ]
  },
  {
   "cell_type": "code",
   "execution_count": 53,
   "id": "e26e549a-f7e9-4b04-919b-e882589b4240",
   "metadata": {},
   "outputs": [
    {
     "data": {
      "text/plain": [
       "array([[0., 0., 0., 0.],\n",
       "       [0., 0., 0., 0.],\n",
       "       [0., 0., 0., 0.],\n",
       "       [0., 0., 0., 0.]])"
      ]
     },
     "execution_count": 53,
     "metadata": {},
     "output_type": "execute_result"
    }
   ],
   "source": [
    "n"
   ]
  },
  {
   "cell_type": "code",
   "execution_count": 54,
   "id": "9ab2b390-8804-436e-8da6-3b07a5258c7d",
   "metadata": {},
   "outputs": [],
   "source": [
    "n[0,1]=1\n",
    "n[0,3]=1\n",
    "n[1,0]=1\n",
    "n[1,2]=1\n",
    "n[2,1]=1\n",
    "n[2,3]=1\n",
    "n[3,0]=1\n",
    "n[3,2]=1\n",
    "\n",
    "# i did  same  thing as  done  earlier  but   what i  have  done  currently is  also  a  way  you can say one of the dumbest\n",
    "# one  the  wone  above is  of  just  2 line thing  has  been  done  mean's  you  understand  better how  it works"
   ]
  },
  {
   "cell_type": "code",
   "execution_count": 55,
   "id": "d4d8dd4d-718e-4e46-b904-e70a7f6f895e",
   "metadata": {},
   "outputs": [
    {
     "data": {
      "text/plain": [
       "array([[0., 1., 0., 1.],\n",
       "       [1., 0., 1., 0.],\n",
       "       [0., 1., 0., 1.],\n",
       "       [1., 0., 1., 0.]])"
      ]
     },
     "execution_count": 55,
     "metadata": {},
     "output_type": "execute_result"
    }
   ],
   "source": [
    "n"
   ]
  },
  {
   "cell_type": "code",
   "execution_count": 56,
   "id": "3d96a8e5-971b-41fa-868a-d5478fcf383a",
   "metadata": {},
   "outputs": [],
   "source": [
    "k=np.random.random((3,3,3))"
   ]
  },
  {
   "cell_type": "code",
   "execution_count": 57,
   "id": "f33c8e23-6a99-4b61-b942-a1475506f8e0",
   "metadata": {},
   "outputs": [
    {
     "data": {
      "text/plain": [
       "array([[[0.25626872, 0.5898168 , 0.71803316],\n",
       "        [0.32957963, 0.65946402, 0.25073732],\n",
       "        [0.13493761, 0.33510246, 0.36935041]],\n",
       "\n",
       "       [[0.36627909, 0.10297219, 0.77957794],\n",
       "        [0.47823704, 0.02181142, 0.68990514],\n",
       "        [0.1499682 , 0.72024155, 0.75535367]],\n",
       "\n",
       "       [[0.03236614, 0.34321482, 0.49531092],\n",
       "        [0.68295531, 0.77407045, 0.21901032],\n",
       "        [0.478184  , 0.49109325, 0.95703567]]])"
      ]
     },
     "execution_count": 57,
     "metadata": {},
     "output_type": "execute_result"
    }
   ],
   "source": [
    "k"
   ]
  },
  {
   "cell_type": "code",
   "execution_count": 58,
   "id": "3da7ffed-4602-4155-9cf6-1a4dd69d7159",
   "metadata": {},
   "outputs": [
    {
     "data": {
      "text/plain": [
       "array([[0.65491395, 1.03600381, 1.99292202],\n",
       "       [1.49077198, 1.45534589, 1.15965278],\n",
       "       [0.76308981, 1.54643727, 2.08173975]])"
      ]
     },
     "execution_count": 58,
     "metadata": {},
     "output_type": "execute_result"
    }
   ],
   "source": [
    "sum(k)"
   ]
  },
  {
   "cell_type": "code",
   "execution_count": 59,
   "id": "31e5b2ba-0da0-4f35-9492-0ba8fe17239a",
   "metadata": {},
   "outputs": [],
   "source": [
    "n=np.random.randn(3,3)"
   ]
  },
  {
   "cell_type": "code",
   "execution_count": 60,
   "id": "dff4e926-89cc-4c43-bec8-a061b988b140",
   "metadata": {},
   "outputs": [
    {
     "data": {
      "text/plain": [
       "array([[ 0.47339192,  0.01953992, -1.41265645],\n",
       "       [-0.95379544, -0.72810026,  0.33420075],\n",
       "       [ 1.54420988,  0.53982823,  0.06302036]])"
      ]
     },
     "execution_count": 60,
     "metadata": {},
     "output_type": "execute_result"
    }
   ],
   "source": [
    "n"
   ]
  },
  {
   "cell_type": "code",
   "execution_count": 61,
   "id": "04f722ae-3be6-46b1-a768-084200ac8f71",
   "metadata": {},
   "outputs": [
    {
     "data": {
      "text/plain": [
       "array([ 1.06380635, -0.16873211, -1.01543533])"
      ]
     },
     "execution_count": 61,
     "metadata": {},
     "output_type": "execute_result"
    }
   ],
   "source": [
    "sum(n)"
   ]
  },
  {
   "cell_type": "code",
   "execution_count": 62,
   "id": "e3db1479-8788-44b5-9ab9-ebe792341477",
   "metadata": {},
   "outputs": [
    {
     "data": {
      "text/plain": [
       "-0.12036109040385412"
      ]
     },
     "execution_count": 62,
     "metadata": {},
     "output_type": "execute_result"
    }
   ],
   "source": [
    "k=sum(n)\n",
    "sum(k)"
   ]
  },
  {
   "cell_type": "code",
   "execution_count": 63,
   "id": "27fa4ed6-2023-412e-ade1-16466e009a7b",
   "metadata": {},
   "outputs": [
    {
     "data": {
      "text/plain": [
       "-0.12036109040385407"
      ]
     },
     "execution_count": 63,
     "metadata": {},
     "output_type": "execute_result"
    }
   ],
   "source": [
    "l=np.sum(n)\n",
    "l # here we can  do same  thing  with  this  function  but you  should  no other  way also"
   ]
  },
  {
   "cell_type": "code",
   "execution_count": 64,
   "id": "927c76b9-c76c-464c-887e-3e273adc208b",
   "metadata": {},
   "outputs": [
    {
     "data": {
      "text/plain": [
       "array([ 1.06380635, -0.16873211, -1.01543533])"
      ]
     },
     "execution_count": 64,
     "metadata": {},
     "output_type": "execute_result"
    }
   ],
   "source": [
    "np.sum(n,axis=0)"
   ]
  },
  {
   "cell_type": "code",
   "execution_count": 65,
   "id": "62cb25a4-bff3-46c5-9600-687d1dadccf1",
   "metadata": {},
   "outputs": [
    {
     "data": {
      "text/plain": [
       "array([-0.91972461, -1.34769495,  2.14705847])"
      ]
     },
     "execution_count": 65,
     "metadata": {},
     "output_type": "execute_result"
    }
   ],
   "source": [
    "np.sum(n,axis=1)"
   ]
  },
  {
   "cell_type": "code",
   "execution_count": 66,
   "id": "7a363e89-2fb1-4149-af57-f3f08e3cbb03",
   "metadata": {},
   "outputs": [],
   "source": [
    "c=np.arange(11,24)\n",
    "c1=np.arange(31,44)"
   ]
  },
  {
   "cell_type": "code",
   "execution_count": 67,
   "id": "0b656c70-a7ac-472e-8119-f3f601c0833d",
   "metadata": {},
   "outputs": [
    {
     "data": {
      "text/plain": [
       "array([11, 12, 13, 14, 15, 16, 17, 18, 19, 20, 21, 22, 23])"
      ]
     },
     "execution_count": 67,
     "metadata": {},
     "output_type": "execute_result"
    }
   ],
   "source": [
    "c"
   ]
  },
  {
   "cell_type": "code",
   "execution_count": 68,
   "id": "3da36210-38fd-402b-b8f8-0fa258497a64",
   "metadata": {},
   "outputs": [
    {
     "data": {
      "text/plain": [
       "array([31, 32, 33, 34, 35, 36, 37, 38, 39, 40, 41, 42, 43])"
      ]
     },
     "execution_count": 68,
     "metadata": {},
     "output_type": "execute_result"
    }
   ],
   "source": [
    "c1"
   ]
  },
  {
   "cell_type": "code",
   "execution_count": 69,
   "id": "8f1405a6-32fb-42b9-8365-4d435075cd53",
   "metadata": {},
   "outputs": [],
   "source": [
    "n=c[1:-1]*c1[1:-1]"
   ]
  },
  {
   "cell_type": "code",
   "execution_count": 70,
   "id": "8021f0ac-cdbb-42ef-a0a1-89baededa264",
   "metadata": {},
   "outputs": [
    {
     "data": {
      "text/plain": [
       "array([384, 429, 476, 525, 576, 629, 684, 741, 800, 861, 924])"
      ]
     },
     "execution_count": 70,
     "metadata": {},
     "output_type": "execute_result"
    }
   ],
   "source": [
    "n"
   ]
  },
  {
   "cell_type": "code",
   "execution_count": 71,
   "id": "9e443cfe-2d4f-40e3-bb75-a8e672a05233",
   "metadata": {},
   "outputs": [],
   "source": [
    "# we  have  to  find the  dot  product "
   ]
  },
  {
   "cell_type": "code",
   "execution_count": 72,
   "id": "2d27d1f3-5bc8-4260-aa57-6342463f076f",
   "metadata": {},
   "outputs": [
    {
     "data": {
      "text/plain": [
       "8359"
      ]
     },
     "execution_count": 72,
     "metadata": {},
     "output_type": "execute_result"
    }
   ],
   "source": [
    "np.dot(c,c1) # so here you got  the  value "
   ]
  },
  {
   "cell_type": "code",
   "execution_count": 83,
   "id": "28789526-277f-4f39-b399-dc337b768215",
   "metadata": {},
   "outputs": [
    {
     "data": {
      "text/plain": [
       "(12,)"
      ]
     },
     "execution_count": 83,
     "metadata": {},
     "output_type": "execute_result"
    }
   ],
   "source": [
    "l=np.arange(11,23)\n",
    "l.shape"
   ]
  },
  {
   "cell_type": "code",
   "execution_count": 84,
   "id": "a2ea2458-ffe9-43e5-8129-849395142efb",
   "metadata": {},
   "outputs": [],
   "source": [
    "l = np.reshape(l, (4, -1))  "
   ]
  },
  {
   "cell_type": "code",
   "execution_count": 85,
   "id": "fa9a0a1e-c53e-408a-a362-2b46c33d2271",
   "metadata": {},
   "outputs": [
    {
     "data": {
      "text/plain": [
       "array([[11, 12, 13],\n",
       "       [14, 15, 16],\n",
       "       [17, 18, 19],\n",
       "       [20, 21, 22]])"
      ]
     },
     "execution_count": 85,
     "metadata": {},
     "output_type": "execute_result"
    }
   ],
   "source": [
    "l"
   ]
  },
  {
   "cell_type": "code",
   "execution_count": 86,
   "id": "69cefe13-e46d-4ab2-8426-57adb35b870c",
   "metadata": {},
   "outputs": [],
   "source": [
    "v=np.array([1,2,3])"
   ]
  },
  {
   "cell_type": "code",
   "execution_count": 87,
   "id": "5bdce969-219b-488f-a0d6-035416c920c8",
   "metadata": {},
   "outputs": [],
   "source": [
    "result=np.empty_like(l)"
   ]
  },
  {
   "cell_type": "code",
   "execution_count": 88,
   "id": "d66257b2-56f4-4a93-92f2-482b9fefb412",
   "metadata": {},
   "outputs": [],
   "source": [
    "for i in range(4):\n",
    "    result[i,:]=l[i,:]+v"
   ]
  },
  {
   "cell_type": "code",
   "execution_count": 89,
   "id": "1ddfd2af-1760-4961-84ae-a86c25c4f54b",
   "metadata": {},
   "outputs": [
    {
     "data": {
      "text/plain": [
       "array([[12, 14, 16],\n",
       "       [15, 17, 19],\n",
       "       [18, 20, 22],\n",
       "       [21, 23, 25]])"
      ]
     },
     "execution_count": 89,
     "metadata": {},
     "output_type": "execute_result"
    }
   ],
   "source": [
    "result"
   ]
  },
  {
   "cell_type": "code",
   "execution_count": null,
   "id": "4ac919a1-1b0f-4815-b256-118ff0395000",
   "metadata": {},
   "outputs": [],
   "source": []
  }
 ],
 "metadata": {
  "kernelspec": {
   "display_name": "Python 3 (ipykernel)",
   "language": "python",
   "name": "python3"
  },
  "language_info": {
   "codemirror_mode": {
    "name": "ipython",
    "version": 3
   },
   "file_extension": ".py",
   "mimetype": "text/x-python",
   "name": "python",
   "nbconvert_exporter": "python",
   "pygments_lexer": "ipython3",
   "version": "3.12.3"
  }
 },
 "nbformat": 4,
 "nbformat_minor": 5
}
