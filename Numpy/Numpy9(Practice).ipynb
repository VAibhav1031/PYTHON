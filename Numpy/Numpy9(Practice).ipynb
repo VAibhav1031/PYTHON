{
 "cells": [
  {
   "cell_type": "code",
   "execution_count": 2,
   "id": "a460dedc-bb0f-4132-a63c-b1613c76e961",
   "metadata": {},
   "outputs": [],
   "source": [
    "import numpy as np"
   ]
  },
  {
   "cell_type": "code",
   "execution_count": 2,
   "id": "aadb0d5e-c29a-416e-9684-f5e92ce45411",
   "metadata": {},
   "outputs": [],
   "source": [
    "n=np.random.rand(40).reshape(8,5)"
   ]
  },
  {
   "cell_type": "code",
   "execution_count": 3,
   "id": "dacfb565-5f51-4ecf-a65f-af65e8d85667",
   "metadata": {},
   "outputs": [
    {
     "data": {
      "text/plain": [
       "array([[0.32263672, 0.0702205 , 0.40869822, 0.16963126, 0.63713027],\n",
       "       [0.17311257, 0.87463486, 0.01478234, 0.83318782, 0.5394909 ],\n",
       "       [0.18792635, 0.15566783, 0.52299431, 0.89645676, 0.96970767],\n",
       "       [0.86987149, 0.70805326, 0.5449831 , 0.97798469, 0.55750685],\n",
       "       [0.5728122 , 0.1266248 , 0.18483417, 0.44846227, 0.22087535],\n",
       "       [0.25174587, 0.93374023, 0.84947174, 0.04586064, 0.97371157],\n",
       "       [0.02142111, 0.74588463, 0.66396736, 0.80791851, 0.47064524],\n",
       "       [0.27997686, 0.52927969, 0.21806218, 0.47068641, 0.50902671]])"
      ]
     },
     "execution_count": 3,
     "metadata": {},
     "output_type": "execute_result"
    }
   ],
   "source": [
    "n"
   ]
  },
  {
   "cell_type": "code",
   "execution_count": 4,
   "id": "17e3db71-b104-41b9-affc-cc3b2b6dce48",
   "metadata": {},
   "outputs": [],
   "source": [
    "b=np.random.rand(1400).reshape(200,7)"
   ]
  },
  {
   "cell_type": "code",
   "execution_count": 5,
   "id": "98d4e9ef-f3da-4a20-ac22-d11d069454cf",
   "metadata": {},
   "outputs": [
    {
     "data": {
      "text/plain": [
       "array([[0.22501861, 0.70947731, 0.39421938, ..., 0.79570897, 0.96736248,\n",
       "        0.29720201],\n",
       "       [0.23196212, 0.35755068, 0.35435093, ..., 0.56108534, 0.43020462,\n",
       "        0.99263655],\n",
       "       [0.22176532, 0.53879138, 0.35245251, ..., 0.95745408, 0.63352241,\n",
       "        0.15457371],\n",
       "       ...,\n",
       "       [0.94587944, 0.80327193, 0.18756966, ..., 0.45328334, 0.68358679,\n",
       "        0.36094641],\n",
       "       [0.93116329, 0.06200375, 0.08258116, ..., 0.67910869, 0.13869868,\n",
       "        0.75474827],\n",
       "       [0.0443593 , 0.66055081, 0.57741875, ..., 0.05701227, 0.38582566,\n",
       "        0.57135475]])"
      ]
     },
     "execution_count": 5,
     "metadata": {},
     "output_type": "execute_result"
    }
   ],
   "source": [
    "b"
   ]
  },
  {
   "cell_type": "code",
   "execution_count": 6,
   "id": "04f2648d-b743-4275-995a-b134428a9f3f",
   "metadata": {},
   "outputs": [],
   "source": [
    "np.random.seed(20)"
   ]
  },
  {
   "cell_type": "code",
   "execution_count": 7,
   "id": "7cdf470a-4626-40c4-8111-a85b7f3ac855",
   "metadata": {},
   "outputs": [],
   "source": [
    "cbrt = np.cbrt(7)"
   ]
  },
  {
   "cell_type": "code",
   "execution_count": 8,
   "id": "af10cbe1-b118-4de1-9af0-b5adad78d84f",
   "metadata": {},
   "outputs": [],
   "source": [
    "nd=200"
   ]
  },
  {
   "cell_type": "code",
   "execution_count": 9,
   "id": "9fc1ba6b-ab04-4ff5-919f-b9545b8cbc42",
   "metadata": {},
   "outputs": [],
   "source": [
    "p=cbrt*np.random.randn(10,4)+nd"
   ]
  },
  {
   "cell_type": "code",
   "execution_count": 10,
   "id": "29cd00ce-1ec0-4a8b-b96b-abb76980f46c",
   "metadata": {},
   "outputs": [
    {
     "data": {
      "text/plain": [
       "array([[201.6908267 , 200.37467631, 200.68394275, 195.51750123],\n",
       "       [197.92478992, 201.07066048, 201.79714021, 198.1282331 ],\n",
       "       [200.96238963, 200.77744291, 200.61875865, 199.05613894],\n",
       "       [198.48492638, 198.38860811, 197.55239946, 200.47003621],\n",
       "       [199.91545839, 202.99877319, 202.01069857, 200.77735483],\n",
       "       [199.67739161, 193.89831807, 202.14273593, 202.54951299],\n",
       "       [199.53450969, 199.7512602 , 199.79145727, 202.97687757],\n",
       "       [200.24634413, 196.04606934, 198.30611253, 197.88701546],\n",
       "       [201.78450912, 203.94032834, 198.21152803, 196.91446071],\n",
       "       [201.0082481 , 197.03285104, 200.63052763, 197.82590294]])"
      ]
     },
     "execution_count": 10,
     "metadata": {},
     "output_type": "execute_result"
    }
   ],
   "source": [
    "p"
   ]
  },
  {
   "cell_type": "code",
   "execution_count": 11,
   "id": "fc6030ea-9594-463c-9a76-3f8b26b57781",
   "metadata": {},
   "outputs": [
    {
     "name": "stdout",
     "output_type": "stream",
     "text": [
      "[2 2 1 5 2]\n"
     ]
    }
   ],
   "source": [
    "print(np.random.choice(7,5)) # uniform  distirbution with replacement means(a  random 5  number will be choosen from 0 to 6 where 7 is \n",
    "                            # exclusive and with  replacement mean's there can be repetition"
   ]
  },
  {
   "cell_type": "code",
   "execution_count": 12,
   "id": "b7caf06e-759b-4c62-8725-e8294ee8fb38",
   "metadata": {},
   "outputs": [
    {
     "name": "stdout",
     "output_type": "stream",
     "text": [
      "[6 3 5 4 2]\n"
     ]
    }
   ],
   "source": [
    "print(np.random.choice(7,5,replace=False))  # same thing  happening as above  the  difference is there is no replacement "
   ]
  },
  {
   "cell_type": "code",
   "execution_count": 13,
   "id": "585413e8-d302-4a85-a895-25b80e44b703",
   "metadata": {},
   "outputs": [
    {
     "name": "stdout",
     "output_type": "stream",
     "text": [
      "[6 1 6 0 1]\n"
     ]
    }
   ],
   "source": [
    "print(np.random.choice(7,5,p=[0.1,0.2,0,0.2,0.4,0,0.1]))"
   ]
  },
  {
   "cell_type": "code",
   "execution_count": 14,
   "id": "a75e12d0-1d5c-4669-99b0-ecc1728bc7d8",
   "metadata": {},
   "outputs": [
    {
     "name": "stdout",
     "output_type": "stream",
     "text": [
      "[1 6 4 3 0]\n"
     ]
    }
   ],
   "source": [
    "print(np.random.choice(7,5,p=[0.1,0.2,0,0.2,0.4,0,0.1],replace=False))"
   ]
  },
  {
   "cell_type": "code",
   "execution_count": 15,
   "id": "0b5bddd2-8710-45d9-b4be-70a0f4b76653",
   "metadata": {},
   "outputs": [],
   "source": [
    " # create a 4x4 array with random values. Create an array from the said array swapping first and last rows."
   ]
  },
  {
   "cell_type": "code",
   "execution_count": 16,
   "id": "d8544129-26e4-4404-ae81-856abe337031",
   "metadata": {},
   "outputs": [],
   "source": [
    "l=np.random.rand(4,4)"
   ]
  },
  {
   "cell_type": "code",
   "execution_count": 17,
   "id": "0aec8710-680a-4de1-a8fe-06f43efcfa83",
   "metadata": {},
   "outputs": [
    {
     "data": {
      "text/plain": [
       "array([[0.33533569, 0.70095242, 0.63395338, 0.38189399],\n",
       "       [0.89902852, 0.40013986, 0.36056156, 0.82452325],\n",
       "       [0.04793234, 0.71622117, 0.10118238, 0.96626439],\n",
       "       [0.1964783 , 0.80990096, 0.29555263, 0.55271805]])"
      ]
     },
     "execution_count": 17,
     "metadata": {},
     "output_type": "execute_result"
    }
   ],
   "source": [
    "l"
   ]
  },
  {
   "cell_type": "code",
   "execution_count": 18,
   "id": "c19c1368-1a7e-4383-b2bc-6c33f45a111b",
   "metadata": {},
   "outputs": [],
   "source": [
    "# so  we  have  to   now  swapp the  first  row and  last row"
   ]
  },
  {
   "cell_type": "code",
   "execution_count": 19,
   "id": "9cd35000-e396-4a34-a4f9-b50ea77815d3",
   "metadata": {},
   "outputs": [],
   "source": [
    "t=np.copy(l[0])\n",
    "l[0]=l[-1]\n",
    "l[-1]=t"
   ]
  },
  {
   "cell_type": "code",
   "execution_count": 20,
   "id": "08a74cd8-cf33-4686-ae4b-a88e94c6c7a2",
   "metadata": {},
   "outputs": [
    {
     "data": {
      "text/plain": [
       "array([[0.1964783 , 0.80990096, 0.29555263, 0.55271805],\n",
       "       [0.89902852, 0.40013986, 0.36056156, 0.82452325],\n",
       "       [0.04793234, 0.71622117, 0.10118238, 0.96626439],\n",
       "       [0.33533569, 0.70095242, 0.63395338, 0.38189399]])"
      ]
     },
     "execution_count": 20,
     "metadata": {},
     "output_type": "execute_result"
    }
   ],
   "source": [
    "l"
   ]
  },
  {
   "cell_type": "code",
   "execution_count": 21,
   "id": "244735d3-ddc9-4dbc-ab1d-501a02fca8f0",
   "metadata": {},
   "outputs": [],
   "source": [
    "l=np.zeros((5,6))"
   ]
  },
  {
   "cell_type": "code",
   "execution_count": 22,
   "id": "cc781ef9-0ece-4fe5-b881-fc2aebab2e91",
   "metadata": {},
   "outputs": [
    {
     "data": {
      "text/plain": [
       "array([[0., 0., 0., 0., 0., 0.],\n",
       "       [0., 0., 0., 0., 0., 0.],\n",
       "       [0., 0., 0., 0., 0., 0.],\n",
       "       [0., 0., 0., 0., 0., 0.],\n",
       "       [0., 0., 0., 0., 0., 0.]])"
      ]
     },
     "execution_count": 22,
     "metadata": {},
     "output_type": "execute_result"
    }
   ],
   "source": [
    "l"
   ]
  },
  {
   "cell_type": "code",
   "execution_count": 23,
   "id": "971ffdef-7eaa-4096-82e9-e3b3953baff7",
   "metadata": {},
   "outputs": [],
   "source": [
    "l[::2,1::2]=5\n",
    "l[1::2,::2]=6"
   ]
  },
  {
   "cell_type": "code",
   "execution_count": 24,
   "id": "b7a7059d-d6f9-4bbd-acdb-4b900f751bc9",
   "metadata": {},
   "outputs": [
    {
     "data": {
      "text/plain": [
       "array([[0., 5., 0., 5., 0., 5.],\n",
       "       [6., 0., 6., 0., 6., 0.],\n",
       "       [0., 5., 0., 5., 0., 5.],\n",
       "       [6., 0., 6., 0., 6., 0.],\n",
       "       [0., 5., 0., 5., 0., 5.]])"
      ]
     },
     "execution_count": 24,
     "metadata": {},
     "output_type": "execute_result"
    }
   ],
   "source": [
    "l"
   ]
  },
  {
   "cell_type": "code",
   "execution_count": 25,
   "id": "3ef2f9bc-224f-405d-bff0-f8cc52594944",
   "metadata": {},
   "outputs": [],
   "source": [
    "k=np.array([[5.54, 3.38, 7.99],\n",
    "              [3.54, 4.38, 6.99],\n",
    "              [1.54, 2.39, 9.29]])"
   ]
  },
  {
   "cell_type": "code",
   "execution_count": 26,
   "id": "917d18e7-3844-455a-9b1d-e00d097abbd1",
   "metadata": {},
   "outputs": [],
   "source": [
    "# NumPy program to extract all numbers from a given array less and greater than a specified number"
   ]
  },
  {
   "cell_type": "code",
   "execution_count": 27,
   "id": "547a2698-9798-432d-963b-59e6828e2d56",
   "metadata": {},
   "outputs": [],
   "source": [
    "n=np.arange(21,81)"
   ]
  },
  {
   "cell_type": "code",
   "execution_count": 28,
   "id": "6e229e33-93e7-4220-a769-3f4d35392ecd",
   "metadata": {},
   "outputs": [
    {
     "data": {
      "text/plain": [
       "(60,)"
      ]
     },
     "execution_count": 28,
     "metadata": {},
     "output_type": "execute_result"
    }
   ],
   "source": [
    "n\n",
    "n.shape"
   ]
  },
  {
   "cell_type": "code",
   "execution_count": 29,
   "id": "fbaada3d-23de-4077-bedd-06c839ee5e0b",
   "metadata": {},
   "outputs": [],
   "source": [
    "l=np.arange(0,24).reshape(4,6)"
   ]
  },
  {
   "cell_type": "code",
   "execution_count": 30,
   "id": "58d5d554-371a-42d8-8a9f-d5f33f86a0ee",
   "metadata": {},
   "outputs": [
    {
     "data": {
      "text/plain": [
       "(4, 6)"
      ]
     },
     "execution_count": 30,
     "metadata": {},
     "output_type": "execute_result"
    }
   ],
   "source": [
    "l.shape"
   ]
  },
  {
   "cell_type": "code",
   "execution_count": 31,
   "id": "07c09b4d-3f91-469b-a207-8a47ce5cab32",
   "metadata": {},
   "outputs": [
    {
     "data": {
      "text/plain": [
       "array([[ 0,  1,  2,  3,  4,  5],\n",
       "       [ 6,  7,  8,  9, 10, 11],\n",
       "       [12, 13, 14, 15, 16, 17],\n",
       "       [18, 19, 20, 21, 22, 23]])"
      ]
     },
     "execution_count": 31,
     "metadata": {},
     "output_type": "execute_result"
    }
   ],
   "source": [
    "l"
   ]
  },
  {
   "cell_type": "code",
   "execution_count": 32,
   "id": "51ad955e-bf35-40d9-9012-08bb889c96e7",
   "metadata": {},
   "outputs": [],
   "source": [
    "m=16  # number  to  which  greater equal  than and  smaller  equal  we  have  to find"
   ]
  },
  {
   "cell_type": "code",
   "execution_count": 33,
   "id": "570bcbbf-8479-493a-8007-6411744c2cee",
   "metadata": {},
   "outputs": [],
   "source": [
    "greater=[]\n",
    "small=[]\n",
    "for i in range(len(l)):\n",
    "    for j in range(len(l[i])):\n",
    "        if np.greater_equal(l[i][j],m):\n",
    "            greater.append(l[i][j])\n",
    "        elif np.less_equal(l[i][j],m):\n",
    "            small.append(l[i][j])\n",
    "            \n",
    "            "
   ]
  },
  {
   "cell_type": "code",
   "execution_count": 34,
   "id": "fe4841ad-48bf-4583-a324-0d51b73fa78a",
   "metadata": {},
   "outputs": [
    {
     "name": "stdout",
     "output_type": "stream",
     "text": [
      "[16, 17, 18, 19, 20, 21, 22, 23]\n"
     ]
    }
   ],
   "source": [
    "print(greater)"
   ]
  },
  {
   "cell_type": "code",
   "execution_count": 35,
   "id": "22f6e56d-510a-42d0-a6a2-34fa3001b030",
   "metadata": {},
   "outputs": [
    {
     "name": "stdout",
     "output_type": "stream",
     "text": [
      "[0, 1, 2, 3, 4, 5, 6, 7, 8, 9, 10, 11, 12, 13, 14, 15]\n"
     ]
    }
   ],
   "source": [
    "print(small)"
   ]
  },
  {
   "cell_type": "code",
   "execution_count": 36,
   "id": "0dad77ee-507e-4446-bc2a-7968d82cb85e",
   "metadata": {},
   "outputs": [],
   "source": [
    "# few   will  think this  is  greatest  one  but  it  is  not   you  must  see   there is always  a simpler way \n",
    "# let's  see  "
   ]
  },
  {
   "cell_type": "code",
   "execution_count": 37,
   "id": "7b16d3a5-9f50-4014-941d-5b6e1bf635ec",
   "metadata": {},
   "outputs": [
    {
     "data": {
      "text/plain": [
       "array([16, 17, 18, 19, 20, 21, 22, 23])"
      ]
     },
     "execution_count": 37,
     "metadata": {},
     "output_type": "execute_result"
    }
   ],
   "source": [
    "l[l>=m]"
   ]
  },
  {
   "cell_type": "code",
   "execution_count": 38,
   "id": "a76fb7bf-7e10-4f80-82df-b1fe031a4bd5",
   "metadata": {},
   "outputs": [
    {
     "data": {
      "text/plain": [
       "array([ 0,  1,  2,  3,  4,  5,  6,  7,  8,  9, 10, 11, 12, 13, 14, 15, 16])"
      ]
     },
     "execution_count": 38,
     "metadata": {},
     "output_type": "execute_result"
    }
   ],
   "source": [
    "l[l<=m]"
   ]
  },
  {
   "cell_type": "code",
   "execution_count": 39,
   "id": "65b9a289-6e9e-4046-a3a8-ef4af8ba8186",
   "metadata": {},
   "outputs": [],
   "source": [
    "# Don't  you  get the same  result  the  difference  between them  is  that  been  is used  with  complex  thing to get \n",
    "# the  same  result   but you  shoould   know  or  try  both  way   that  will help   you  in  future  in solving  the  complex \n",
    "# code"
   ]
  },
  {
   "cell_type": "code",
   "execution_count": 40,
   "id": "a1e1f88d-b663-487d-8ad5-bf394660c8a2",
   "metadata": {},
   "outputs": [],
   "source": [
    "nums = np.array([[5.54, 3.38, 7.99],\n",
    "              [3.54, 8.32, 6.99],\n",
    "              [1.54, 2.39, 9.29],\n",
    "              [2.62,2.83,3.12]])"
   ]
  },
  {
   "cell_type": "code",
   "execution_count": 41,
   "id": "ac65ebe3-f409-4df3-be33-869885892a53",
   "metadata": {},
   "outputs": [],
   "source": [
    "t=np.copy(nums[0])\n",
    "nums[0]=nums[-1]\n",
    "nums[0]=t\n",
    "t1=np.copy(nums[1])\n",
    "nums[1]=nums[2]\n",
    "nums[2]=t1"
   ]
  },
  {
   "cell_type": "code",
   "execution_count": 42,
   "id": "de8a8674-f814-4880-b9ae-4d374a2c92f8",
   "metadata": {},
   "outputs": [
    {
     "data": {
      "text/plain": [
       "array([[5.54, 3.38, 7.99],\n",
       "       [1.54, 2.39, 9.29],\n",
       "       [3.54, 8.32, 6.99],\n",
       "       [2.62, 2.83, 3.12]])"
      ]
     },
     "execution_count": 42,
     "metadata": {},
     "output_type": "execute_result"
    }
   ],
   "source": [
    "nums"
   ]
  },
  {
   "cell_type": "code",
   "execution_count": 43,
   "id": "3af2a521-7853-49a9-8147-5e6495a08851",
   "metadata": {},
   "outputs": [],
   "source": [
    "l1=np.copy(l)"
   ]
  },
  {
   "cell_type": "code",
   "execution_count": 44,
   "id": "b72d0975-c586-48a8-8c56-28d6ec451db4",
   "metadata": {},
   "outputs": [
    {
     "data": {
      "text/plain": [
       "array([[  0,   1,   4,   9,  16,  25],\n",
       "       [ 36,  49,  64,  81, 100, 121],\n",
       "       [144, 169, 196, 225, 256, 289],\n",
       "       [324, 361, 400, 441, 484, 529]])"
      ]
     },
     "execution_count": 44,
     "metadata": {},
     "output_type": "execute_result"
    }
   ],
   "source": [
    "l*l1"
   ]
  },
  {
   "cell_type": "code",
   "execution_count": 45,
   "id": "d8169107-39ab-47eb-bc54-b3aa7a6f5fb5",
   "metadata": {},
   "outputs": [
    {
     "name": "stdout",
     "output_type": "stream",
     "text": [
      "1.26.4\n"
     ]
    }
   ],
   "source": [
    "print(np.__version__)"
   ]
  },
  {
   "cell_type": "code",
   "execution_count": 46,
   "id": "06f3ebd8-34a9-440e-995e-ad6dcb77e45d",
   "metadata": {},
   "outputs": [],
   "source": [
    "l=[12.23, 13.32, 100, 36.32]"
   ]
  },
  {
   "cell_type": "code",
   "execution_count": 47,
   "id": "2f87456c-5228-40f2-b073-3947a7880380",
   "metadata": {},
   "outputs": [],
   "source": [
    "k=np.array(l)"
   ]
  },
  {
   "cell_type": "code",
   "execution_count": 48,
   "id": "448aa12f-2b85-404d-9b93-55adb03f7d5e",
   "metadata": {},
   "outputs": [
    {
     "data": {
      "text/plain": [
       "1"
      ]
     },
     "execution_count": 48,
     "metadata": {},
     "output_type": "execute_result"
    }
   ],
   "source": [
    "k.ndim #for the dimension"
   ]
  },
  {
   "cell_type": "code",
   "execution_count": 49,
   "id": "fcde1ead-91be-4dd2-bc45-5257afe05016",
   "metadata": {},
   "outputs": [],
   "source": [
    "p=np.arange(2,11)"
   ]
  },
  {
   "cell_type": "code",
   "execution_count": 50,
   "id": "3ec15398-ae81-47da-8c01-98485c51b9c1",
   "metadata": {},
   "outputs": [
    {
     "data": {
      "text/plain": [
       "(9,)"
      ]
     },
     "execution_count": 50,
     "metadata": {},
     "output_type": "execute_result"
    }
   ],
   "source": [
    "p.shape"
   ]
  },
  {
   "cell_type": "code",
   "execution_count": 51,
   "id": "15391351-d329-4bea-877f-0ed96dd3d250",
   "metadata": {},
   "outputs": [
    {
     "data": {
      "text/plain": [
       "array([[ 2,  3,  4],\n",
       "       [ 5,  6,  7],\n",
       "       [ 8,  9, 10]])"
      ]
     },
     "execution_count": 51,
     "metadata": {},
     "output_type": "execute_result"
    }
   ],
   "source": [
    "p.reshape(3,3)"
   ]
  },
  {
   "cell_type": "code",
   "execution_count": 52,
   "id": "6274b16a-5ba4-435b-bb15-160b508d1920",
   "metadata": {},
   "outputs": [],
   "source": [
    "k=np.arange(2,11)"
   ]
  },
  {
   "cell_type": "code",
   "execution_count": 53,
   "id": "49ff1691-f997-4fcc-b30f-7cb8bffc4d20",
   "metadata": {},
   "outputs": [
    {
     "data": {
      "text/plain": [
       "array([ 2,  3,  4,  5,  6,  7,  8,  9, 10])"
      ]
     },
     "execution_count": 53,
     "metadata": {},
     "output_type": "execute_result"
    }
   ],
   "source": [
    "k"
   ]
  },
  {
   "cell_type": "code",
   "execution_count": 54,
   "id": "849c9250-cbaf-450f-9006-743d2dcc50ef",
   "metadata": {},
   "outputs": [
    {
     "data": {
      "text/plain": [
       "array([[ 2,  3,  4],\n",
       "       [ 5,  6,  7],\n",
       "       [ 8,  9, 10]])"
      ]
     },
     "execution_count": 54,
     "metadata": {},
     "output_type": "execute_result"
    }
   ],
   "source": [
    "k.reshape(3,3)"
   ]
  },
  {
   "cell_type": "code",
   "execution_count": 55,
   "id": "ae225302-8421-4726-9327-62ee2e1925d4",
   "metadata": {},
   "outputs": [],
   "source": [
    "l=np.zeros(10)"
   ]
  },
  {
   "cell_type": "code",
   "execution_count": 56,
   "id": "e6d1d7bf-c820-477f-8bb5-609ebbd2a83e",
   "metadata": {},
   "outputs": [
    {
     "data": {
      "text/plain": [
       "array([0., 0., 0., 0., 0., 0., 0., 0., 0., 0.])"
      ]
     },
     "execution_count": 56,
     "metadata": {},
     "output_type": "execute_result"
    }
   ],
   "source": [
    "l"
   ]
  },
  {
   "cell_type": "code",
   "execution_count": 57,
   "id": "50e24617-e673-40ed-92f7-0b4d8a3358d5",
   "metadata": {},
   "outputs": [],
   "source": [
    "l[6]=11"
   ]
  },
  {
   "cell_type": "code",
   "execution_count": 58,
   "id": "9c114f34-18f0-4d25-9a2f-e56ed7625325",
   "metadata": {},
   "outputs": [
    {
     "data": {
      "text/plain": [
       "array([ 0.,  0.,  0.,  0.,  0.,  0., 11.,  0.,  0.,  0.])"
      ]
     },
     "execution_count": 58,
     "metadata": {},
     "output_type": "execute_result"
    }
   ],
   "source": [
    "l"
   ]
  },
  {
   "cell_type": "code",
   "execution_count": 59,
   "id": "6b34accd-1477-48fb-b137-46b19e35d466",
   "metadata": {},
   "outputs": [],
   "source": [
    "l=np.arange(4,13)"
   ]
  },
  {
   "cell_type": "code",
   "execution_count": 60,
   "id": "8f8abca9-bbc0-4870-ace8-dbf92f2992b3",
   "metadata": {},
   "outputs": [
    {
     "data": {
      "text/plain": [
       "array([ 4,  5,  6,  7,  8,  9, 10, 11, 12])"
      ]
     },
     "execution_count": 60,
     "metadata": {},
     "output_type": "execute_result"
    }
   ],
   "source": [
    "l"
   ]
  },
  {
   "cell_type": "code",
   "execution_count": 65,
   "id": "b05c398e-76a0-4be8-85f4-7548a7ad47c8",
   "metadata": {},
   "outputs": [],
   "source": [
    "l=l[::-1]"
   ]
  },
  {
   "cell_type": "code",
   "execution_count": 66,
   "id": "6afb203d-7c68-472e-ac1b-4ba94bc041f2",
   "metadata": {},
   "outputs": [
    {
     "data": {
      "text/plain": [
       "array([12, 11, 10,  9,  8,  7,  6,  5,  4])"
      ]
     },
     "execution_count": 66,
     "metadata": {},
     "output_type": "execute_result"
    }
   ],
   "source": [
    "l"
   ]
  },
  {
   "cell_type": "code",
   "execution_count": 67,
   "id": "f972f225-5d32-4076-902b-c7670bfce930",
   "metadata": {},
   "outputs": [],
   "source": [
    "l=np.array([1,2,3,4])"
   ]
  },
  {
   "cell_type": "code",
   "execution_count": 68,
   "id": "b2d2b2cb-503f-402b-b599-aa5936ca7c3d",
   "metadata": {},
   "outputs": [],
   "source": [
    "l=l.astype(\"float32\")"
   ]
  },
  {
   "cell_type": "code",
   "execution_count": 69,
   "id": "3197942b-3c08-4064-a13c-e3569789648d",
   "metadata": {},
   "outputs": [
    {
     "data": {
      "text/plain": [
       "array([1., 2., 3., 4.], dtype=float32)"
      ]
     },
     "execution_count": 69,
     "metadata": {},
     "output_type": "execute_result"
    }
   ],
   "source": [
    "l"
   ]
  },
  {
   "cell_type": "code",
   "execution_count": 70,
   "id": "3a4cc5ff-08dd-46bd-929f-2419d39a269f",
   "metadata": {},
   "outputs": [
    {
     "name": "stdout",
     "output_type": "stream",
     "text": [
      "[1. 2. 3. 4.]\n"
     ]
    }
   ],
   "source": [
    "print(l)"
   ]
  },
  {
   "cell_type": "code",
   "execution_count": 8,
   "id": "81183c45-096f-4e4f-b08a-cd7b0e257bb7",
   "metadata": {},
   "outputs": [],
   "source": [
    "l=np.arange(1,65).reshape(8,8)"
   ]
  },
  {
   "cell_type": "code",
   "execution_count": 9,
   "id": "fa38ed34-4ad0-4c74-b89e-cc08f2db8444",
   "metadata": {},
   "outputs": [
    {
     "data": {
      "text/plain": [
       "(8, 8)"
      ]
     },
     "execution_count": 9,
     "metadata": {},
     "output_type": "execute_result"
    }
   ],
   "source": [
    "l.shape"
   ]
  },
  {
   "cell_type": "code",
   "execution_count": 10,
   "id": "0bec2b0e-a28e-47e9-80ea-65fd3536b8d2",
   "metadata": {},
   "outputs": [
    {
     "data": {
      "text/plain": [
       "array([[ 1,  2,  3,  4,  5,  6,  7,  8],\n",
       "       [ 9, 10, 11, 12, 13, 14, 15, 16],\n",
       "       [17, 18, 19, 20, 21, 22, 23, 24],\n",
       "       [25, 26, 27, 28, 29, 30, 31, 32],\n",
       "       [33, 34, 35, 36, 37, 38, 39, 40],\n",
       "       [41, 42, 43, 44, 45, 46, 47, 48],\n",
       "       [49, 50, 51, 52, 53, 54, 55, 56],\n",
       "       [57, 58, 59, 60, 61, 62, 63, 64]])"
      ]
     },
     "execution_count": 10,
     "metadata": {},
     "output_type": "execute_result"
    }
   ],
   "source": [
    "l"
   ]
  },
  {
   "cell_type": "code",
   "execution_count": 12,
   "id": "9754e036-a4c8-4e11-b4c5-4ce67c39b16f",
   "metadata": {},
   "outputs": [],
   "source": [
    "o=np.zeros((8,8))"
   ]
  },
  {
   "cell_type": "code",
   "execution_count": 13,
   "id": "2c8c28ca-b665-47ba-9737-cfa7e78019a7",
   "metadata": {},
   "outputs": [
    {
     "data": {
      "text/plain": [
       "array([[0., 0., 0., 0., 0., 0., 0., 0.],\n",
       "       [0., 0., 0., 0., 0., 0., 0., 0.],\n",
       "       [0., 0., 0., 0., 0., 0., 0., 0.],\n",
       "       [0., 0., 0., 0., 0., 0., 0., 0.],\n",
       "       [0., 0., 0., 0., 0., 0., 0., 0.],\n",
       "       [0., 0., 0., 0., 0., 0., 0., 0.],\n",
       "       [0., 0., 0., 0., 0., 0., 0., 0.],\n",
       "       [0., 0., 0., 0., 0., 0., 0., 0.]])"
      ]
     },
     "execution_count": 13,
     "metadata": {},
     "output_type": "execute_result"
    }
   ],
   "source": [
    "o"
   ]
  },
  {
   "cell_type": "code",
   "execution_count": 16,
   "id": "44764800-db75-411d-a559-0fed46f6341a",
   "metadata": {},
   "outputs": [],
   "source": [
    "o[::2,1::2]=1\n",
    "o[1::2,::2]=1"
   ]
  },
  {
   "cell_type": "code",
   "execution_count": 17,
   "id": "33d814b2-c468-48b8-9fc6-df2e3daa66f6",
   "metadata": {},
   "outputs": [
    {
     "data": {
      "text/plain": [
       "array([[0., 1., 0., 1., 0., 1., 0., 1.],\n",
       "       [1., 0., 1., 0., 1., 0., 1., 0.],\n",
       "       [0., 1., 0., 1., 0., 1., 0., 1.],\n",
       "       [1., 0., 1., 0., 1., 0., 1., 0.],\n",
       "       [0., 1., 0., 1., 0., 1., 0., 1.],\n",
       "       [1., 0., 1., 0., 1., 0., 1., 0.],\n",
       "       [0., 1., 0., 1., 0., 1., 0., 1.],\n",
       "       [1., 0., 1., 0., 1., 0., 1., 0.]])"
      ]
     },
     "execution_count": 17,
     "metadata": {},
     "output_type": "execute_result"
    }
   ],
   "source": [
    "o"
   ]
  },
  {
   "cell_type": "code",
   "execution_count": 19,
   "id": "c178a0b4-de83-49a1-a7d9-c63bdaa090b9",
   "metadata": {},
   "outputs": [],
   "source": [
    "l=[2,3,6,8,9,9,]\n",
    "l=np.array(l)"
   ]
  },
  {
   "cell_type": "code",
   "execution_count": 20,
   "id": "a1993e55-3397-4773-b91b-7353582ebe1d",
   "metadata": {},
   "outputs": [
    {
     "data": {
      "text/plain": [
       "array([2, 3, 6, 8, 9, 9])"
      ]
     },
     "execution_count": 20,
     "metadata": {},
     "output_type": "execute_result"
    }
   ],
   "source": [
    "l"
   ]
  },
  {
   "cell_type": "code",
   "execution_count": 21,
   "id": "01ce383b-8e57-45f1-bea8-d53af5001b4d",
   "metadata": {},
   "outputs": [],
   "source": [
    "# we  can also  use the  asarray() function  to  convert "
   ]
  },
  {
   "cell_type": "code",
   "execution_count": 22,
   "id": "10614709-e989-4bb2-bab4-916c81125d07",
   "metadata": {},
   "outputs": [],
   "source": [
    "# question  how  to   append the  list   to  the  array  !! how  you can  do  this"
   ]
  },
  {
   "cell_type": "code",
   "execution_count": 29,
   "id": "1d9fedb0-106a-410a-bc96-0469f4cf64ee",
   "metadata": {},
   "outputs": [],
   "source": [
    "p=[2,5,6]\n",
    "l=np.array([41,24,36,24,12])"
   ]
  },
  {
   "cell_type": "code",
   "execution_count": 31,
   "id": "c0da365a-f6f4-4e50-9052-8680c37f3b59",
   "metadata": {},
   "outputs": [],
   "source": [
    "j=np.append(l,p,axis=0)"
   ]
  },
  {
   "cell_type": "code",
   "execution_count": 32,
   "id": "700da68d-d138-48e1-a059-e39d78030019",
   "metadata": {},
   "outputs": [
    {
     "data": {
      "text/plain": [
       "array([41, 24, 36,  2,  5,  6])"
      ]
     },
     "execution_count": 32,
     "metadata": {},
     "output_type": "execute_result"
    }
   ],
   "source": [
    "j"
   ]
  },
  {
   "cell_type": "code",
   "execution_count": 44,
   "id": "fca9f7e4-b8e0-406b-a16b-9fd639c3ebcd",
   "metadata": {},
   "outputs": [],
   "source": [
    "p=np.empty((3,4))"
   ]
  },
  {
   "cell_type": "code",
   "execution_count": 45,
   "id": "399e62ca-07f3-4db6-aad6-968e0fef20fa",
   "metadata": {},
   "outputs": [
    {
     "data": {
      "text/plain": [
       "array([[6.93725451e-310, 0.00000000e+000, 1.01855798e-312,\n",
       "        9.54898106e-313],\n",
       "       [1.03977794e-312, 1.03977794e-312, 1.23075756e-312,\n",
       "        1.16709769e-312],\n",
       "       [1.10343781e-312, 9.76118064e-313, 1.06099790e-312,\n",
       "        1.90979621e-312]])"
      ]
     },
     "execution_count": 45,
     "metadata": {},
     "output_type": "execute_result"
    }
   ],
   "source": [
    "p"
   ]
  },
  {
   "cell_type": "code",
   "execution_count": 46,
   "id": "8204a58f-cd37-4558-afc6-e1f0ff58ccef",
   "metadata": {},
   "outputs": [],
   "source": [
    "l1=np.full((3,3),6)"
   ]
  },
  {
   "cell_type": "code",
   "execution_count": 47,
   "id": "3044fbcc-27c7-45f2-a908-4e3b21a29c1b",
   "metadata": {},
   "outputs": [
    {
     "data": {
      "text/plain": [
       "array([[6, 6, 6],\n",
       "       [6, 6, 6],\n",
       "       [6, 6, 6]])"
      ]
     },
     "execution_count": 47,
     "metadata": {},
     "output_type": "execute_result"
    }
   ],
   "source": [
    "l1"
   ]
  },
  {
   "cell_type": "code",
   "execution_count": 86,
   "id": "e1936020-c712-4222-b5c3-89c9af6df7f2",
   "metadata": {},
   "outputs": [],
   "source": [
    "cel=np.array([2,5,6,8,3,5,24]) # array  containing the celsius  value"
   ]
  },
  {
   "cell_type": "code",
   "execution_count": 87,
   "id": "81830f08-282b-4fe5-bcad-83876986a621",
   "metadata": {},
   "outputs": [],
   "source": [
    "fah=np.array([80,76,64,34,11,102])  #Array's conataining the  fahrenheit\n",
    "fah1=np.array([0, 12, 45.21, 34, 99.91, 32])"
   ]
  },
  {
   "cell_type": "code",
   "execution_count": 80,
   "id": "e090c506-ec60-4d12-abdc-bc93e2830cd0",
   "metadata": {},
   "outputs": [],
   "source": [
    "# conversion  to  fahrenheit "
   ]
  },
  {
   "cell_type": "code",
   "execution_count": 81,
   "id": "a5e1b14f-11d6-47f3-a748-3a80d38e9177",
   "metadata": {},
   "outputs": [],
   "source": [
    "f_to_c=np.array(list(map(lambda x : (x-32)*5/9,fah)))"
   ]
  },
  {
   "cell_type": "code",
   "execution_count": 82,
   "id": "c9a78de2-f2c0-469f-8f76-d225fae82aa5",
   "metadata": {},
   "outputs": [
    {
     "data": {
      "text/plain": [
       "array([ 26.66666667,  24.44444444,  17.77777778,   1.11111111,\n",
       "       -11.66666667,  38.88888889])"
      ]
     },
     "execution_count": 82,
     "metadata": {},
     "output_type": "execute_result"
    }
   ],
   "source": [
    "f_to_c"
   ]
  },
  {
   "cell_type": "code",
   "execution_count": 88,
   "id": "74a65aaf-6fbe-4e7d-b6ee-2077574cc70f",
   "metadata": {},
   "outputs": [],
   "source": [
    "# Celsius  to  fahrenheit"
   ]
  },
  {
   "cell_type": "code",
   "execution_count": 83,
   "id": "a30eb63e-d40d-40cf-8ad0-6e55ae981f76",
   "metadata": {},
   "outputs": [],
   "source": [
    "c_to_f=np.array(list(map(lambda x : 9/5*(x)+32,cel)))"
   ]
  },
  {
   "cell_type": "code",
   "execution_count": 84,
   "id": "5c94288b-5cb4-4bf6-8d61-8ad1f580a0e4",
   "metadata": {},
   "outputs": [
    {
     "data": {
      "text/plain": [
       "array([35.6, 41. , 42.8, 46.4, 37.4, 41. , 75.2])"
      ]
     },
     "execution_count": 84,
     "metadata": {},
     "output_type": "execute_result"
    }
   ],
   "source": [
    "c_to_f"
   ]
  },
  {
   "cell_type": "code",
   "execution_count": 85,
   "id": "65233b35-2d51-4846-ba06-4e223d4f62a7",
   "metadata": {},
   "outputs": [
    {
     "data": {
      "text/plain": [
       "array([-17.77777778, -11.11111111,   7.33888889,   1.11111111,\n",
       "        37.72777778,   0.        ])"
      ]
     },
     "execution_count": 85,
     "metadata": {},
     "output_type": "execute_result"
    }
   ],
   "source": [
    "f_to_c1=np.array(list(map(lambda x : (x-32)*5/9,fah1)))\n",
    "f_to_c1"
   ]
  },
  {
   "cell_type": "code",
   "execution_count": 89,
   "id": "73cb4973-a149-483b-9fbf-93aae8581ff8",
   "metadata": {},
   "outputs": [],
   "source": [
    "x=np.sqrt([1+0j])"
   ]
  },
  {
   "cell_type": "code",
   "execution_count": 90,
   "id": "9b3193a0-b698-4988-8591-429e1c9895f3",
   "metadata": {},
   "outputs": [
    {
     "data": {
      "text/plain": [
       "array([1.+0.j])"
      ]
     },
     "execution_count": 90,
     "metadata": {},
     "output_type": "execute_result"
    }
   ],
   "source": [
    "x"
   ]
  },
  {
   "cell_type": "code",
   "execution_count": 91,
   "id": "3480e15c-2e38-4d3b-8049-8522c1e54104",
   "metadata": {},
   "outputs": [],
   "source": [
    "y=np.sqrt([0+1j])"
   ]
  },
  {
   "cell_type": "code",
   "execution_count": 92,
   "id": "a1fd835c-cbc9-43fd-8f1d-4bbcacf1d9ce",
   "metadata": {},
   "outputs": [
    {
     "data": {
      "text/plain": [
       "array([0.])"
      ]
     },
     "execution_count": 92,
     "metadata": {},
     "output_type": "execute_result"
    }
   ],
   "source": [
    "x.real\n",
    "x.imag"
   ]
  },
  {
   "cell_type": "code",
   "execution_count": 94,
   "id": "88f722a1-ee5c-4b97-8c25-06c1e4660265",
   "metadata": {},
   "outputs": [
    {
     "data": {
      "text/plain": [
       "array([0.70710678])"
      ]
     },
     "execution_count": 94,
     "metadata": {},
     "output_type": "execute_result"
    }
   ],
   "source": [
    "y.real"
   ]
  },
  {
   "cell_type": "code",
   "execution_count": 95,
   "id": "83a75f7c-24d6-4807-af02-db0432c0b5c6",
   "metadata": {},
   "outputs": [],
   "source": [
    "l=np.arange(2,17)"
   ]
  },
  {
   "cell_type": "code",
   "execution_count": 96,
   "id": "9127730a-3eaf-4045-bc26-7f1485c3c8d5",
   "metadata": {},
   "outputs": [
    {
     "data": {
      "text/plain": [
       "15"
      ]
     },
     "execution_count": 96,
     "metadata": {},
     "output_type": "execute_result"
    }
   ],
   "source": [
    "len(l)"
   ]
  },
  {
   "cell_type": "code",
   "execution_count": 97,
   "id": "0264b0c1-1376-422e-9ea0-4e0c16bab116",
   "metadata": {},
   "outputs": [
    {
     "data": {
      "text/plain": [
       "(15,)"
      ]
     },
     "execution_count": 97,
     "metadata": {},
     "output_type": "execute_result"
    }
   ],
   "source": [
    "l.shape"
   ]
  },
  {
   "cell_type": "code",
   "execution_count": 102,
   "id": "778d5158-90d5-48f8-8ff2-dc907bd8811c",
   "metadata": {},
   "outputs": [
    {
     "data": {
      "text/plain": [
       "array([ 2,  3,  4,  5,  6,  7,  8,  9, 10, 11, 12, 13, 14, 15, 16],\n",
       "      dtype=int8)"
      ]
     },
     "execution_count": 102,
     "metadata": {},
     "output_type": "execute_result"
    }
   ],
   "source": [
    "np.byte(l)\n"
   ]
  },
  {
   "cell_type": "code",
   "execution_count": 104,
   "id": "9eef0209-9470-4eab-ae74-5d63ebb30103",
   "metadata": {},
   "outputs": [
    {
     "name": "stdout",
     "output_type": "stream",
     "text": [
      "Size of the  array 15\n"
     ]
    }
   ],
   "source": [
    "print(\"Size of the  array\",l.size)   "
   ]
  },
  {
   "cell_type": "code",
   "execution_count": 105,
   "id": "7ed505ff-07af-489a-859f-73701ce7291e",
   "metadata": {},
   "outputs": [
    {
     "name": "stdout",
     "output_type": "stream",
     "text": [
      "Size of the  array in bytes 8\n"
     ]
    }
   ],
   "source": [
    "print(\"Size of the  arrayelement in bytes\",l.itemsize)"
   ]
  },
  {
   "cell_type": "code",
   "execution_count": 106,
   "id": "350ccc20-b52f-417b-9f6e-c5089e946293",
   "metadata": {},
   "outputs": [
    {
     "name": "stdout",
     "output_type": "stream",
     "text": [
      "Total bytes consumed  by the  array 120\n"
     ]
    }
   ],
   "source": [
    "print(\"Total bytes consumed  by the  array\",l.nbytes)"
   ]
  },
  {
   "cell_type": "code",
   "execution_count": 107,
   "id": "20bc372e-0155-4422-9425-b88105286e93",
   "metadata": {},
   "outputs": [],
   "source": [
    "arr=np.array([10,2,40,30,12])"
   ]
  },
  {
   "cell_type": "code",
   "execution_count": 108,
   "id": "ce635a16-ee42-4699-b560-1ce7670d20ee",
   "metadata": {},
   "outputs": [],
   "source": [
    "arr1=np.array([40,10])"
   ]
  },
  {
   "cell_type": "code",
   "execution_count": 111,
   "id": "7eb94c42-9aeb-4365-8fb6-599e583af150",
   "metadata": {},
   "outputs": [],
   "source": [
    "l=arr1 is  arr"
   ]
  },
  {
   "cell_type": "code",
   "execution_count": 112,
   "id": "3b5d2376-d786-4964-8e14-600fb098011b",
   "metadata": {},
   "outputs": [
    {
     "data": {
      "text/plain": [
       "False"
      ]
     },
     "execution_count": 112,
     "metadata": {},
     "output_type": "execute_result"
    }
   ],
   "source": [
    "l"
   ]
  },
  {
   "cell_type": "code",
   "execution_count": 119,
   "id": "aaf7f77e-2e11-4b39-80a9-ed35873ab049",
   "metadata": {},
   "outputs": [
    {
     "data": {
      "text/plain": [
       "array([ True, False,  True, False, False])"
      ]
     },
     "execution_count": 119,
     "metadata": {},
     "output_type": "execute_result"
    }
   ],
   "source": [
    "np.in1d(arr,arr1) # to find  that  this  array is  present in this  one  or  not"
   ]
  },
  {
   "cell_type": "code",
   "execution_count": 120,
   "id": "1c704ae2-b352-4d82-b313-3bde073bd5a5",
   "metadata": {},
   "outputs": [
    {
     "data": {
      "text/plain": [
       "array([10, 40])"
      ]
     },
     "execution_count": 120,
     "metadata": {},
     "output_type": "execute_result"
    }
   ],
   "source": [
    "np.intersect1d(arr,arr1) # to  find  the  common  between  two arrays"
   ]
  },
  {
   "cell_type": "code",
   "execution_count": 121,
   "id": "04f3192a-217a-4b56-a3fe-9fc58480666f",
   "metadata": {},
   "outputs": [],
   "source": [
    "#  To find the  set difference  between two array  setdiff1d()"
   ]
  },
  {
   "cell_type": "code",
   "execution_count": 123,
   "id": "90ef2cf8-3d74-4508-a65a-2a71ce348995",
   "metadata": {},
   "outputs": [
    {
     "data": {
      "text/plain": [
       "array([ 2, 12, 30])"
      ]
     },
     "execution_count": 123,
     "metadata": {},
     "output_type": "execute_result"
    }
   ],
   "source": [
    "np.setdiff1d(arr,arr1)"
   ]
  },
  {
   "cell_type": "code",
   "execution_count": 124,
   "id": "5c0b4476-c3ae-4908-b70d-1c82ecb2e50c",
   "metadata": {},
   "outputs": [
    {
     "data": {
      "text/plain": [
       "array([ 2, 10, 12, 30, 40])"
      ]
     },
     "execution_count": 124,
     "metadata": {},
     "output_type": "execute_result"
    }
   ],
   "source": [
    "np.union1d(arr,arr1)"
   ]
  },
  {
   "cell_type": "code",
   "execution_count": 131,
   "id": "9702fc03-a945-4b05-a21f-36b186d13a0f",
   "metadata": {},
   "outputs": [],
   "source": [
    "i=np.array([['01' ' V ' 'Debby Pramod' ' 30.21'],\n",
    "['02' ' V ' 'Artemiy Ellie' ' 29.32'],\n",
    "['03' ' V ' 'Baptist Kamal' ' 31.0'],\n",
    "['04' ' V ' 'Lavanya Davide' ' 30.22'],\n",
    "['05' ' V ' 'Fulton Antwan' ' 30.21'],\n",
    "['06' ' V ' 'Euanthe Sandeep' ' 31.0'],\n",
    "['07' ' V ' 'Endzela Sanda' ' 32.0'],\n",
    "['08' ' V ' 'Victoire Waman' ' 29.21'],\n",
    "['09' ' V ' 'Briar Nur' ' 30.0'],\n",
    "['10' ' V ' 'Rose Lykos' ' 32.0']])"
   ]
  },
  {
   "cell_type": "code",
   "execution_count": 132,
   "id": "470a9361-44e5-43ae-ac60-66da236a4c90",
   "metadata": {},
   "outputs": [
    {
     "data": {
      "text/plain": [
       "array([['01 V Debby Pramod 30.21'],\n",
       "       ['02 V Artemiy Ellie 29.32'],\n",
       "       ['03 V Baptist Kamal 31.0'],\n",
       "       ['04 V Lavanya Davide 30.22'],\n",
       "       ['05 V Fulton Antwan 30.21'],\n",
       "       ['06 V Euanthe Sandeep 31.0'],\n",
       "       ['07 V Endzela Sanda 32.0'],\n",
       "       ['08 V Victoire Waman 29.21'],\n",
       "       ['09 V Briar Nur 30.0'],\n",
       "       ['10 V Rose Lykos 32.0']], dtype='<U25')"
      ]
     },
     "execution_count": 132,
     "metadata": {},
     "output_type": "execute_result"
    }
   ],
   "source": [
    "i"
   ]
  },
  {
   "cell_type": "code",
   "execution_count": 133,
   "id": "8a73ea8d-7fdb-401d-b83c-2ee68e156d44",
   "metadata": {},
   "outputs": [
    {
     "data": {
      "text/plain": [
       "(10, 1)"
      ]
     },
     "execution_count": 133,
     "metadata": {},
     "output_type": "execute_result"
    }
   ],
   "source": [
    "i.shape"
   ]
  },
  {
   "cell_type": "code",
   "execution_count": 134,
   "id": "b66daf76-acec-4c7d-8283-ea62b6a17bbc",
   "metadata": {},
   "outputs": [
    {
     "data": {
      "text/plain": [
       "2"
      ]
     },
     "execution_count": 134,
     "metadata": {},
     "output_type": "execute_result"
    }
   ],
   "source": [
    "i.ndim"
   ]
  },
  {
   "cell_type": "code",
   "execution_count": 2,
   "id": "a5d0279b-d914-41d8-a257-e9ae42cc3221",
   "metadata": {},
   "outputs": [],
   "source": [
    "import numpy as np"
   ]
  },
  {
   "cell_type": "code",
   "execution_count": 3,
   "id": "d02c9eab-4b53-4b89-b169-8cb199bffcc9",
   "metadata": {},
   "outputs": [],
   "source": [
    "l=np.array([2,5,0,1,2,0,5,0])"
   ]
  },
  {
   "cell_type": "code",
   "execution_count": 4,
   "id": "e9f97783-c377-4a8b-88b6-b1de6323d9dc",
   "metadata": {},
   "outputs": [
    {
     "data": {
      "text/plain": [
       "False"
      ]
     },
     "execution_count": 4,
     "metadata": {},
     "output_type": "execute_result"
    }
   ],
   "source": [
    "np.all(l)"
   ]
  },
  {
   "cell_type": "code",
   "execution_count": 6,
   "id": "a4e20bbb-7a64-43a9-b95c-c349580246a5",
   "metadata": {},
   "outputs": [],
   "source": [
    "l=np.array([1,2,3])"
   ]
  },
  {
   "cell_type": "code",
   "execution_count": 7,
   "id": "3bbcb85a-6197-4faa-9d32-2012c1751918",
   "metadata": {},
   "outputs": [
    {
     "data": {
      "text/plain": [
       "array([1, 2, 3, 1, 2, 3, 1, 2, 3])"
      ]
     },
     "execution_count": 7,
     "metadata": {},
     "output_type": "execute_result"
    }
   ],
   "source": [
    "np.tile(l,3)"
   ]
  },
  {
   "cell_type": "code",
   "execution_count": 9,
   "id": "8602508b-a75a-48ca-9046-365d7c4ad83b",
   "metadata": {},
   "outputs": [],
   "source": [
    "# tile helps in  repeating the  array"
   ]
  },
  {
   "cell_type": "code",
   "execution_count": 10,
   "id": "933064ed-1304-44f2-af9d-744b9cb0ecb7",
   "metadata": {},
   "outputs": [],
   "source": [
    "# repeats  help  in  repeating the element of  the array"
   ]
  },
  {
   "cell_type": "code",
   "execution_count": 11,
   "id": "657dadf9-6d03-4a3a-abca-b123e5585432",
   "metadata": {},
   "outputs": [
    {
     "data": {
      "text/plain": [
       "array([1, 1, 1, 2, 2, 2, 3, 3, 3])"
      ]
     },
     "execution_count": 11,
     "metadata": {},
     "output_type": "execute_result"
    }
   ],
   "source": [
    "np.repeat(l,3)"
   ]
  },
  {
   "cell_type": "code",
   "execution_count": 15,
   "id": "f2a57874-3981-4083-899e-5a6e667c8861",
   "metadata": {},
   "outputs": [
    {
     "data": {
      "text/plain": [
       "3"
      ]
     },
     "execution_count": 15,
     "metadata": {},
     "output_type": "execute_result"
    }
   ],
   "source": [
    "np.max(l)"
   ]
  },
  {
   "cell_type": "code",
   "execution_count": 16,
   "id": "75842f73-e9f8-4376-b677-2bd96d875de8",
   "metadata": {},
   "outputs": [
    {
     "data": {
      "text/plain": [
       "1"
      ]
     },
     "execution_count": 16,
     "metadata": {},
     "output_type": "execute_result"
    }
   ],
   "source": [
    "np.min(l)"
   ]
  },
  {
   "cell_type": "code",
   "execution_count": 18,
   "id": "d1746619-af2c-4d6c-8d66-1191ccab73ac",
   "metadata": {},
   "outputs": [],
   "source": [
    "k=np.array([1,2,3,7,5,6])"
   ]
  },
  {
   "cell_type": "code",
   "execution_count": 20,
   "id": "be3d594b-1749-4dcb-9e5a-19dadb70f527",
   "metadata": {},
   "outputs": [
    {
     "data": {
      "text/plain": [
       "3"
      ]
     },
     "execution_count": 20,
     "metadata": {},
     "output_type": "execute_result"
    }
   ],
   "source": [
    "# to find  the   indices  of the  maximum  and minimum  value we used  argmax() function \n",
    "np.argmax(k)"
   ]
  },
  {
   "cell_type": "code",
   "execution_count": 21,
   "id": "85a44af2-b27a-40ed-bdbd-392b2ff04a13",
   "metadata": {},
   "outputs": [
    {
     "data": {
      "text/plain": [
       "0"
      ]
     },
     "execution_count": 21,
     "metadata": {},
     "output_type": "execute_result"
    }
   ],
   "source": [
    "np.argmin(k)"
   ]
  },
  {
   "cell_type": "code",
   "execution_count": 22,
   "id": "c03b0066-9154-4285-98c2-25f87ba838d6",
   "metadata": {},
   "outputs": [],
   "source": [
    "a=np.array([1,2])"
   ]
  },
  {
   "cell_type": "code",
   "execution_count": 23,
   "id": "a7c6366e-627c-49af-9ff0-2c30f9e2fcae",
   "metadata": {},
   "outputs": [],
   "source": [
    "b=np.array([4,5])"
   ]
  },
  {
   "cell_type": "code",
   "execution_count": 24,
   "id": "d5e856e9-4fec-441e-8a76-91444574d8bc",
   "metadata": {},
   "outputs": [
    {
     "data": {
      "text/plain": [
       "array([False, False])"
      ]
     },
     "execution_count": 24,
     "metadata": {},
     "output_type": "execute_result"
    }
   ],
   "source": [
    "np.greater(a,b)"
   ]
  },
  {
   "cell_type": "code",
   "execution_count": 25,
   "id": "346d3cb5-377b-4836-b37b-fcbf29a7e5ba",
   "metadata": {},
   "outputs": [
    {
     "data": {
      "text/plain": [
       "array([ True,  True])"
      ]
     },
     "execution_count": 25,
     "metadata": {},
     "output_type": "execute_result"
    }
   ],
   "source": [
    "np.less(a,b)"
   ]
  },
  {
   "cell_type": "code",
   "execution_count": 26,
   "id": "797d598a-f7c9-4fa5-adde-b68d8dd6cdba",
   "metadata": {},
   "outputs": [
    {
     "data": {
      "text/plain": [
       "array([False, False])"
      ]
     },
     "execution_count": 26,
     "metadata": {},
     "output_type": "execute_result"
    }
   ],
   "source": [
    "np.greater_equal(a,b)"
   ]
  },
  {
   "cell_type": "code",
   "execution_count": 27,
   "id": "6ba34355-d671-4712-aa5d-e11a7114d108",
   "metadata": {},
   "outputs": [
    {
     "data": {
      "text/plain": [
       "array([ True,  True])"
      ]
     },
     "execution_count": 27,
     "metadata": {},
     "output_type": "execute_result"
    }
   ],
   "source": [
    "np.less_equal(a,b)"
   ]
  },
  {
   "cell_type": "code",
   "execution_count": null,
   "id": "031c5304-a8c8-4cae-a169-487d3ea287d2",
   "metadata": {},
   "outputs": [],
   "source": []
  }
 ],
 "metadata": {
  "kernelspec": {
   "display_name": "Python 3 (ipykernel)",
   "language": "python",
   "name": "python3"
  },
  "language_info": {
   "codemirror_mode": {
    "name": "ipython",
    "version": 3
   },
   "file_extension": ".py",
   "mimetype": "text/x-python",
   "name": "python",
   "nbconvert_exporter": "python",
   "pygments_lexer": "ipython3",
   "version": "3.12.3"
  }
 },
 "nbformat": 4,
 "nbformat_minor": 5
}
