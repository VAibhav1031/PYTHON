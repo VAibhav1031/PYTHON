{
 "cells": [
  {
   "cell_type": "markdown",
   "id": "a2654d5f-94f4-4021-97c1-1aa90466c03a",
   "metadata": {},
   "source": [
    "# Mean Median Mode"
   ]
  },
  {
   "cell_type": "code",
   "execution_count": 44,
   "id": "e4f4ba0d-8048-414a-a8a5-92e2ed4a28af",
   "metadata": {},
   "outputs": [],
   "source": [
    "# mean: the  average value\n",
    "# median: the middle value\n",
    "# mode: the most common value"
   ]
  },
  {
   "cell_type": "code",
   "execution_count": 45,
   "id": "906ed190-b7a1-4a2e-9154-6ba27504c253",
   "metadata": {},
   "outputs": [],
   "source": [
    "import numpy as np"
   ]
  },
  {
   "cell_type": "code",
   "execution_count": 46,
   "id": "b8558b7d-6e1d-4e5e-9f8d-76bc3ec42d00",
   "metadata": {},
   "outputs": [],
   "source": [
    "x=np.array([1,2,3,4,5,6,7,8,9,10,2,1,3,5,6,8,6])"
   ]
  },
  {
   "cell_type": "code",
   "execution_count": 47,
   "id": "05dbef00-424b-45c5-9720-7c0473890a72",
   "metadata": {},
   "outputs": [
    {
     "data": {
      "text/plain": [
       "5.0588235294117645"
      ]
     },
     "execution_count": 47,
     "metadata": {},
     "output_type": "execute_result"
    }
   ],
   "source": [
    "np.mean(x)"
   ]
  },
  {
   "cell_type": "code",
   "execution_count": 48,
   "id": "ad740f96-9f0a-41f9-8e44-5244abf32a35",
   "metadata": {},
   "outputs": [],
   "source": [
    "# now  let;s  calculcate the median now but  for that we need  to  sort the array\n",
    "# first"
   ]
  },
  {
   "cell_type": "code",
   "execution_count": 49,
   "id": "23e5977f-3320-4c9f-aca5-4ac11c31e3ff",
   "metadata": {},
   "outputs": [
    {
     "data": {
      "text/plain": [
       "array([ 1,  1,  2,  2,  3,  3,  4,  5,  5,  6,  6,  6,  7,  8,  8,  9, 10])"
      ]
     },
     "execution_count": 49,
     "metadata": {},
     "output_type": "execute_result"
    }
   ],
   "source": [
    "c=np.sort(x)\n",
    "c"
   ]
  },
  {
   "cell_type": "code",
   "execution_count": 50,
   "id": "17be3c4d-af9f-4bbb-a4d4-c8090d6440ae",
   "metadata": {},
   "outputs": [
    {
     "data": {
      "text/plain": [
       "5.0"
      ]
     },
     "execution_count": 50,
     "metadata": {},
     "output_type": "execute_result"
    }
   ],
   "source": [
    "np.median(c)"
   ]
  },
  {
   "cell_type": "code",
   "execution_count": 51,
   "id": "bd867b1d-4355-4a98-9519-4f733ce00b12",
   "metadata": {},
   "outputs": [
    {
     "data": {
      "text/plain": [
       "ModeResult(mode=6, count=3)"
      ]
     },
     "execution_count": 51,
     "metadata": {},
     "output_type": "execute_result"
    }
   ],
   "source": [
    "from scipy import stats\n",
    "stats.mode(x)"
   ]
  },
  {
   "cell_type": "code",
   "execution_count": 52,
   "id": "cdab10cf-b9c5-4d05-82ae-b32a0c38bf70",
   "metadata": {},
   "outputs": [],
   "source": [
    "# Lets; check the  standard deviation"
   ]
  },
  {
   "cell_type": "code",
   "execution_count": 53,
   "id": "7f3263d5-2bef-49f8-bfe1-04639c57f12c",
   "metadata": {},
   "outputs": [
    {
     "data": {
      "text/plain": [
       "2.710992616894803"
      ]
     },
     "execution_count": 53,
     "metadata": {},
     "output_type": "execute_result"
    }
   ],
   "source": [
    "np.std(x)"
   ]
  },
  {
   "cell_type": "markdown",
   "id": "3535025d-138d-4e6a-aaf3-09aea8babec1",
   "metadata": {},
   "source": [
    "# numpy.arange() numpy.linspace()"
   ]
  },
  {
   "cell_type": "code",
   "execution_count": 54,
   "id": "f6a6f36f-7e48-44c7-9f32-421b45f360f4",
   "metadata": {},
   "outputs": [],
   "source": [
    "# arange() is one  of the  array creation routiness based on numerical ranges."
   ]
  },
  {
   "cell_type": "code",
   "execution_count": 55,
   "id": "b5c534a9-2f8e-455a-a540-9047ae51de9f",
   "metadata": {},
   "outputs": [],
   "source": [
    "array=np.arange(1,11)"
   ]
  },
  {
   "cell_type": "code",
   "execution_count": 56,
   "id": "79c00792-4538-4e88-b9b1-4aea3973cad6",
   "metadata": {},
   "outputs": [
    {
     "data": {
      "text/plain": [
       "array([ 1,  2,  3,  4,  5,  6,  7,  8,  9, 10])"
      ]
     },
     "execution_count": 56,
     "metadata": {},
     "output_type": "execute_result"
    }
   ],
   "source": [
    "array"
   ]
  },
  {
   "cell_type": "code",
   "execution_count": 57,
   "id": "5d818914-5418-40ac-9262-21f5453af200",
   "metadata": {},
   "outputs": [],
   "source": [
    "a=np.arange(0,11,2)"
   ]
  },
  {
   "cell_type": "code",
   "execution_count": 58,
   "id": "16d9e338-4514-4fdd-bf4a-72da9ac5763e",
   "metadata": {},
   "outputs": [
    {
     "data": {
      "text/plain": [
       "array([ 0,  2,  4,  6,  8, 10])"
      ]
     },
     "execution_count": 58,
     "metadata": {},
     "output_type": "execute_result"
    }
   ],
   "source": [
    "a"
   ]
  },
  {
   "cell_type": "code",
   "execution_count": 59,
   "id": "d529ea87-a0a3-458a-84ad-36eb5498a3b4",
   "metadata": {},
   "outputs": [],
   "source": [
    "# Linspace"
   ]
  },
  {
   "cell_type": "code",
   "execution_count": 60,
   "id": "4c072471-cccf-418d-ae98-98f874f9538b",
   "metadata": {},
   "outputs": [],
   "source": [
    "# it returns evenly spaced points or element between the start  and stop valurs"
   ]
  },
  {
   "cell_type": "code",
   "execution_count": 61,
   "id": "365bbefa-048a-4209-9a94-df83e0280ed4",
   "metadata": {},
   "outputs": [],
   "source": [
    "# syntax=np.linspace(start,stop,no. of element/points required)"
   ]
  },
  {
   "cell_type": "code",
   "execution_count": 62,
   "id": "4b1ef89d-300e-47aa-9b7f-5ff0849c185a",
   "metadata": {},
   "outputs": [],
   "source": [
    "ar=np.linspace(0,5,10)"
   ]
  },
  {
   "cell_type": "code",
   "execution_count": 63,
   "id": "127e262f-914e-4bea-98ea-0f0941863517",
   "metadata": {},
   "outputs": [
    {
     "data": {
      "text/plain": [
       "array([0.        , 0.55555556, 1.11111111, 1.66666667, 2.22222222,\n",
       "       2.77777778, 3.33333333, 3.88888889, 4.44444444, 5.        ])"
      ]
     },
     "execution_count": 63,
     "metadata": {},
     "output_type": "execute_result"
    }
   ],
   "source": [
    "ar"
   ]
  },
  {
   "cell_type": "code",
   "execution_count": 64,
   "id": "178d7640-2871-434b-9ef0-5f55496f493d",
   "metadata": {},
   "outputs": [],
   "source": [
    "ass=np.linspace(0,1,100)"
   ]
  },
  {
   "cell_type": "code",
   "execution_count": 65,
   "id": "c500b351-fc04-421e-95dd-01380e95ed1b",
   "metadata": {},
   "outputs": [
    {
     "data": {
      "text/plain": [
       "array([0.        , 0.01010101, 0.02020202, 0.03030303, 0.04040404,\n",
       "       0.05050505, 0.06060606, 0.07070707, 0.08080808, 0.09090909,\n",
       "       0.1010101 , 0.11111111, 0.12121212, 0.13131313, 0.14141414,\n",
       "       0.15151515, 0.16161616, 0.17171717, 0.18181818, 0.19191919,\n",
       "       0.2020202 , 0.21212121, 0.22222222, 0.23232323, 0.24242424,\n",
       "       0.25252525, 0.26262626, 0.27272727, 0.28282828, 0.29292929,\n",
       "       0.3030303 , 0.31313131, 0.32323232, 0.33333333, 0.34343434,\n",
       "       0.35353535, 0.36363636, 0.37373737, 0.38383838, 0.39393939,\n",
       "       0.4040404 , 0.41414141, 0.42424242, 0.43434343, 0.44444444,\n",
       "       0.45454545, 0.46464646, 0.47474747, 0.48484848, 0.49494949,\n",
       "       0.50505051, 0.51515152, 0.52525253, 0.53535354, 0.54545455,\n",
       "       0.55555556, 0.56565657, 0.57575758, 0.58585859, 0.5959596 ,\n",
       "       0.60606061, 0.61616162, 0.62626263, 0.63636364, 0.64646465,\n",
       "       0.65656566, 0.66666667, 0.67676768, 0.68686869, 0.6969697 ,\n",
       "       0.70707071, 0.71717172, 0.72727273, 0.73737374, 0.74747475,\n",
       "       0.75757576, 0.76767677, 0.77777778, 0.78787879, 0.7979798 ,\n",
       "       0.80808081, 0.81818182, 0.82828283, 0.83838384, 0.84848485,\n",
       "       0.85858586, 0.86868687, 0.87878788, 0.88888889, 0.8989899 ,\n",
       "       0.90909091, 0.91919192, 0.92929293, 0.93939394, 0.94949495,\n",
       "       0.95959596, 0.96969697, 0.97979798, 0.98989899, 1.        ])"
      ]
     },
     "execution_count": 65,
     "metadata": {},
     "output_type": "execute_result"
    }
   ],
   "source": [
    "ass"
   ]
  },
  {
   "cell_type": "code",
   "execution_count": 66,
   "id": "b6dc6c9d-4ef0-4bd9-9017-a098d59f514c",
   "metadata": {},
   "outputs": [],
   "source": [
    "k=np.linspace(0,6,50)"
   ]
  },
  {
   "cell_type": "code",
   "execution_count": 67,
   "id": "249f8556-ce1b-456d-b444-80fb6ecff9c6",
   "metadata": {},
   "outputs": [
    {
     "data": {
      "text/plain": [
       "array([0.        , 0.12244898, 0.24489796, 0.36734694, 0.48979592,\n",
       "       0.6122449 , 0.73469388, 0.85714286, 0.97959184, 1.10204082,\n",
       "       1.2244898 , 1.34693878, 1.46938776, 1.59183673, 1.71428571,\n",
       "       1.83673469, 1.95918367, 2.08163265, 2.20408163, 2.32653061,\n",
       "       2.44897959, 2.57142857, 2.69387755, 2.81632653, 2.93877551,\n",
       "       3.06122449, 3.18367347, 3.30612245, 3.42857143, 3.55102041,\n",
       "       3.67346939, 3.79591837, 3.91836735, 4.04081633, 4.16326531,\n",
       "       4.28571429, 4.40816327, 4.53061224, 4.65306122, 4.7755102 ,\n",
       "       4.89795918, 5.02040816, 5.14285714, 5.26530612, 5.3877551 ,\n",
       "       5.51020408, 5.63265306, 5.75510204, 5.87755102, 6.        ])"
      ]
     },
     "execution_count": 67,
     "metadata": {},
     "output_type": "execute_result"
    }
   ],
   "source": [
    "k"
   ]
  },
  {
   "cell_type": "markdown",
   "id": "176ffaee-65e2-4970-bc4d-b09265684545",
   "metadata": {},
   "source": [
    "# Zeros  and identity in numpy"
   ]
  },
  {
   "cell_type": "code",
   "execution_count": 68,
   "id": "c4d8402d-cfc8-4ee1-8a27-84c04f8519fa",
   "metadata": {},
   "outputs": [],
   "source": [
    "ar=np.zeros((3,4))"
   ]
  },
  {
   "cell_type": "code",
   "execution_count": 69,
   "id": "3af99a36-9330-48f1-87a0-cc7ce796006e",
   "metadata": {},
   "outputs": [
    {
     "data": {
      "text/plain": [
       "array([[0., 0., 0., 0.],\n",
       "       [0., 0., 0., 0.],\n",
       "       [0., 0., 0., 0.]])"
      ]
     },
     "execution_count": 69,
     "metadata": {},
     "output_type": "execute_result"
    }
   ],
   "source": [
    "ar"
   ]
  },
  {
   "cell_type": "code",
   "execution_count": 70,
   "id": "3e936712-0742-4b75-bd01-8aa28f198190",
   "metadata": {},
   "outputs": [],
   "source": [
    "ar1=np.zeros(5)"
   ]
  },
  {
   "cell_type": "code",
   "execution_count": 71,
   "id": "3be4aeae-46f4-485d-a6aa-fef97c153af3",
   "metadata": {},
   "outputs": [
    {
     "data": {
      "text/plain": [
       "array([0., 0., 0., 0., 0.])"
      ]
     },
     "execution_count": 71,
     "metadata": {},
     "output_type": "execute_result"
    }
   ],
   "source": [
    "ar1"
   ]
  },
  {
   "cell_type": "code",
   "execution_count": 72,
   "id": "7cb5e4d4-ae50-4d02-826f-29d4e3fc8ba2",
   "metadata": {},
   "outputs": [],
   "source": [
    "# ones"
   ]
  },
  {
   "cell_type": "code",
   "execution_count": 73,
   "id": "d1f864a7-18a9-454f-af89-8cbeeec5361b",
   "metadata": {},
   "outputs": [],
   "source": [
    "an=np.ones(5)"
   ]
  },
  {
   "cell_type": "code",
   "execution_count": 74,
   "id": "a6d83458-b661-4512-aada-a07b059b03b3",
   "metadata": {},
   "outputs": [
    {
     "data": {
      "text/plain": [
       "array([1., 1., 1., 1., 1.])"
      ]
     },
     "execution_count": 74,
     "metadata": {},
     "output_type": "execute_result"
    }
   ],
   "source": [
    "an"
   ]
  },
  {
   "cell_type": "code",
   "execution_count": 75,
   "id": "3b7f0d2a-910a-4e10-9ee2-4621dcfde06a",
   "metadata": {},
   "outputs": [],
   "source": [
    "an1=np.ones((5,7))"
   ]
  },
  {
   "cell_type": "code",
   "execution_count": 76,
   "id": "45f131f8-6639-45a8-b455-2328eafbec61",
   "metadata": {},
   "outputs": [],
   "source": [
    "# identity matrix -  matrix in which diagonals are of one's"
   ]
  },
  {
   "cell_type": "code",
   "execution_count": 77,
   "id": "65071e88-f984-4ed8-b630-9aae21c60175",
   "metadata": {},
   "outputs": [],
   "source": [
    "tu=np.eye(5)"
   ]
  },
  {
   "cell_type": "code",
   "execution_count": 78,
   "id": "5d2cd0a6-3132-48b3-a0fb-f85aeb8acc5a",
   "metadata": {},
   "outputs": [
    {
     "data": {
      "text/plain": [
       "array([[1., 0., 0., 0., 0.],\n",
       "       [0., 1., 0., 0., 0.],\n",
       "       [0., 0., 1., 0., 0.],\n",
       "       [0., 0., 0., 1., 0.],\n",
       "       [0., 0., 0., 0., 1.]])"
      ]
     },
     "execution_count": 78,
     "metadata": {},
     "output_type": "execute_result"
    }
   ],
   "source": [
    "tu"
   ]
  },
  {
   "cell_type": "code",
   "execution_count": null,
   "id": "e21807d0-f75d-46d8-8468-5a4c9bf98fca",
   "metadata": {},
   "outputs": [],
   "source": []
  },
  {
   "cell_type": "markdown",
   "id": "8c1a8ac8-dded-470c-ae84-f1362f185486",
   "metadata": {},
   "source": [
    "# Random Numbers"
   ]
  },
  {
   "cell_type": "code",
   "execution_count": 88,
   "id": "661731a7-7f70-4093-b9ac-cd111a0bb4e3",
   "metadata": {},
   "outputs": [],
   "source": [
    "x=np.random.rand()"
   ]
  },
  {
   "cell_type": "code",
   "execution_count": 89,
   "id": "d827d114-11a2-41ea-9601-fdb98a3e83b7",
   "metadata": {},
   "outputs": [
    {
     "data": {
      "text/plain": [
       "0.5760078963778473"
      ]
     },
     "execution_count": 89,
     "metadata": {},
     "output_type": "execute_result"
    }
   ],
   "source": [
    "x"
   ]
  },
  {
   "cell_type": "code",
   "execution_count": 90,
   "id": "3b29355e-acec-4b92-96c4-4c7cf857704a",
   "metadata": {},
   "outputs": [],
   "source": [
    "from  numpy  import random"
   ]
  },
  {
   "cell_type": "code",
   "execution_count": 91,
   "id": "db9e1298-0ffe-43c7-8146-95ec42793d00",
   "metadata": {},
   "outputs": [],
   "source": [
    "s=random.rand()"
   ]
  },
  {
   "cell_type": "code",
   "execution_count": 92,
   "id": "c061b500-180c-43f1-b14b-0a27f6cfc480",
   "metadata": {},
   "outputs": [
    {
     "data": {
      "text/plain": [
       "0.6852101510461479"
      ]
     },
     "execution_count": 92,
     "metadata": {},
     "output_type": "execute_result"
    }
   ],
   "source": [
    "s"
   ]
  },
  {
   "cell_type": "code",
   "execution_count": 93,
   "id": "46ca40a0-15b9-43fe-9d3d-d3f7385692b3",
   "metadata": {},
   "outputs": [],
   "source": [
    "x=random.rand(0,1)"
   ]
  },
  {
   "cell_type": "code",
   "execution_count": 94,
   "id": "31503920-a2ab-4aab-a63a-88be93570ea5",
   "metadata": {},
   "outputs": [
    {
     "data": {
      "text/plain": [
       "array([], shape=(0, 1), dtype=float64)"
      ]
     },
     "execution_count": 94,
     "metadata": {},
     "output_type": "execute_result"
    }
   ],
   "source": [
    "x"
   ]
  },
  {
   "cell_type": "code",
   "execution_count": 95,
   "id": "d574f28d-3435-4e2f-be84-1d7d53776aca",
   "metadata": {},
   "outputs": [],
   "source": [
    "# Rand() method "
   ]
  },
  {
   "cell_type": "code",
   "execution_count": 96,
   "id": "d9d4d63e-8a1a-4db8-a886-56541a216d05",
   "metadata": {},
   "outputs": [],
   "source": [
    "# IT returns the  random samples  of type  float between 0 and 1"
   ]
  },
  {
   "cell_type": "code",
   "execution_count": 97,
   "id": "804a4b20-fed9-44a5-8d0f-9f8d664a9cb3",
   "metadata": {},
   "outputs": [],
   "source": [
    "# samples are taken from a uniform distirbution"
   ]
  },
  {
   "cell_type": "code",
   "execution_count": 98,
   "id": "6f74490c-e8b1-4215-b24c-11e43661297c",
   "metadata": {},
   "outputs": [],
   "source": [
    "d=np.random.rand(5)"
   ]
  },
  {
   "cell_type": "code",
   "execution_count": 99,
   "id": "dcb4f827-02a8-46c5-9db5-2300b13f984c",
   "metadata": {},
   "outputs": [
    {
     "data": {
      "text/plain": [
       "array([0.75687462, 0.28693183, 0.32231649, 0.23409232, 0.78628089])"
      ]
     },
     "execution_count": 99,
     "metadata": {},
     "output_type": "execute_result"
    }
   ],
   "source": [
    "d"
   ]
  },
  {
   "cell_type": "code",
   "execution_count": 100,
   "id": "d032a5e3-643c-419a-a1d4-39745de0cb08",
   "metadata": {},
   "outputs": [],
   "source": [
    "# now let's create  a matrix \n",
    "x=np.random.rand(5,5)"
   ]
  },
  {
   "cell_type": "code",
   "execution_count": 101,
   "id": "99febd09-6f6d-4ab2-abce-935b0e6d920c",
   "metadata": {},
   "outputs": [
    {
     "data": {
      "text/plain": [
       "array([[0.52595494, 0.45262636, 0.57221572, 0.21186991, 0.19768573],\n",
       "       [0.99090348, 0.42231338, 0.78499079, 0.55360144, 0.93674402],\n",
       "       [0.33029054, 0.69525153, 0.00774526, 0.35497826, 0.46161205],\n",
       "       [0.50716176, 0.31729462, 0.22093384, 0.52643949, 0.46167783],\n",
       "       [0.06999815, 0.51421579, 0.3855705 , 0.14395938, 0.89640387]])"
      ]
     },
     "execution_count": 101,
     "metadata": {},
     "output_type": "execute_result"
    }
   ],
   "source": [
    "x"
   ]
  },
  {
   "cell_type": "code",
   "execution_count": 102,
   "id": "bd48a287-885e-41c1-95d2-af85d282e8de",
   "metadata": {},
   "outputs": [],
   "source": [
    "# Randn()"
   ]
  },
  {
   "cell_type": "code",
   "execution_count": 103,
   "id": "7badc4c0-f789-427b-9744-1eb0e0366a6e",
   "metadata": {},
   "outputs": [],
   "source": [
    "# note that  it fills the  array with  random floats sampled from a univariate\n",
    "# normal(gausian) distirbution of mean  and variance "
   ]
  },
  {
   "cell_type": "code",
   "execution_count": 104,
   "id": "4bd2e271-a9f0-4cd3-8f0b-38055f1f2093",
   "metadata": {},
   "outputs": [],
   "source": [
    "# note that normal  distirbution is  a distirbution which is continous in nature and \n",
    "# has a pdf or  probabillity density function"
   ]
  },
  {
   "cell_type": "code",
   "execution_count": 105,
   "id": "3331b8ed-c1ec-4431-8875-8e53973207c7",
   "metadata": {},
   "outputs": [],
   "source": [
    "# if we provide no argument then a single float  randomly sampled from the \n",
    "# distirbution is returned"
   ]
  },
  {
   "cell_type": "code",
   "execution_count": 106,
   "id": "4de589a4-10d6-424d-9045-a66bb4ba6fd9",
   "metadata": {},
   "outputs": [],
   "source": [
    "# No argument\n",
    "x=np.random.randn()"
   ]
  },
  {
   "cell_type": "code",
   "execution_count": 107,
   "id": "321dc98e-296a-4027-9ce0-acfecec047c0",
   "metadata": {},
   "outputs": [
    {
     "data": {
      "text/plain": [
       "-0.10237974573249019"
      ]
     },
     "execution_count": 107,
     "metadata": {},
     "output_type": "execute_result"
    }
   ],
   "source": [
    "x"
   ]
  },
  {
   "cell_type": "code",
   "execution_count": 108,
   "id": "20b513b7-9d4b-4b6e-ac81-62d84008aec3",
   "metadata": {},
   "outputs": [
    {
     "data": {
      "text/plain": [
       "array([-0.51611153,  0.2519805 , -0.57147544, -0.30364214, -2.47545409])"
      ]
     },
     "execution_count": 108,
     "metadata": {},
     "output_type": "execute_result"
    }
   ],
   "source": [
    "# 1 d array\n",
    "x=np.random.randn(5)\n",
    "x"
   ]
  },
  {
   "cell_type": "code",
   "execution_count": null,
   "id": "39963218-2aa5-47f2-b28b-e4638d1390e1",
   "metadata": {},
   "outputs": [],
   "source": []
  },
  {
   "cell_type": "code",
   "execution_count": 110,
   "id": "b9eb2f61-8414-4067-bfed-0505755c0bf3",
   "metadata": {},
   "outputs": [
    {
     "data": {
      "text/plain": [
       "array([[ 1.46700709, -0.14962303, -2.06168288],\n",
       "       [ 0.20826601,  0.71103406, -2.02724905],\n",
       "       [ 0.64743724,  0.2840004 , -0.00711759],\n",
       "       [ 0.99590853,  1.53508018,  1.4462483 ]])"
      ]
     },
     "execution_count": 110,
     "metadata": {},
     "output_type": "execute_result"
    }
   ],
   "source": [
    "# 2d array or matrix\n",
    "c=random.randn(4,3)\n",
    "c"
   ]
  },
  {
   "cell_type": "code",
   "execution_count": 112,
   "id": "7afad1f0-76bb-4739-8de3-af4752275307",
   "metadata": {},
   "outputs": [
    {
     "data": {
      "text/plain": [
       "array([[[-0.31317589,  0.53961203,  0.14384747],\n",
       "        [-0.75582328,  0.86596792, -0.37892055],\n",
       "        [-1.82777747,  1.30846417,  0.5929075 ]],\n",
       "\n",
       "       [[ 1.231724  , -1.50471821,  0.52116789],\n",
       "        [-1.23521185, -0.72947504, -1.04696148],\n",
       "        [-0.79340918,  0.62212057,  0.36960856]]])"
      ]
     },
     "execution_count": 112,
     "metadata": {},
     "output_type": "execute_result"
    }
   ],
   "source": [
    "# 3d array\n",
    "k=random.randn(2,3,3)\n",
    "k"
   ]
  },
  {
   "cell_type": "code",
   "execution_count": 113,
   "id": "76adc64f-1ada-4252-91a0-199203a715a7",
   "metadata": {},
   "outputs": [],
   "source": [
    "# randint() is an  inbuilt function of the  random module of numpy \n",
    "# the  module  give  aces to various  useful  functions and one of them able to \n",
    "# generate random numbers,which is randint()"
   ]
  },
  {
   "cell_type": "code",
   "execution_count": 114,
   "id": "8990056d-06e7-4eef-8950-1e529ea2a258",
   "metadata": {},
   "outputs": [],
   "source": [
    "# SYNTAX: np.random.randint(start,stop)"
   ]
  },
  {
   "cell_type": "code",
   "execution_count": 115,
   "id": "3f55bf3a-93ff-418a-9753-005dc3774778",
   "metadata": {},
   "outputs": [],
   "source": [
    "# note that bothe  start and  stop  values must be  integer values"
   ]
  },
  {
   "cell_type": "code",
   "execution_count": 120,
   "id": "367fd389-3428-4e73-abab-ecba735d5380",
   "metadata": {},
   "outputs": [],
   "source": [
    "c=np.random.randint(1,10)"
   ]
  },
  {
   "cell_type": "code",
   "execution_count": 121,
   "id": "0e198d46-8fb0-464c-b849-eb2035de99a7",
   "metadata": {},
   "outputs": [
    {
     "data": {
      "text/plain": [
       "9"
      ]
     },
     "execution_count": 121,
     "metadata": {},
     "output_type": "execute_result"
    }
   ],
   "source": [
    "c"
   ]
  },
  {
   "cell_type": "code",
   "execution_count": 123,
   "id": "cd08ad97-542d-4074-923b-57b212aa25ac",
   "metadata": {},
   "outputs": [],
   "source": [
    "# generate  a ranoom number between  -10 and -1"
   ]
  },
  {
   "cell_type": "code",
   "execution_count": 124,
   "id": "7f576dd3-bf7d-43c4-8df6-68ba2e582470",
   "metadata": {},
   "outputs": [],
   "source": [
    "x=np.random.randint(-10,-1)"
   ]
  },
  {
   "cell_type": "code",
   "execution_count": 125,
   "id": "0659b708-bc79-41e8-8746-792deee48ca3",
   "metadata": {},
   "outputs": [
    {
     "data": {
      "text/plain": [
       "-5"
      ]
     },
     "execution_count": 125,
     "metadata": {},
     "output_type": "execute_result"
    }
   ],
   "source": [
    "x"
   ]
  },
  {
   "cell_type": "code",
   "execution_count": 131,
   "id": "e7f1d34c-e7ae-4501-9223-48b07b36fcd5",
   "metadata": {},
   "outputs": [],
   "source": [
    "# Let's see what  happens when we pass non integer values\n",
    "l=np.random.randint(1.322,2.111)"
   ]
  },
  {
   "cell_type": "code",
   "execution_count": 132,
   "id": "c7aa851c-40b3-4963-a78c-37097240639a",
   "metadata": {},
   "outputs": [
    {
     "data": {
      "text/plain": [
       "1"
      ]
     },
     "execution_count": 132,
     "metadata": {},
     "output_type": "execute_result"
    }
   ],
   "source": [
    "l"
   ]
  },
  {
   "cell_type": "code",
   "execution_count": 133,
   "id": "03d1c971-26ee-445e-8100-9f55e730b4d5",
   "metadata": {},
   "outputs": [],
   "source": [
    "# I am  assuring  u that  whenever  you  try  to  pass the  non integer  number then \n",
    "# it will always  take it  as the  integer"
   ]
  },
  {
   "cell_type": "code",
   "execution_count": 134,
   "id": "e957d8f3-fa9f-45d8-9bdc-4e9bd5b46e65",
   "metadata": {},
   "outputs": [],
   "source": [
    "k=np.random.randint(-5,4)"
   ]
  },
  {
   "cell_type": "code",
   "execution_count": 135,
   "id": "b9b7034a-ea0d-4212-87f3-e80fceb7248f",
   "metadata": {},
   "outputs": [
    {
     "data": {
      "text/plain": [
       "-2"
      ]
     },
     "execution_count": 135,
     "metadata": {},
     "output_type": "execute_result"
    }
   ],
   "source": [
    "k"
   ]
  },
  {
   "cell_type": "code",
   "execution_count": 137,
   "id": "28ebf05e-eda8-4005-bfb9-601304daae9f",
   "metadata": {},
   "outputs": [
    {
     "data": {
      "text/plain": [
       "array([7064, 3848, 9866, 4726, 7601, 2910,   95, 9474, 9140, 2594,  378,\n",
       "        878, 5857, 7150, 8467,  507, 2940, 2245, 4467, 5384, 3937, 7796,\n",
       "       1821, 3674, 2238, 9706,  615, 7493, 8094, 8979, 4916, 6523, 8574,\n",
       "        645, 5601, 3432, 7249,  907, 1824, 1627, 1370,   72, 3228, 7587,\n",
       "       5786, 3742, 5881,  607, 5310, 6544, 8161,  481, 1548, 1825, 7996,\n",
       "        360, 2987, 1384, 8030, 5596, 7252, 9714,  590, 8893, 5494, 1180,\n",
       "       9207,  722,  292, 1427,  116, 5745, 8428, 1603, 6989, 8781, 6641,\n",
       "       3863, 7325, 4975, 1971, 5588, 5851, 3080, 7314,  439, 9186, 5004,\n",
       "       1992, 2227, 8476, 3354, 8697, 3900, 1549, 1271, 4894, 1527, 5141,\n",
       "       9794, 1662, 9239, 1965, 6513, 3837, 2436, 9254, 3750, 4527, 4707,\n",
       "       5335,  441,  197, 7601, 8781, 6736, 9555, 7430,  832,  486, 6407,\n",
       "       4375, 3786,  756, 8472, 7936, 6259, 9607, 9466, 9526,  724, 4078,\n",
       "       7134, 1665, 5548, 6621,  211, 6671, 8776, 8437, 1096, 4663, 7052,\n",
       "       4960, 1909,  264, 5664, 3125, 9664, 5498, 5377, 9156, 1473, 4398,\n",
       "       2667, 2572, 4508, 7555, 1039, 3607, 1872, 3008, 8570, 9284, 3227,\n",
       "        128, 7558, 4205,  810, 3812, 2344,  965, 2885, 7287, 6960, 2252,\n",
       "       4383, 3288, 6435, 1356, 1318, 8744, 1542, 9764, 5511, 5905,   71,\n",
       "        620, 2875, 4410, 9574, 1956, 1415, 1898, 8599, 3413, 1604, 1524,\n",
       "       2307, 1204, 2852, 8827, 9094, 4404, 9518, 6840, 4968, 4187, 9496,\n",
       "       8301, 3534, 5887, 3913, 3235, 2394, 6278, 1378, 1008, 2156, 2496,\n",
       "       4235,  912, 6115, 3887, 2712,  255, 3389, 7713,    2, 6613, 8374,\n",
       "       5197, 6823, 1401, 5299, 8820, 6920, 6245, 8902, 4487,  174, 8999,\n",
       "       9692, 9805, 4484, 7177, 6611, 7267, 2128, 7614, 8165, 9727,  273,\n",
       "       6230, 6725, 6371, 9659, 9779,  131, 5468, 6982, 7617, 8030, 1780,\n",
       "       3893, 4338, 1747, 4743, 2780, 7235, 6258, 9443, 6659, 6826, 5933,\n",
       "       4943, 8682, 1278, 1802, 2645, 1051, 6154, 5658,   76, 7814,  865,\n",
       "       3595, 7579, 8183, 3697, 7488, 5389, 7747, 5394, 7445, 1023,  239,\n",
       "       9992, 8650, 8977, 7631, 6412, 7286, 3461, 6530, 6841, 4887, 3644,\n",
       "       9994, 7597, 9555, 3044, 4856, 2108, 1613, 7233, 2299, 8822, 8333,\n",
       "       2312, 9175, 9593, 9798, 3640, 5569, 8981, 7920, 1672, 4747, 7916,\n",
       "       1180, 5368, 3143, 2527, 3728, 9957, 4888, 3545, 3801, 7970, 9684,\n",
       "       1333, 9085, 8993, 5626, 9964, 3532, 4606, 8521, 4984, 6685, 1185,\n",
       "       8756, 3364, 6846, 7268, 7625, 2914, 5236, 3552, 1764, 9868, 1440,\n",
       "       4042, 8096, 9392, 7510, 6490,  970, 1058, 1303,  965, 3460, 8914,\n",
       "        890, 9094, 3681, 7566, 3540, 9811, 6298, 9688, 2913, 1585, 9569,\n",
       "       2408, 2158, 6828, 7654, 8231, 2315,  961, 9740, 7456, 2207, 8809,\n",
       "       4822, 7029, 8823, 9017, 2429, 4953, 7219, 8888, 5919, 2727, 8154,\n",
       "       3387, 3924, 4491, 1412, 9203, 3395, 1938,  295, 1595, 9386, 3437,\n",
       "        470, 1656,   65, 3898, 9743, 1750, 9500,   49, 7026, 4283, 9493,\n",
       "       3066, 1205, 7520, 6004, 8505, 6564, 1307, 2555, 8312, 6699, 1496,\n",
       "       1484, 5874, 9237, 7933, 8317, 8581, 1184, 6453, 5783, 8367, 6092,\n",
       "       9540, 5358, 8067, 7615, 7910, 5979,  118, 2623,  914, 5851,  465,\n",
       "       4370, 6799, 7947, 2695, 3806,  814, 2960, 4502, 5548, 6716, 1142,\n",
       "       4025, 8185, 9694, 5208,   99, 6854,  383, 6485, 8078,  663, 4423,\n",
       "       2453, 2108, 3640, 3314, 1647, 2851, 3682, 4279, 1930, 8852, 3166,\n",
       "       7368, 1097, 8239, 9234, 8929, 9257, 4975,  492,  607, 5493, 2556,\n",
       "       1044, 3192, 7378, 9513, 6463, 2000, 7045,  179, 1587, 9733, 5452,\n",
       "        692, 2414, 5496, 8694, 5227,  169,  564, 1320,  835, 6738, 6126,\n",
       "       6709, 1536,  174, 2659, 9855, 8200, 9480, 3090, 8129, 3310, 5268,\n",
       "       8459, 2831, 3706, 4021, 6752, 4993, 3615, 8219, 9213, 6849, 3909,\n",
       "       4726, 6540, 8834, 7087, 5091, 1350, 8033, 6628,  887, 2779, 2520,\n",
       "        651, 8322, 3690, 7271, 5789, 3354, 6499,  661, 1814, 5713, 1044,\n",
       "        416, 4225, 6023, 7464, 8674, 9190, 3383, 3120,  524, 4477, 8458,\n",
       "       2662, 4086, 4296,  825, 8911, 9710, 7258, 8524,   15, 6611, 3758,\n",
       "       4645, 4287,  357, 6407, 9271, 4659, 9194, 2865, 4993, 7785,  142,\n",
       "       8697,  227, 5419, 9611, 9170, 9576, 5560, 1655, 1039, 8960, 2858,\n",
       "       5533, 7527, 5543, 5940,  559, 4170, 7269, 4039, 2864, 8430,  874,\n",
       "       7711, 9347, 1227, 1631,  989,  275, 6353, 9340, 4281, 6454, 8376,\n",
       "       9803, 9451, 2779, 5985, 3629, 7351, 6395, 4186, 8368,  968, 7527,\n",
       "       3622, 7530, 3527,  625, 1640, 2433, 4655, 5226, 8579, 7485,  136,\n",
       "       3555, 2869, 6962,  792, 8927, 1072, 3686, 4239, 1580, 2220, 2411,\n",
       "       5240, 5838,  346, 2478, 1687, 7732, 2365, 6610, 5432, 2390, 4797,\n",
       "        616, 1531, 7663, 7662, 3885, 3363, 8457,   96,  460, 1834, 9476,\n",
       "       4455, 4237, 6493, 4940, 6576, 2103,  233, 5570,  164,  446, 9694,\n",
       "         41, 9093,  158, 4335, 4672, 3642, 9658, 1372, 8418, 6929, 9387,\n",
       "       8796, 8538, 4849, 7256, 5557, 4842, 3238, 7285, 4558, 7598, 9016,\n",
       "       5523, 7805, 8494, 6007, 2919, 2681, 2227, 5894, 4950, 9705, 3322,\n",
       "       7679, 7789, 9987, 3667, 3901, 8651, 4563, 1713, 4328, 6905, 2791,\n",
       "        932, 3332, 5551,  493, 8290, 4646, 4155, 7122, 5619, 4362, 9038,\n",
       "       1829,  255, 7420, 2216, 7799,   22, 9581, 4795, 5105, 2914,  868,\n",
       "       9085, 4883, 4323, 5452, 6317, 8220, 6376,  652, 9578, 4895, 6745,\n",
       "       3580, 9596, 8372,  297, 7843, 2983, 7059, 6399, 7845, 1513, 4253,\n",
       "       7405, 3134, 3402, 1423, 7129, 7945, 5632,  517, 7546, 4162, 3947,\n",
       "       6545, 9498, 7046, 2535, 6713, 2027, 1864, 9932, 1074, 1653, 6309,\n",
       "       1550, 8413, 3799, 8542, 9440, 3561, 4755, 4929, 5002, 3456, 3518,\n",
       "       8029, 1792, 1943, 5829, 8574, 5381, 3042, 1798, 9256,  783, 8002,\n",
       "       8885, 6208,  231, 2843, 4394, 4447, 4686, 3374, 1986, 1808, 1616,\n",
       "       8880, 6574, 9477,  968, 2293, 5164, 1764, 6438, 6821, 3211, 2675,\n",
       "       1831, 7049, 7366, 8409, 4950, 5883, 3653, 8206,   91, 5390, 3573,\n",
       "         16, 5137,  947, 7506, 5836, 9858, 6607, 8766, 5974, 8599, 8561,\n",
       "       1848,  108, 4038, 5484, 3065, 4801, 1582, 7612, 3189, 1723,  490,\n",
       "       4897, 8499,  688, 2237, 1094, 4542, 9219, 1879, 5179, 9812, 5954,\n",
       "       8281, 4160, 1615, 1556, 3643, 8833,  582, 9368, 9173, 3130, 3769,\n",
       "       3982,  944, 9868,  518, 5184, 4751, 6478, 6207, 1277, 5567, 3994,\n",
       "       5449, 8438, 8137, 7519, 7029, 1037, 7797, 3893, 2920, 8493, 7933,\n",
       "       7076, 7482, 3946, 3024, 4289, 7029, 5452, 2528, 3829, 1030, 3990,\n",
       "       8266, 7499, 6760, 5399,  245, 3794, 6853, 1217, 8265, 5218, 7458,\n",
       "       7983,  140, 5722, 4144, 9973, 7542, 2364, 8762, 6277, 4934, 9374,\n",
       "       5522, 6744, 3611, 6062, 2085, 2105, 1618, 8566, 2469, 4989, 8648,\n",
       "       4066, 5524, 9493, 1025, 7150, 4693, 9641, 1773, 3458, 4247, 1554,\n",
       "        655, 7085, 4421, 7712, 6669, 6739, 2108,  827, 9091, 3273])"
      ]
     },
     "execution_count": 137,
     "metadata": {},
     "output_type": "execute_result"
    }
   ],
   "source": [
    "arr=np.random.randint(1,10000,size=1000)\n",
    "arr"
   ]
  },
  {
   "cell_type": "code",
   "execution_count": 138,
   "id": "de88dd53-e7f4-4485-824e-03a4d29a8adc",
   "metadata": {},
   "outputs": [],
   "source": [
    "min_=min(arr)"
   ]
  },
  {
   "cell_type": "code",
   "execution_count": 139,
   "id": "7690cfb1-0aec-45e3-afee-584c45074ebf",
   "metadata": {},
   "outputs": [
    {
     "data": {
      "text/plain": [
       "2"
      ]
     },
     "execution_count": 139,
     "metadata": {},
     "output_type": "execute_result"
    }
   ],
   "source": [
    "min_"
   ]
  },
  {
   "cell_type": "code",
   "execution_count": 140,
   "id": "b0b3a08a-28ba-4517-a3fc-2d8444bddd9a",
   "metadata": {},
   "outputs": [],
   "source": [
    "max_=max(arr)"
   ]
  },
  {
   "cell_type": "code",
   "execution_count": 141,
   "id": "a2d8cd44-0ca2-448e-9009-a4e78593053d",
   "metadata": {},
   "outputs": [
    {
     "data": {
      "text/plain": [
       "9994"
      ]
     },
     "execution_count": 141,
     "metadata": {},
     "output_type": "execute_result"
    }
   ],
   "source": [
    "max_"
   ]
  },
  {
   "cell_type": "code",
   "execution_count": 142,
   "id": "97a7d4db-44a3-4dea-966e-3103649f8fd6",
   "metadata": {},
   "outputs": [],
   "source": [
    "arrmean=np.mean(arr)"
   ]
  },
  {
   "cell_type": "code",
   "execution_count": 143,
   "id": "ba06ef64-ff0c-435e-9911-a7afafd0875a",
   "metadata": {},
   "outputs": [
    {
     "data": {
      "text/plain": [
       "4960.208"
      ]
     },
     "execution_count": 143,
     "metadata": {},
     "output_type": "execute_result"
    }
   ],
   "source": [
    "arrmean"
   ]
  },
  {
   "cell_type": "code",
   "execution_count": 144,
   "id": "aa327ece-6b29-4017-bf45-4cd83e018dcb",
   "metadata": {},
   "outputs": [],
   "source": [
    "# a  random  permutation refers to  an  arrangement  of  elements\n",
    "# for  example  [4,3,2,1] is  a  random  permutation of the  [1,2,3,4]\n",
    "# a lot  of  other permutation is possible  as well but we get only 1"
   ]
  },
  {
   "cell_type": "code",
   "execution_count": 149,
   "id": "3db59429-177a-426b-b280-31fe011b2e32",
   "metadata": {},
   "outputs": [
    {
     "name": "stdout",
     "output_type": "stream",
     "text": [
      "None\n"
     ]
    }
   ],
   "source": [
    "# method 1 \n",
    "arr=np.array([1,2,3,4,5,6])\n",
    "k=np.random.shuffle(arr)\n",
    "print(k)"
   ]
  },
  {
   "cell_type": "code",
   "execution_count": 148,
   "id": "10847605-601c-40bf-b80c-ae9508818fac",
   "metadata": {},
   "outputs": [
    {
     "name": "stdout",
     "output_type": "stream",
     "text": [
      "[6 1 4 5 3 2]\n"
     ]
    }
   ],
   "source": [
    "print(arr)"
   ]
  },
  {
   "cell_type": "code",
   "execution_count": 150,
   "id": "0218331c-245a-496e-b3d5-8fd07075a2f3",
   "metadata": {},
   "outputs": [],
   "source": [
    "# so  here  you'll see that  shuffle  modifies the  original array that's  why it didn't\n",
    "# show anything in the  k"
   ]
  },
  {
   "cell_type": "code",
   "execution_count": 155,
   "id": "efab156d-c187-4f63-b1e8-f114766293fa",
   "metadata": {},
   "outputs": [],
   "source": [
    "# method2 permutation method\n",
    "arr1=np.array([1,2,3,4,5,6,7])\n",
    "f=np.random.permutation(arr)"
   ]
  },
  {
   "cell_type": "code",
   "execution_count": 156,
   "id": "97e1a3bd-5739-47a0-b15c-28c373409ca2",
   "metadata": {},
   "outputs": [
    {
     "data": {
      "text/plain": [
       "array([2, 1, 4, 6, 5, 3])"
      ]
     },
     "execution_count": 156,
     "metadata": {},
     "output_type": "execute_result"
    }
   ],
   "source": [
    "f"
   ]
  },
  {
   "cell_type": "code",
   "execution_count": 157,
   "id": "c1c9e728-c92e-4e88-b575-b125d945ae38",
   "metadata": {},
   "outputs": [],
   "source": [
    "# so here you'll see the  f  with  changed (shuffled)"
   ]
  },
  {
   "cell_type": "code",
   "execution_count": 159,
   "id": "989c16bf-f445-4795-a9ce-09407754fc41",
   "metadata": {},
   "outputs": [
    {
     "name": "stdout",
     "output_type": "stream",
     "text": [
      "[1 2 3 4 5 6 7]\n"
     ]
    }
   ],
   "source": [
    "print(arr1)"
   ]
  },
  {
   "cell_type": "code",
   "execution_count": 160,
   "id": "ba68bc6c-5ff1-489f-a8b9-15cbca0544b0",
   "metadata": {},
   "outputs": [],
   "source": [
    "# there is no  change in the  original  array  "
   ]
  },
  {
   "cell_type": "code",
   "execution_count": null,
   "id": "5853d107-5266-4f4a-8835-ebb338ebff71",
   "metadata": {},
   "outputs": [],
   "source": []
  },
  {
   "cell_type": "code",
   "execution_count": 161,
   "id": "7377b2fd-9bcb-4de0-bb4b-ac2283d3c525",
   "metadata": {},
   "outputs": [],
   "source": [
    "# # i think you got  everything i think you  may got it well\n",
    "# shuffle() - to make changes to  original  array\n",
    "# permutation () -if you  dont want  any changes in the original  array"
   ]
  },
  {
   "cell_type": "code",
   "execution_count": null,
   "id": "59b95640-3051-41d0-b915-6df9c971ddb8",
   "metadata": {},
   "outputs": [],
   "source": []
  }
 ],
 "metadata": {
  "kernelspec": {
   "display_name": "Python 3 (ipykernel)",
   "language": "python",
   "name": "python3"
  },
  "language_info": {
   "codemirror_mode": {
    "name": "ipython",
    "version": 3
   },
   "file_extension": ".py",
   "mimetype": "text/x-python",
   "name": "python",
   "nbconvert_exporter": "python",
   "pygments_lexer": "ipython3",
   "version": "3.12.2"
  }
 },
 "nbformat": 4,
 "nbformat_minor": 5
}
