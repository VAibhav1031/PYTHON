{
 "cells": [
  {
   "cell_type": "code",
   "execution_count": 2,
   "id": "9602173b-e9d4-439b-8511-8819a28337e1",
   "metadata": {},
   "outputs": [],
   "source": [
    "import  numpy as np"
   ]
  },
  {
   "cell_type": "code",
   "execution_count": 3,
   "id": "445c8a5d-4769-4908-8026-c624d01ae9d2",
   "metadata": {},
   "outputs": [
    {
     "name": "stdout",
     "output_type": "stream",
     "text": [
      "1.26.4\n"
     ]
    }
   ],
   "source": [
    "print(np.__version__)"
   ]
  },
  {
   "cell_type": "code",
   "execution_count": 4,
   "id": "f3b640e2-03aa-4772-96d8-8b26b5feea96",
   "metadata": {},
   "outputs": [
    {
     "name": "stdout",
     "output_type": "stream",
     "text": [
      "Build Dependencies:\n",
      "  blas:\n",
      "    detection method: pkgconfig\n",
      "    found: true\n",
      "    include directory: /usr/local/include\n",
      "    lib directory: /usr/local/lib\n",
      "    name: openblas64\n",
      "    openblas configuration: USE_64BITINT=1 DYNAMIC_ARCH=1 DYNAMIC_OLDER= NO_CBLAS=\n",
      "      NO_LAPACK= NO_LAPACKE= NO_AFFINITY=1 USE_OPENMP= HASWELL MAX_THREADS=2\n",
      "    pc file directory: /usr/local/lib/pkgconfig\n",
      "    version: 0.3.23.dev\n",
      "  lapack:\n",
      "    detection method: internal\n",
      "    found: true\n",
      "    include directory: unknown\n",
      "    lib directory: unknown\n",
      "    name: dep140551260102944\n",
      "    openblas configuration: unknown\n",
      "    pc file directory: unknown\n",
      "    version: 1.26.4\n",
      "Compilers:\n",
      "  c:\n",
      "    args: -fno-strict-aliasing\n",
      "    commands: cc\n",
      "    linker: ld.bfd\n",
      "    linker args: -Wl,--strip-debug, -fno-strict-aliasing\n",
      "    name: gcc\n",
      "    version: 10.2.1\n",
      "  c++:\n",
      "    commands: c++\n",
      "    linker: ld.bfd\n",
      "    linker args: -Wl,--strip-debug\n",
      "    name: gcc\n",
      "    version: 10.2.1\n",
      "  cython:\n",
      "    commands: cython\n",
      "    linker: cython\n",
      "    name: cython\n",
      "    version: 3.0.8\n",
      "Machine Information:\n",
      "  build:\n",
      "    cpu: x86_64\n",
      "    endian: little\n",
      "    family: x86_64\n",
      "    system: linux\n",
      "  host:\n",
      "    cpu: x86_64\n",
      "    endian: little\n",
      "    family: x86_64\n",
      "    system: linux\n",
      "Python Information:\n",
      "  path: /opt/python/cp312-cp312/bin/python\n",
      "  version: '3.12'\n",
      "SIMD Extensions:\n",
      "  baseline:\n",
      "  - SSE\n",
      "  - SSE2\n",
      "  - SSE3\n",
      "  found:\n",
      "  - SSSE3\n",
      "  - SSE41\n",
      "  - POPCNT\n",
      "  - SSE42\n",
      "  - AVX\n",
      "  - F16C\n",
      "  - FMA3\n",
      "  - AVX2\n",
      "  not found:\n",
      "  - AVX512F\n",
      "  - AVX512CD\n",
      "  - AVX512_KNL\n",
      "  - AVX512_KNM\n",
      "  - AVX512_SKX\n",
      "  - AVX512_CLX\n",
      "  - AVX512_CNL\n",
      "  - AVX512_ICL\n",
      "\n",
      "None\n"
     ]
    }
   ],
   "source": [
    "print(np.show_config())"
   ]
  },
  {
   "cell_type": "code",
   "execution_count": null,
   "id": "6d1451a6-b26c-41d3-b5bc-be7b6024124a",
   "metadata": {},
   "outputs": [],
   "source": []
  },
  {
   "cell_type": "code",
   "execution_count": 5,
   "id": "6687e3f2-c292-4e4c-809a-b0d3bcbcc283",
   "metadata": {},
   "outputs": [],
   "source": [
    "# to check whethere all element of the  array is the  zero or  not"
   ]
  },
  {
   "cell_type": "code",
   "execution_count": 6,
   "id": "0a9312f9-1f99-4c26-9de8-9d0eaaaebf25",
   "metadata": {},
   "outputs": [],
   "source": [
    "x=np.array([1,2,3,4,5])"
   ]
  },
  {
   "cell_type": "code",
   "execution_count": 7,
   "id": "5a55dce8-e7b5-4390-b08f-31f4111c6c85",
   "metadata": {},
   "outputs": [
    {
     "name": "stdout",
     "output_type": "stream",
     "text": [
      "Original Array\n"
     ]
    }
   ],
   "source": [
    "print(\"Original Array\")"
   ]
  },
  {
   "cell_type": "code",
   "execution_count": 8,
   "id": "f34edf06-819e-4494-a641-41404a3013df",
   "metadata": {},
   "outputs": [
    {
     "data": {
      "text/plain": [
       "True"
      ]
     },
     "execution_count": 8,
     "metadata": {},
     "output_type": "execute_result"
    }
   ],
   "source": [
    "np.all(x)"
   ]
  },
  {
   "cell_type": "code",
   "execution_count": 9,
   "id": "b35e1453-d1c3-4fe1-b0bc-16348756dff6",
   "metadata": {},
   "outputs": [],
   "source": [
    "c=np.array([2,0,4,6,8])"
   ]
  },
  {
   "cell_type": "code",
   "execution_count": 10,
   "id": "5cdeb1ad-f500-4038-bc92-bdd226f648c3",
   "metadata": {},
   "outputs": [
    {
     "data": {
      "text/plain": [
       "False"
      ]
     },
     "execution_count": 10,
     "metadata": {},
     "output_type": "execute_result"
    }
   ],
   "source": [
    "np.all(c)"
   ]
  },
  {
   "cell_type": "code",
   "execution_count": 11,
   "id": "b9229e81-08e1-41cf-82e5-2e6b16b9e0bf",
   "metadata": {},
   "outputs": [
    {
     "name": "stdout",
     "output_type": "stream",
     "text": [
      "add(x1, x2, /, out=None, *, where=True, casting='same_kind', order='K', dtype=None, subok=True[, signature, extobj])\n",
      "\n",
      "Add arguments element-wise.\n",
      "\n",
      "Parameters\n",
      "----------\n",
      "x1, x2 : array_like\n",
      "    The arrays to be added.\n",
      "    If ``x1.shape != x2.shape``, they must be broadcastable to a common\n",
      "    shape (which becomes the shape of the output).\n",
      "out : ndarray, None, or tuple of ndarray and None, optional\n",
      "    A location into which the result is stored. If provided, it must have\n",
      "    a shape that the inputs broadcast to. If not provided or None,\n",
      "    a freshly-allocated array is returned. A tuple (possible only as a\n",
      "    keyword argument) must have length equal to the number of outputs.\n",
      "where : array_like, optional\n",
      "    This condition is broadcast over the input. At locations where the\n",
      "    condition is True, the `out` array will be set to the ufunc result.\n",
      "    Elsewhere, the `out` array will retain its original value.\n",
      "    Note that if an uninitialized `out` array is created via the default\n",
      "    ``out=None``, locations within it where the condition is False will\n",
      "    remain uninitialized.\n",
      "**kwargs\n",
      "    For other keyword-only arguments, see the\n",
      "    :ref:`ufunc docs <ufuncs.kwargs>`.\n",
      "\n",
      "Returns\n",
      "-------\n",
      "add : ndarray or scalar\n",
      "    The sum of `x1` and `x2`, element-wise.\n",
      "    This is a scalar if both `x1` and `x2` are scalars.\n",
      "\n",
      "Notes\n",
      "-----\n",
      "Equivalent to `x1` + `x2` in terms of array broadcasting.\n",
      "\n",
      "Examples\n",
      "--------\n",
      ">>> np.add(1.0, 4.0)\n",
      "5.0\n",
      ">>> x1 = np.arange(9.0).reshape((3, 3))\n",
      ">>> x2 = np.arange(3.0)\n",
      ">>> np.add(x1, x2)\n",
      "array([[  0.,   2.,   4.],\n",
      "       [  3.,   5.,   7.],\n",
      "       [  6.,   8.,  10.]])\n",
      "\n",
      "The ``+`` operator can be used as a shorthand for ``np.add`` on ndarrays.\n",
      "\n",
      ">>> x1 = np.arange(9.0).reshape((3, 3))\n",
      ">>> x2 = np.arange(3.0)\n",
      ">>> x1 + x2\n",
      "array([[ 0.,  2.,  4.],\n",
      "       [ 3.,  5.,  7.],\n",
      "       [ 6.,  8., 10.]])\n",
      "None\n"
     ]
    }
   ],
   "source": [
    "print(np.info(np.add))"
   ]
  },
  {
   "cell_type": "code",
   "execution_count": 12,
   "id": "8431f443-0358-4a59-9977-b99bf238bdc9",
   "metadata": {},
   "outputs": [
    {
     "data": {
      "text/plain": [
       "5.0"
      ]
     },
     "execution_count": 12,
     "metadata": {},
     "output_type": "execute_result"
    }
   ],
   "source": [
    "np.add(1.0,4.0)"
   ]
  },
  {
   "cell_type": "code",
   "execution_count": 13,
   "id": "38464510-19ee-4fa4-afb2-1cced1939f2a",
   "metadata": {},
   "outputs": [],
   "source": [
    "x1=np.arange(9.0)"
   ]
  },
  {
   "cell_type": "code",
   "execution_count": 14,
   "id": "ec3c60fb-dbe1-43bd-b21a-bb8ce2628662",
   "metadata": {},
   "outputs": [
    {
     "data": {
      "text/plain": [
       "array([0., 1., 2., 3., 4., 5., 6., 7., 8.])"
      ]
     },
     "execution_count": 14,
     "metadata": {},
     "output_type": "execute_result"
    }
   ],
   "source": [
    "x1"
   ]
  },
  {
   "cell_type": "code",
   "execution_count": 19,
   "id": "4c420538-cafd-4315-bead-1716f54b33ff",
   "metadata": {},
   "outputs": [],
   "source": [
    "x1=x1.reshape((3,3))"
   ]
  },
  {
   "cell_type": "code",
   "execution_count": 20,
   "id": "aa14a8e7-6412-47cc-a62a-474ba20823b6",
   "metadata": {},
   "outputs": [],
   "source": [
    "x2=np.arange(3.0)"
   ]
  },
  {
   "cell_type": "code",
   "execution_count": 21,
   "id": "985cdd6d-d9fa-462f-b35c-5125a4f228e5",
   "metadata": {},
   "outputs": [
    {
     "data": {
      "text/plain": [
       "array([0., 1., 2.])"
      ]
     },
     "execution_count": 21,
     "metadata": {},
     "output_type": "execute_result"
    }
   ],
   "source": [
    "x2"
   ]
  },
  {
   "cell_type": "code",
   "execution_count": 22,
   "id": "9b5167ce-3d7f-4843-b1e2-9b8bda89b6a4",
   "metadata": {},
   "outputs": [],
   "source": [
    "s=np.add(x1,x2)"
   ]
  },
  {
   "cell_type": "code",
   "execution_count": 23,
   "id": "2837c23c-7bbf-4ac7-b04d-c36cf8db274c",
   "metadata": {},
   "outputs": [
    {
     "data": {
      "text/plain": [
       "array([[ 0.,  2.,  4.],\n",
       "       [ 3.,  5.,  7.],\n",
       "       [ 6.,  8., 10.]])"
      ]
     },
     "execution_count": 23,
     "metadata": {},
     "output_type": "execute_result"
    }
   ],
   "source": [
    "s"
   ]
  },
  {
   "cell_type": "code",
   "execution_count": 31,
   "id": "f84b33bc-1132-44d5-8371-fa654dd4bdf8",
   "metadata": {},
   "outputs": [],
   "source": [
    "# to check none (all) of the element of array is zero then  we check through \n",
    "# np.all()"
   ]
  },
  {
   "cell_type": "code",
   "execution_count": 32,
   "id": "3ed3264b-7d78-4c89-bae7-c47e4eebc765",
   "metadata": {},
   "outputs": [],
   "source": [
    "# to check  whethere any element is  zero  or not \n",
    "# np.any()"
   ]
  },
  {
   "cell_type": "code",
   "execution_count": 29,
   "id": "e0880ff1-6077-4595-99c9-c2c583e22146",
   "metadata": {},
   "outputs": [],
   "source": [
    "s=np.array([1,0,2,5])"
   ]
  },
  {
   "cell_type": "code",
   "execution_count": 30,
   "id": "20e9b33f-cb51-4bf1-a3c2-8f5647f56794",
   "metadata": {},
   "outputs": [
    {
     "data": {
      "text/plain": [
       "False"
      ]
     },
     "execution_count": 30,
     "metadata": {},
     "output_type": "execute_result"
    }
   ],
   "source": [
    "np.all(s)"
   ]
  },
  {
   "cell_type": "code",
   "execution_count": 33,
   "id": "fbd66cff-2017-41e8-9278-88159d70629d",
   "metadata": {},
   "outputs": [],
   "source": [
    "s=np.array([1,4,2,5])"
   ]
  },
  {
   "cell_type": "code",
   "execution_count": 34,
   "id": "f32dfc9f-064e-4dbe-8446-94d367f3714c",
   "metadata": {},
   "outputs": [
    {
     "data": {
      "text/plain": [
       "True"
      ]
     },
     "execution_count": 34,
     "metadata": {},
     "output_type": "execute_result"
    }
   ],
   "source": [
    "np.all(s)"
   ]
  },
  {
   "cell_type": "code",
   "execution_count": 35,
   "id": "674ed1ae-369f-4a61-9bda-9a17169c67d1",
   "metadata": {},
   "outputs": [],
   "source": [
    "x=np.array([1,0,0,0]) # any() is used to  check "
   ]
  },
  {
   "cell_type": "code",
   "execution_count": 36,
   "id": "7a0e3f79-d649-47cb-a5e4-2dc6adb7b1b1",
   "metadata": {},
   "outputs": [
    {
     "data": {
      "text/plain": [
       "True"
      ]
     },
     "execution_count": 36,
     "metadata": {},
     "output_type": "execute_result"
    }
   ],
   "source": [
    "np.any(x)"
   ]
  },
  {
   "cell_type": "code",
   "execution_count": 37,
   "id": "29393f16-f44d-4c4a-9141-2c7bcd2a8bda",
   "metadata": {},
   "outputs": [],
   "source": [
    "c1=np.array([0,0,0,0]) "
   ]
  },
  {
   "cell_type": "code",
   "execution_count": 39,
   "id": "aceacd3e-a970-469b-87da-d98299d39468",
   "metadata": {},
   "outputs": [
    {
     "data": {
      "text/plain": [
       "False"
      ]
     },
     "execution_count": 39,
     "metadata": {},
     "output_type": "execute_result"
    }
   ],
   "source": [
    "np.any(c1) #here it gives False because there is no element other than 0"
   ]
  },
  {
   "cell_type": "code",
   "execution_count": 41,
   "id": "f7cfdb42-8c26-48d6-9cb3-8e1ebe4b3b57",
   "metadata": {},
   "outputs": [],
   "source": [
    "# ALways remember any() - is used to check that  is there any element other than 0(non-zero"
   ]
  },
  {
   "cell_type": "code",
   "execution_count": 42,
   "id": "57de4ab2-2528-4957-a5d4-518adf79c34b",
   "metadata": {},
   "outputs": [],
   "source": [
    "# and all()  is used to check whether there is  any element which  is zero"
   ]
  },
  {
   "cell_type": "code",
   "execution_count": 43,
   "id": "367bc005-2536-4d15-9efc-5a658cc6308a",
   "metadata": {},
   "outputs": [],
   "source": [
    "# all() -True - [1,2,3,5]\n",
    "# any() -True -[1,0,0,2]  "
   ]
  },
  {
   "cell_type": "code",
   "execution_count": 44,
   "id": "44c0893e-434e-4457-83a2-fc3b7f52d148",
   "metadata": {},
   "outputs": [],
   "source": [
    "a=np.array([1,0,np.nan,np.inf])"
   ]
  },
  {
   "cell_type": "code",
   "execution_count": 45,
   "id": "c2f3ea17-6059-4889-8e8e-93d2b1189785",
   "metadata": {},
   "outputs": [
    {
     "data": {
      "text/plain": [
       "array([ 1.,  0., nan, inf])"
      ]
     },
     "execution_count": 45,
     "metadata": {},
     "output_type": "execute_result"
    }
   ],
   "source": [
    "a"
   ]
  },
  {
   "cell_type": "code",
   "execution_count": 50,
   "id": "cff464f5-1cdf-4d53-99f6-62587f0ca090",
   "metadata": {},
   "outputs": [
    {
     "data": {
      "text/plain": [
       "array([ True,  True, False, False])"
      ]
     },
     "execution_count": 50,
     "metadata": {},
     "output_type": "execute_result"
    }
   ],
   "source": [
    "# to check the element wise for the  finiteness\n",
    "np.isfinite((a))"
   ]
  },
  {
   "cell_type": "code",
   "execution_count": 51,
   "id": "6a5244cc-5d38-4178-a012-bcadb8da57cb",
   "metadata": {},
   "outputs": [
    {
     "data": {
      "text/plain": [
       "array([False, False, False,  True])"
      ]
     },
     "execution_count": 51,
     "metadata": {},
     "output_type": "execute_result"
    }
   ],
   "source": [
    "# to  check the  element wise positive and negative infinity\n",
    "np.isinf((a))"
   ]
  },
  {
   "cell_type": "code",
   "execution_count": 52,
   "id": "5792c5c4-f26a-41d4-a45e-723f471accdb",
   "metadata": {},
   "outputs": [
    {
     "data": {
      "text/plain": [
       "array([False, False,  True, False])"
      ]
     },
     "execution_count": 52,
     "metadata": {},
     "output_type": "execute_result"
    }
   ],
   "source": [
    "# to check whether element is nan\n",
    "np.isnan((a))"
   ]
  },
  {
   "cell_type": "code",
   "execution_count": 53,
   "id": "9c51cade-ecf3-4994-b56e-2fbad9122d90",
   "metadata": {},
   "outputs": [],
   "source": [
    "s=np.array([1+1j, 1+0j, 4.5, 3, 2, 2j])"
   ]
  },
  {
   "cell_type": "code",
   "execution_count": 54,
   "id": "29818d8c-e9a5-44b2-a612-9799fbbb05a8",
   "metadata": {},
   "outputs": [
    {
     "data": {
      "text/plain": [
       "array([ True, False, False, False, False,  True])"
      ]
     },
     "execution_count": 54,
     "metadata": {},
     "output_type": "execute_result"
    }
   ],
   "source": [
    "np.iscomplex(s)"
   ]
  },
  {
   "cell_type": "code",
   "execution_count": 55,
   "id": "33705dae-7b61-4f35-9562-b14a80fde111",
   "metadata": {},
   "outputs": [
    {
     "data": {
      "text/plain": [
       "array([False,  True,  True,  True,  True, False])"
      ]
     },
     "execution_count": 55,
     "metadata": {},
     "output_type": "execute_result"
    }
   ],
   "source": [
    "np.isreal(s)"
   ]
  },
  {
   "cell_type": "code",
   "execution_count": 56,
   "id": "aa716f9a-e0ff-4311-ad6a-7089e7be094a",
   "metadata": {},
   "outputs": [
    {
     "data": {
      "text/plain": [
       "False"
      ]
     },
     "execution_count": 56,
     "metadata": {},
     "output_type": "execute_result"
    }
   ],
   "source": [
    "np.allclose([1.0,np.nan],[1.0,np.nan])"
   ]
  },
  {
   "cell_type": "code",
   "execution_count": 58,
   "id": "d2b7a541-bcee-4f2c-b19a-bcb8904291f3",
   "metadata": {},
   "outputs": [
    {
     "data": {
      "text/plain": [
       "True"
      ]
     },
     "execution_count": 58,
     "metadata": {},
     "output_type": "execute_result"
    }
   ],
   "source": [
    "np.allclose([1e10,1e-8],[1.00001e10,1e-9])"
   ]
  },
  {
   "cell_type": "code",
   "execution_count": 68,
   "id": "1d7fafee-411c-4a17-bf62-37ab4b19e9f1",
   "metadata": {},
   "outputs": [],
   "source": [
    "z=np.array([3,5])"
   ]
  },
  {
   "cell_type": "code",
   "execution_count": 66,
   "id": "30a91b7e-ec70-4df9-aad1-3db26fd08274",
   "metadata": {},
   "outputs": [],
   "source": [
    "l=np.array([2,5])"
   ]
  },
  {
   "cell_type": "code",
   "execution_count": 70,
   "id": "87817272-f941-47f8-9265-475cdcc64ded",
   "metadata": {},
   "outputs": [],
   "source": [
    "z1=np.array([1,5])"
   ]
  },
  {
   "cell_type": "code",
   "execution_count": 74,
   "id": "6a7bf36d-ad67-44f2-bda5-cb163042631f",
   "metadata": {},
   "outputs": [],
   "source": [
    "# Here term like  less equal,greater_equal  acts between the  two array  \n",
    "# np.greater_equal(z1,l) -> z1>=l  "
   ]
  },
  {
   "cell_type": "code",
   "execution_count": 75,
   "id": "4f5271e0-b840-42d9-91c4-5f15916c8040",
   "metadata": {},
   "outputs": [
    {
     "data": {
      "text/plain": [
       "array([False,  True])"
      ]
     },
     "execution_count": 75,
     "metadata": {},
     "output_type": "execute_result"
    }
   ],
   "source": [
    "np.greater_equal(z1,l)"
   ]
  },
  {
   "cell_type": "code",
   "execution_count": 76,
   "id": "b98a9202-87b8-4397-9fcd-2df2465ccba6",
   "metadata": {},
   "outputs": [
    {
     "data": {
      "text/plain": [
       "array([ True,  True])"
      ]
     },
     "execution_count": 76,
     "metadata": {},
     "output_type": "execute_result"
    }
   ],
   "source": [
    "np.greater_equal(z,l)"
   ]
  },
  {
   "cell_type": "code",
   "execution_count": 77,
   "id": "fa50624b-63f0-4a6e-be72-124d522e67d5",
   "metadata": {},
   "outputs": [
    {
     "data": {
      "text/plain": [
       "array([ True,  True])"
      ]
     },
     "execution_count": 77,
     "metadata": {},
     "output_type": "execute_result"
    }
   ],
   "source": [
    "np.less_equal(z1,l)"
   ]
  },
  {
   "cell_type": "code",
   "execution_count": null,
   "id": "63bd0840-3db8-4176-b079-781962108973",
   "metadata": {},
   "outputs": [],
   "source": []
  }
 ],
 "metadata": {
  "kernelspec": {
   "display_name": "Python 3 (ipykernel)",
   "language": "python",
   "name": "python3"
  },
  "language_info": {
   "codemirror_mode": {
    "name": "ipython",
    "version": 3
   },
   "file_extension": ".py",
   "mimetype": "text/x-python",
   "name": "python",
   "nbconvert_exporter": "python",
   "pygments_lexer": "ipython3",
   "version": "3.12.2"
  }
 },
 "nbformat": 4,
 "nbformat_minor": 5
}
